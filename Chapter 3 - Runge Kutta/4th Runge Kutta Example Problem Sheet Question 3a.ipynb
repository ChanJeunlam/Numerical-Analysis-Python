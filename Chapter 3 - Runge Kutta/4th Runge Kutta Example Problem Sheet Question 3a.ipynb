{
 "cells": [
  {
   "cell_type": "markdown",
   "metadata": {},
   "source": [
    "## Problem Sheet Question 3a\n",
    "\n",
    "The general form of the population growth differential equation\n",
    "$$ y^{'}=t-y, \\ \\ (0 \\leq t \\leq 4) $$\n",
    "with the initial condition\n",
    "$$y(0)=1$$\n",
    "For N=4\n",
    "with the analytic (exact) solution\n",
    "$$ y= 2e^{-t}+t-1$$\n",
    "\n",
    "# Runge Kutta Solution\n",
    "\n",
    "The Runge Kutta difference equation is\n",
    "$$w_{i+1} = w_{i} + \\frac{1}{6}(k_1+2k_2+2k_3+k_4) $$\n",
    "where\n",
    "$$k_1=h(t_i-w_i)$$\n",
    "$$k_2=h(t_i+\\frac{h}{2}-(w_i+\\frac{1}{2}k_1))$$\n",
    "$$k_3=h(t_i+\\frac{h}{2}-(w_i+\\frac{1}{2}k_2))$$\n",
    "$$k_4=h(t_i+h-(w_i+k_3))$$"
   ]
  },
  {
   "cell_type": "code",
   "execution_count": 1,
   "metadata": {
    "collapsed": true
   },
   "outputs": [],
   "source": [
    "import numpy as np\n",
    "import math \n",
    "\n",
    "%matplotlib inline\n",
    "import matplotlib.pyplot as plt # side-stepping mpl backend\n",
    "import matplotlib.gridspec as gridspec # subplots\n",
    "import warnings\n",
    "\n",
    "warnings.filterwarnings(\"ignore\")\n"
   ]
  },
  {
   "cell_type": "code",
   "execution_count": 2,
   "metadata": {
    "collapsed": true
   },
   "outputs": [],
   "source": [
    "def myfun_ty(t,y):\n",
    "    return t-y\n",
    "\n",
    "\n",
    "\n",
    "#PLOTS\n",
    "def RK4_Question2(N,IC):\n",
    "\n",
    "    x_end=4\n",
    "    x_start=0\n",
    "    INTITIAL_CONDITION=IC\n",
    "    h=x_end/(N)\n",
    "    N=N+2;\n",
    "    k_list=np.zeros(N)\n",
    "    t=np.zeros(N)\n",
    "    w=np.zeros(N)\n",
    "    k_mat=np.zeros((4,N-1))\n",
    "    Analytic_Solution=np.zeros(N)\n",
    "    k=0\n",
    "    w[0]=INTITIAL_CONDITION\n",
    "    Analytic_Solution[0]=INTITIAL_CONDITION\n",
    "    t[0]=x_start\n",
    "    k_list[k]=k\n",
    "    for k in range (0,N-1):\n",
    "        k_mat[0,k]=myfun_ty(t[k],w[k])\n",
    "        k_mat[1,k]=myfun_ty(t[k]+h/2.0,w[k]+h/2.0*k_mat[0,k])\n",
    "        k_mat[2,k]=myfun_ty(t[k]+h/2.0,w[k]+h/2.0*k_mat[1,k])\n",
    "        k_mat[3,k]=myfun_ty(t[k]+h,w[k]+h*k_mat[2,k])\n",
    "        w[k+1]=w[k]+h/6.0*(k_mat[0,k]+2*k_mat[1,k]+2*k_mat[2,k]+k_mat[3,k])\n",
    "        t[k+1]=t[k]+h\n",
    "        k_list[k+1]=k+1\n",
    "        Analytic_Solution[k+1]=2*math.exp(-t[k+1])+t[k+1]-1\n",
    "\n",
    "    fig = plt.figure(figsize=(10,4))\n",
    "    # --- left hand plot\n",
    "    ax = fig.add_subplot(1,3,1)\n",
    "    plt.plot(t,w,color='red')\n",
    "    #ax.legend(loc='best')\n",
    "    plt.title('Numerical Solution h=%s'%(h))\n",
    "\n",
    "    # --- right hand plot\n",
    "    ax = fig.add_subplot(1,3,2)\n",
    "    plt.plot(t,Analytic_Solution,color='blue')\n",
    "    plt.title('Analytic Solution')\n",
    "\n",
    "   \n",
    "    ax = fig.add_subplot(1,3,3)\n",
    "    plt.plot(t,Analytic_Solution-w,color='blue')\n",
    "    plt.title('Error')\n",
    " # --- title, explanatory text and save\n",
    "\n",
    "\n",
    "\n",
    "    # --- title, explanatory text and save\n",
    "    fig.suptitle(r\"$y'=t-y$\", fontsize=20)\n",
    "    plt.tight_layout()\n",
    "    plt.subplots_adjust(top=0.85)    \n",
    "    print(t)\n",
    "    print(Analytic_Solution)\n",
    "    print(w)\n",
    "    print(k_mat)"
   ]
  },
  {
   "cell_type": "code",
   "execution_count": 3,
   "metadata": {
    "collapsed": false
   },
   "outputs": [
    {
     "name": "stdout",
     "output_type": "stream",
     "text": [
      "[ 0.  1.  2.  3.  4.  5.]\n",
      "[ 1.          0.73575888  1.27067057  2.09957414  3.03663128  4.01347589]\n",
      "[ 1.          0.75        1.28125     2.10546875  3.03955078  4.01483154]\n",
      "[[-1.          0.25        0.71875     0.89453125  0.96044922]\n",
      " [ 0.          0.625       0.859375    0.94726562  0.98022461]\n",
      " [-0.5         0.4375      0.7890625   0.92089844  0.97033691]\n",
      " [ 0.5         0.8125      0.9296875   0.97363281  0.9901123 ]]\n"
     ]
    },
    {
     "data": {
      "image/png": "[encoded data removed]",
      "text/plain": [
       "<matplotlib.figure.Figure at 0x7f75ebb60be0>"
      ]
     },
     "metadata": {},
     "output_type": "display_data"
    }
   ],
   "source": [
    "RK4_Question2(4,1)"
   ]
  },
  {
   "cell_type": "code",
   "execution_count": null,
   "metadata": {
    "collapsed": true
   },
   "outputs": [],
   "source": []
  }
 ],
 "metadata": {
  "kernelspec": {
   "display_name": "Python 3",
   "language": "python",
   "name": "python3"
  },
  "language_info": {
   "codemirror_mode": {
    "name": "ipython",
    "version": 3
   },
   "file_extension": ".py",
   "mimetype": "text/x-python",
   "name": "python",
   "nbconvert_exporter": "python",
   "pygments_lexer": "ipython3",
   "version": "3.4.1"
  }
 },
 "nbformat": 4,
 "nbformat_minor": 0
}
