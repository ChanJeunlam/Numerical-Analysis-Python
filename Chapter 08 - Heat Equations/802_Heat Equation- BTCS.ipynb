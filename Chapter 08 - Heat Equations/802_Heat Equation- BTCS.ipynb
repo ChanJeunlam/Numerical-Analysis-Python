{
  "nbformat": 4,
  "nbformat_minor": 0,
  "metadata": {
    "kernelspec": {
      "display_name": "Python 3",
      "language": "python",
      "name": "python3"
    },
    "language_info": {
      "codemirror_mode": {
        "name": "ipython",
        "version": 3
      },
      "file_extension": ".py",
      "mimetype": "text/x-python",
      "name": "python",
      "nbconvert_exporter": "python",
      "pygments_lexer": "ipython3",
      "version": "3.7.9"
    },
    "colab": {
      "name": "802_Heat Equation- BTCS.ipynb",
      "provenance": [],
      "include_colab_link": true
    }
  },
  "cells": [
    {
      "cell_type": "markdown",
      "metadata": {
        "id": "view-in-github",
        "colab_type": "text"
      },
      "source": [
        "<a href=\"https://colab.research.google.com/github/john-s-butler-dit/Numerical-Analysis-Python/blob/master/Chapter%2008%20-%20Heat%20Equations/802_Heat%20Equation-%20BTCS.ipynb\" target=\"_parent\"><img src=\"https://colab.research.google.com/assets/colab-badge.svg\" alt=\"Open In Colab\"/></a>"
      ]
    },
    {
      "cell_type": "markdown",
      "metadata": {
        "id": "ZEh-LSv_vsxt"
      },
      "source": [
        "# The Implicit Backward Time Centered Space (BTCS) Difference Equation for the Heat Equation\n",
        "#### John S Butler john.s.butler@tudublin.ie   [Course Notes](https://johnsbutler.netlify.com/files/Teaching/Numerical_Analysis_for_Differential_Equations.pdf)    [Github](https://github.com/john-s-butler-dit/Numerical-Analysis-Python)\n",
        "## Overview\n",
        "This notebook will implement the implicit Backward Time Centered Space (FTCS) Difference method for the Heat Equation.\n",
        "## The Heat Equation\n",
        "The Heat Equation is the first order in time ($t$) and second order in space ($x$) Partial Differential Equation: \n",
        "$$  \\frac{\\partial u}{\\partial t} = \\frac{\\partial^2 u}{\\partial x^2},$$\n",
        "the equation describes heat transfer on a domain\n",
        "$$ \\Omega = \\{ t \\geq, 0\\leq x \\leq 1\\}. $$\n",
        "with an initial condition at time $t=0$ for all $x$ and boundary condition on the left ($x=0$) and right side ($x=1$).\n",
        "\n",
        "## Backward Time Centered Space (BTCS) Difference method\n",
        "This notebook will illustrate the Backward Time Centered Space (BTCS) Difference method for the Heat Equation with the __initial conditions__  \n",
        "$$ u(x,0)=2x, \\ \\ 0 \\leq x \\leq \\frac{1}{2}, $$\n",
        "$$ u(x,0)=2(1-x), \\ \\ \\frac{1}{2}  \\leq x \\leq 1, $$\n",
        "and __boundary condition__\n",
        "$$ u(0,t)=0,  u(1,t)=0. $$\n"
      ]
    },
    {
      "cell_type": "code",
      "metadata": {
        "id": "IxC0J02Mvsxv"
      },
      "source": [
        "# LIBRARY\n",
        "# vector manipulation\n",
        "import numpy as np\n",
        "# math functions\n",
        "import math \n",
        "\n",
        "# THIS IS FOR PLOTTING\n",
        "%matplotlib inline\n",
        "import matplotlib.pyplot as plt # side-stepping mpl backend\n",
        "import warnings\n",
        "warnings.filterwarnings(\"ignore\")"
      ],
      "execution_count": null,
      "outputs": []
    },
    {
      "cell_type": "markdown",
      "metadata": {
        "id": "CfCSpPH0vsx2"
      },
      "source": [
        "## Discete Grid\n",
        "The region $\\Omega$ is discretised into a uniform mesh $\\Omega_h$. In the space $x$ direction into $N$ steps giving a stepsize of\n",
        "$$ h=\\frac{1-0}{N},$$\n",
        "resulting in \n",
        "$$x[i]=0+ih, \\ \\ \\  i=0,1,...,N,$$\n",
        "and into $N_t$ steps in the time $t$ direction giving a stepsize of \n",
        "$$ k=\\frac{1-0}{N_t}$$\n",
        "resulting in \n",
        "$$t[i]=0+ik, \\ \\ \\ k=0,...,K.$$\n",
        "The Figure below shows the discrete grid points for $N=10$ and $Nt=100$,  the known boundary conditions (green), initial conditions (blue) and the unknown values (red) of the Heat Equation."
      ]
    },
    {
      "cell_type": "code",
      "metadata": {
        "id": "n-22KZbuvsx3",
        "outputId": "8db21a66-437d-4640-97eb-e7a7b61b1f1e"
      },
      "source": [
        "N=10\n",
        "Nt=100\n",
        "h=1/N\n",
        "k=1/Nt\n",
        "r=k/(h*h)\n",
        "time_steps=15\n",
        "time=np.arange(0,(time_steps+.5)*k,k)\n",
        "x=np.arange(0,1.0001,h)\n",
        "X, Y = np.meshgrid(x, time)\n",
        "fig = plt.figure()\n",
        "plt.plot(X,Y,'ro');\n",
        "plt.plot(x,0*x,'bo',label='Initial Condition');\n",
        "plt.plot(np.ones(time_steps+1),time,'go',label='Boundary Condition');\n",
        "plt.plot(x,0*x,'bo');\n",
        "plt.plot(0*time,time,'go');\n",
        "plt.xlim((-0.02,1.02))\n",
        "plt.xlabel('x')\n",
        "plt.ylabel('time (ms)')\n",
        "plt.legend(loc='center left', bbox_to_anchor=(1, 0.5))\n",
        "plt.title(r'Discrete Grid $\\Omega_h,$ h= %s, k=%s'%(h,k),fontsize=24,y=1.08)\n",
        "plt.show();"
      ],
      "execution_count": null,
      "outputs": [
        {
          "output_type": "display_data",
          "data": {
            "image/png": "[encoded data removed]",
            "text/plain": [
              "<Figure size 432x288 with 1 Axes>"
            ]
          },
          "metadata": {
            "tags": [],
            "needs_background": "light"
          }
        }
      ]
    },
    {
      "cell_type": "markdown",
      "metadata": {
        "id": "P56aUMtTvsx8"
      },
      "source": [
        "## Discrete Initial and Boundary Conditions\n",
        "\n",
        "The discrete initial conditions are \n",
        "$$ w[i,0]=2x[i], \\ \\ 0 \\leq x[i] \\leq \\frac{1}{2} $$\n",
        "$$ w[i,0]=2(1-x[i]), \\ \\ \\frac{1}{2}  \\leq x[i] \\leq 1 $$\n",
        "and the discete boundary conditions are \n",
        "$$ w[0,j]=0,  w[10,j]=0, $$\n",
        "where $w[i,j]$ is the numerical approximation of $U(x[i],t[j])$.\n",
        "\n",
        "The Figure below plots values of $w[i,0]$ for the inital (blue) and boundary (red) conditions for $t[0]=0.$"
      ]
    },
    {
      "cell_type": "code",
      "metadata": {
        "id": "JoQfiuyNvsx9",
        "outputId": "eb170776-7e40-4268-9388-1b9bd268144b"
      },
      "source": [
        "w=np.zeros((N+1,time_steps+1))\n",
        "b=np.zeros(N-1)\n",
        "# Initial Condition\n",
        "for i in range (1,N):\n",
        "    w[i,0]=2*x[i]\n",
        "    if x[i]>0.5:\n",
        "        w[i,0]=2*(1-x[i])\n",
        "    \n",
        "\n",
        "# Boundary Condition\n",
        "for k in range (0,time_steps):\n",
        "    w[0,k]=0\n",
        "    w[N,k]=0\n",
        "\n",
        "fig = plt.figure(figsize=(8,4))\n",
        "plt.plot(x,w[:,0],'o:',label='Initial Condition')\n",
        "plt.plot(x[[0,N]],w[[0,N],0],'go',label='Boundary Condition t[0]=0')\n",
        "#plt.plot(x[N],w[N,0],'go')\n",
        "plt.xlim([-0.1,1.1])\n",
        "plt.ylim([-0.1,1.1])\n",
        "plt.title('Intitial and Boundary Condition',fontsize=24)\n",
        "plt.xlabel('x')\n",
        "plt.ylabel('w')\n",
        "plt.legend(loc='best')\n",
        "plt.show()"
      ],
      "execution_count": null,
      "outputs": [
        {
          "output_type": "display_data",
          "data": {
            "image/png": "[encoded data removed]",
            "text/plain": [
              "<Figure size 576x288 with 1 Axes>"
            ]
          },
          "metadata": {
            "tags": [],
            "needs_background": "light"
          }
        }
      ]
    },
    {
      "cell_type": "markdown",
      "metadata": {
        "id": "7XFEyaDFvsx_"
      },
      "source": [
        "## The Implicit Backward Time Centered Space (BTCS) Difference Equation\n",
        "\n",
        "\n",
        "\n",
        "The implicit Backward Time Centered Space (BTCS) difference equation of the Heat Equation is derived by discretising \n",
        "$$  \\frac{\\partial u_{ij+1}}{\\partial t} = \\frac{\\partial^2 u_{ij+1}}{\\partial x^2},$$\n",
        "around $(x_i,t_{j+1})$ giving the difference equation\n",
        "$$\n",
        "\\frac{w_{ij+1}-w_{ij}}{k}=\\frac{w_{i+1j+1}-2w_{ij+1}+w_{i-1j+1}}{h^2}\n",
        "$$\n",
        "Rearranging the equation we get\n",
        "$$\n",
        "-rw_{i-1j+1}+(1+2r)w_{ij+1}-rw_{i+1j+1}=w_{ij}\n",
        "$$\n",
        "for $i=1,...9$ where $r=\\frac{k}{h^2}$.\n",
        "\n",
        "This gives the formula for the unknown term $w_{ij+1}$ at the $(ij+1)$ mesh points\n",
        "in terms of $x[i]$ along the jth time row.\n",
        "\n",
        "Hence we can calculate the unknown pivotal values of $w$ along the first row of $j=1$ in terms of the known boundary conditions.\n",
        "\n",
        "This can be written in matrix form \n",
        "$$ A\\mathbf{w}_{j+1}=\\mathbf{w}_{j} +\\mathbf{b}_{j+1} $$\n",
        "for which $A$ is a $9\\times9$ matrix:\n",
        "$$\n",
        "\\left(\\begin{array}{cccc cccc}\n",
        "1+2r&-r& 0&0&0 &0&0&0\\\\\n",
        "-r&1+2r&-r&0&0&0 &0&0&0\\\\\n",
        "0&-r&1+2r &-r&0&0& 0&0&0\\\\\n",
        "0&0&-r&1+2r &-r&0&0& 0&0\\\\\n",
        "0&0&0&-r&1+2r &-r&0&0& 0\\\\\n",
        "0&0&0&0&-r&1+2r &-r&0&0\\\\\n",
        "0&0&0&0&0&-r&1+2r &-r&0\\\\\n",
        "0&0&0&0&0&0&-r&1+2r&-r\\\\\n",
        "0&0&0&0&0&0&0&-r&1+2r\\\\\n",
        "\\end{array}\\right)\n",
        "\\left(\\begin{array}{c}\n",
        "w_{1j+1}\\\\\n",
        "w_{2j+1}\\\\\n",
        "w_{3j+1}\\\\\n",
        "w_{4j+1}\\\\\n",
        "w_{5j+1}\\\\\n",
        "w_{6j+1}\\\\\n",
        "w_{7j+1}\\\\\n",
        "w_{8j+1}\\\\\n",
        "w_{9j+1}\\\\\n",
        "\\end{array}\\right)=\n",
        "\\left(\\begin{array}{c}\n",
        "w_{1j}\\\\\n",
        "w_{2j}\\\\\n",
        "w_{3j}\\\\\n",
        "w_{4j}\\\\\n",
        "w_{5j}\\\\\n",
        "w_{6j}\\\\\n",
        "w_{7j}\\\\\n",
        "w_{8j}\\\\\n",
        "w_{9j}\\\\\n",
        "\\end{array}\\right)+\n",
        "\\left(\\begin{array}{c}\n",
        "rw_{0j+1}\\\\\n",
        "0\\\\\n",
        "0\\\\\n",
        "0\\\\\n",
        "0\\\\\n",
        "0\\\\\n",
        "0\\\\\n",
        "0\\\\\n",
        "rw_{10j+1}\\\\\n",
        "\\end{array}\\right).\n",
        "$$\n",
        "It is assumed that the boundary values $w_{0j+1}$ and $w_{10j+1}$ are known for $j=1,2,...$, and $w_{i0}$ for $i=0,...,10$ is the initial condition.\n",
        "The Figure below shows the values of the $9\\times 9$  matrix in colour plot form for $r=\\frac{k}{h^2}$."
      ]
    },
    {
      "cell_type": "code",
      "metadata": {
        "id": "bRoZUXdLvsyA",
        "outputId": "4a8b3e44-f7ff-4ac0-b28d-31814083fdd9"
      },
      "source": [
        "A=np.zeros((N-1,N-1))\n",
        "for i in range (0,N-1):\n",
        "    A[i,i]=1+2*r\n",
        "\n",
        "for i in range (0,N-2):           \n",
        "    A[i+1,i]=-r\n",
        "    A[i,i+1]=-r\n",
        "    \n",
        "Ainv=np.linalg.inv(A)   \n",
        "fig = plt.figure(figsize=(12,4));\n",
        "plt.subplot(121)\n",
        "plt.imshow(A,interpolation='none');\n",
        "plt.xticks(np.arange(N-1), np.arange(1,N-0.9,1));\n",
        "plt.yticks(np.arange(N-1), np.arange(1,N-0.9,1));\n",
        "clb=plt.colorbar();\n",
        "clb.set_label('Matrix elements values');\n",
        "#clb.set_clim((-1,1));\n",
        "plt.title('Matrix A r=%s'%(np.round(r,3)),fontsize=24)\n",
        "\n",
        "plt.subplot(122)\n",
        "plt.imshow(Ainv,interpolation='none');\n",
        "plt.xticks(np.arange(N-1), np.arange(1,N-0.9,1));\n",
        "plt.yticks(np.arange(N-1), np.arange(1,N-0.9,1));\n",
        "clb=plt.colorbar();\n",
        "clb.set_label('Matrix elements values');\n",
        "#clb.set_clim((-1,1));\n",
        "plt.title(r'Matrix $A^{-1}$ r=%s'%(np.round(r,3)),fontsize=24)\n",
        "\n",
        "fig.tight_layout()\n",
        "plt.show();"
      ],
      "execution_count": null,
      "outputs": [
        {
          "output_type": "display_data",
          "data": {
            "image/png": "[encoded data removed]",
            "text/plain": [
              "<Figure size 864x288 with 4 Axes>"
            ]
          },
          "metadata": {
            "tags": [],
            "needs_background": "light"
          }
        }
      ]
    },
    {
      "cell_type": "markdown",
      "metadata": {
        "id": "mJKjl_jNvsyC"
      },
      "source": [
        "## Results\n",
        "To numerically approximate the solution at $t[1]$ the matrix equation becomes \n",
        "$$ \\mathbf{w}_{1}=A^{-1}(\\mathbf{w}_{0} +\\mathbf{b}_{1}) $$\n",
        "where all the right hand side is known. \n",
        "To approximate solution at time $t[2]$ we use the matrix equation\n",
        "$$ \\mathbf{w}_{2}=A^{-1}(\\mathbf{w}_{1} +\\mathbf{b}_{2}). $$\n",
        "Each set of numerical solutions $w[i,j]$ for all $i$ at the previous time step is used to approximate the solution $w[i,j+1]$. \n",
        "The Figure below shows the numerical approximation $w[i,j]$ of the Heat Equation using the FTCS method at $x[i]$ for $i=0,...,10$ and time steps $t[j]$ for $j=1,...,15$. The left plot shows the numerical approximation $w[i,j]$ as a function of $x[i]$ with each color representing the different time steps $t[j]$. The right plot shows the numerical approximation $w[i,j]$ as colour plot as a function of $x[i]$, on the $x[i]$ axis and time $t[j]$ on the $y$ axis. \n",
        "The solution is stable for $r>\\frac{1}{2}$ unlike in the explicit method."
      ]
    },
    {
      "cell_type": "code",
      "metadata": {
        "id": "H_6PLzn7vsyD"
      },
      "source": [
        "fig = plt.figure(figsize=(12,6))\n",
        "\n",
        "plt.subplot(121)\n",
        "for j in range (1,time_steps+1):\n",
        "    b[0]=r*w[0,j]\n",
        "    b[N-2]=r*w[N,j]\n",
        "    w[1:(N),j]=np.dot(Ainv,w[1:(N),j-1]+b)\n",
        "    plt.plot(x,w[:,j],'o:',label='t[%s]=%s'%(j,time[j]))\n",
        "plt.xlabel('x')\n",
        "plt.ylabel('w')\n",
        "#plt.legend(loc='bottom', bbox_to_anchor=(0.5, -0.1))\n",
        "plt.legend(bbox_to_anchor=(-.4, 1), loc=2, borderaxespad=0.)\n",
        "\n",
        "plt.subplot(122)\n",
        "plt.imshow(w.transpose())\n",
        "plt.xticks(np.arange(len(x)), x)\n",
        "plt.yticks(np.arange(len(time)), time)\n",
        "plt.xlabel('x')\n",
        "plt.ylabel('time')\n",
        "clb=plt.colorbar()\n",
        "clb.set_label('Temperature (w)')\n",
        "plt.suptitle('Numerical Solution of the  Heat Equation r=%s'%(np.round(r,3)),fontsize=24,y=1.08)\n",
        "fig.tight_layout()\n",
        "plt.show()"
      ],
      "execution_count": null,
      "outputs": []
    },
    {
      "cell_type": "markdown",
      "metadata": {
        "collapsed": true,
        "id": "GPsJAJyNvsyE"
      },
      "source": [
        "## Local Trunction Error\n",
        "The local truncation error of the classical implicit difference approach to \n",
        "\\begin{equation}\n",
        "\\frac{\\partial U}{\\partial t} - \\frac{\\partial^2 U}{\\partial x^2}=0,\n",
        "\\end{equation} \n",
        "with\n",
        "\n",
        "\\begin{equation}\n",
        "F_{ij+1}(w)=\\frac{w_{ij+1}-w_{ij}}{k}-\\frac{w_{i+1j+1}-2w_{ij+1}+w_{i-1j+1}}{h^2}=0,\n",
        "\\end{equation} \n",
        "is \n",
        "\\begin{equation}\n",
        "T_{ij+1}=F_{ij+1}(U)=\\frac{U_{ij+1}-U_{ij}}{k}-\\frac{U_{i+1j+1}-2U_{ij+1}+U_{i-1j+1}}{h^2},\n",
        "\\end{equation} \n",
        "By Taylors expansions we have\n",
        "\\begin{eqnarray*}\n",
        "U_{i+1j}&=&U((i+1)h,(j+1)k)=U(x_i+h,t_{j+1})\\\\\n",
        "&=&U_{ij+1}+h\\left(\\frac{\\partial U}{\\partial x} \\right)_{ij+1}+\\frac{h^2}{2}\\left(\\frac{\\partial^2 U}{\\partial x^2} \\right)_{ij+1}+\\frac{h^3}{6}\\left(\\frac{\\partial^3 U}{\\partial x^3} \\right)_{ij+1} +...\\\\\n",
        "U_{i-1j}&=&U((i-1)h,(j+1)k)=U(x_i-h,t_{j+1})\\\\\n",
        "&=&U_{ij+1}-h\\left(\\frac{\\partial U}{\\partial x} \\right)_{ij+1}+\\frac{h^2}{2}\\left(\\frac{\\partial^2 U}{\\partial x^2} \\right)_{ij+1}-\\frac{h^3}{6}\\left(\\frac{\\partial^3 U}{\\partial x^3} \\right)_{ij+1} +...\\\\\n",
        "U_{ij}&=&U(ih,(j)k)=U(x_i,t_j)\\\\\n",
        "&=&U_{ij+1}-k\\left(\\frac{\\partial U}{\\partial t} \\right)_{ij+1}+\\frac{k^2}{2}\\left(\\frac{\\partial^2 U}{\\partial t^2} \\right)_{ij+1}-\\frac{k^3}{6}\\left(\\frac{\\partial^3 U}{\\partial t^3} \\right)_{ij+1} +...\n",
        "\\end{eqnarray*}\n",
        "\n",
        "substitution into the expression for $T_{ij+1}$ then gives\n",
        "\n",
        "\\begin{eqnarray*}\n",
        "T_{ij+1}&=&\\left(\\frac{\\partial U}{\\partial t} - \\frac{\\partial^2 U}{\\partial x^2} \\right)_{ij+1}+\\frac{k}{2}\\left(\\frac{\\partial^2 U}{\\partial t^2} \\right)_{ij+1}\n",
        "-\\frac{h^2}{12}\\left(\\frac{\\partial^4 U}{\\partial x^4} \\right)_{ij+1}\\\\\n",
        "& &\t+\\frac{k^2}{6}\\left(\\frac{\\partial^3 U}{\\partial t^3} \\right)_{ij+1}\n",
        "-\\frac{h^4}{360}\\left(\\frac{\\partial^6 U}{\\partial x^6} \\right)_{ij+1}+ ...\n",
        "\\end{eqnarray*}\n",
        "But $U$ is the solution to the differential equation so\n",
        "\\begin{equation} \\left(\\frac{\\partial U}{\\partial t} - \\frac{\\partial^2 U}{\\partial x^2} \\right)_{ij+1}=0,\\end{equation} \n",
        "\n",
        "the principal part of the local truncation error is \n",
        "\n",
        "\\begin{equation}\n",
        "\\frac{k}{2}\\left(\\frac{\\partial^2 U}{\\partial t^2} \\right)_{ij+1}-\\frac{h^2}{12}\\left(\\frac{\\partial^4 U}{\\partial x^4} \\right)_{ij+1}.\n",
        "\\end{equation} \n",
        "\n",
        "\n",
        "\n",
        "Hence the truncation error is\n",
        "\\begin{equation} \n",
        "T_{ij}=O(k)+O(h^2).\n",
        "\\end{equation} "
      ]
    },
    {
      "cell_type": "markdown",
      "metadata": {
        "collapsed": true,
        "id": "-jhm6ZxGvsyE"
      },
      "source": [
        "## Stability Analyis \n",
        "\n",
        "To investigating the stability of the fully implicit BTCS difference method of the Heat Equation, we will use the von Neumann method.\n",
        "The FTCS difference equation is:\n",
        "$$\\frac{1}{k}(w_{pq+1}-w_{pq})=\\frac{1}{h_x^2}(w_{p-1q+1}-2w_{pq+1}+w_{p+1q+1}),$$\n",
        "approximating \n",
        "$$\\frac{\\partial U}{\\partial t}=\\frac{\\partial^2 U}{\\partial x^2}$$\n",
        "\n",
        "at $(ph,k(q+1))$. Substituting $w_{pq}=e^{i\\beta x}\\xi^{q}$ into the difference equation gives: \n",
        "$$e^{i\\beta ph}\\xi^{q+1}-e^{i\\beta ph}\\xi^{q}=r\\{e^{i\\beta (p-1)h}\\xi^{q+1}-2e^{i\\beta ph}\\xi^{q+1}+e^{i\\beta (p+1)h}\\xi^{q+1} \\}\n",
        "$$\n",
        "\n",
        "where $r=\\frac{k}{h_x^2}$. Divide across by $e^{i\\beta (p)h}\\xi^{q}$ leads to\n",
        "\n",
        "$$ \\xi-1=r \\xi (e^{i\\beta (-1)h} -2+e^{i\\beta h}), $$\n",
        "\n",
        "$$\\xi-\\xi r (2\\cos(\\beta h)-2)= 1,$$\n",
        "\n",
        "$$\\xi(1+4r\\sin^2(\\beta\\frac{h}{2})) =1$$\n",
        "Hence \n",
        "$$\\xi=\\frac{1}{(1+4r\\sin^2(\\beta\\frac{h}{2}))} \\leq 1$$\n",
        "therefore the equation is unconditionally stable as $0 < \\xi \\leq 1$ for all $r$ and all $\\beta$ ."
      ]
    },
    {
      "cell_type": "markdown",
      "metadata": {
        "id": "5YFx_sXEvsyF"
      },
      "source": [
        "## References\n",
        "[1] G D Smith Numerical Solution of Partial Differential Equations: Finite Difference Method Oxford 1992\n",
        "\n",
        "[2] Butler, J. (2019). John S Butler Numerical Methods for Differential Equations. [online] Maths.dit.ie. Available at: http://www.maths.dit.ie/~johnbutler/Teaching_NumericalMethods.html [Accessed 14 Mar. 2019].\n",
        "\n",
        "[3] Wikipedia contributors. (2019, February 22). Heat equation. In Wikipedia, The Free Encyclopedia. Available at: https://en.wikipedia.org/w/index.php?title=Heat_equation&oldid=884580138 [Accessed 14 Mar. 2019].\n",
        "\n",
        "\n"
      ]
    }
  ]
}