{
 "cells": [
  {
   "cell_type": "markdown",
   "metadata": {},
   "source": [
    "# Question 4 2nd Order Initial Value Problem"
   ]
  },
  {
   "cell_type": "code",
   "execution_count": 1,
   "metadata": {},
   "outputs": [
    {
     "data": {
      "text/html": [
       "<script>\n",
       "code_show=true; \n",
       "function code_toggle() {\n",
       " if (code_show){\n",
       " $('div.input').hide();\n",
       " } else {\n",
       " $('div.input').show();\n",
       " }\n",
       " code_show = !code_show\n",
       "} \n",
       "$( document ).ready(code_toggle);\n",
       "</script>\n",
       "<form action=\"javascript:code_toggle()\"><input type=\"submit\" value=\"Click here to toggle on/off the raw code.\"></form>"
      ],
      "text/plain": [
       "<IPython.core.display.HTML object>"
      ]
     },
     "execution_count": 1,
     "metadata": {},
     "output_type": "execute_result"
    }
   ],
   "source": [
    "import numpy as np\n",
    "import math \n",
    "\n",
    "%matplotlib inline\n",
    "import matplotlib.pyplot as plt # side-stepping mpl backend\n",
    "import matplotlib.gridspec as gridspec # subplots\n",
    "import warnings\n",
    "## To output results as a nice table\n",
    "class ListTable(list):\n",
    "    \"\"\" Overridden list class which takes a 2-dimensional list of \n",
    "        the form [[1,2,3],[4,5,6]], and renders an HTML Table in \n",
    "        IPython Notebook. \"\"\"\n",
    "    \n",
    "    def _repr_html_(self):\n",
    "        html = [\"<table>\"]\n",
    "        for row in self:\n",
    "            html.append(\"<tr>\")\n",
    "            \n",
    "            for col in row:\n",
    "                html.append(\"<td>{0}</td>\".format(col))\n",
    "            \n",
    "            html.append(\"</tr>\")\n",
    "        html.append(\"</table>\")\n",
    "        return ''.join(html)\n",
    "from IPython.display import HTML\n",
    "warnings.filterwarnings(\"ignore\")\n",
    "HTML('''<script>\n",
    "code_show=true; \n",
    "function code_toggle() {\n",
    " if (code_show){\n",
    " $('div.input').hide();\n",
    " } else {\n",
    " $('div.input').show();\n",
    " }\n",
    " code_show = !code_show\n",
    "} \n",
    "$( document ).ready(code_toggle);\n",
    "</script>\n",
    "<form action=\"javascript:code_toggle()\"><input type=\"submit\" value=\"Click here to toggle on/off the raw code.\"></form>''')\n",
    "\n"
   ]
  },
  {
   "cell_type": "markdown",
   "metadata": {},
   "source": [
    "Consider the 2nd order initial value problem,\n",
    "$$y''=-1.5y'+5.0y+e^{2t},$$\n",
    "with the initial conditions\n",
    "$$ y(0)=3, \\text{ and } y'(0)=1. $$\n",
    "The Euler midpoint method is\n",
    "$$w_{i+1}=w_i+hf(t_i+\\frac{h}{2},w_i+\\frac{h}{2}k_1),$$\n",
    "where $h$ is the stepsize and \n",
    "$$k_1=f(t_i,w_i).$$\n",
    "To discretise the IVP seperate into two initial value problems\n",
    "$$z'=-1.5z+5.0y+e^{2t},$$\n",
    "$$y'=z,$$\n",
    "and apply the midpoint method\n",
    "$$z_{i+1}=z_i+h[-1.5(z_i+\\frac{h}{2}k_z)+5.0(y_i+\\frac{h}{2}k_y)+e^{2t_i+\\frac{h}{2}}],$$\n",
    "$$y_{i+1}=y_i+h[z_i+\\frac{h}{2}k_z],$$\n",
    "where\n",
    "$$k_z=[-1.5z_i+5.0y_i+e^{2t_i}],$$\n",
    "$$k_y=[z_i],$$\n",
    "and $h$ is the stepsize.\n"
   ]
  },
  {
   "cell_type": "code",
   "execution_count": 2,
   "metadata": {},
   "outputs": [],
   "source": [
    "N=5\n",
    "t_end=2.0\n",
    "t_start=0.0\n",
    "h=((t_end-t_start)/N)\n",
    "\n",
    "time=np.arange(t_start,t_end+h/2,h)\n"
   ]
  },
  {
   "cell_type": "code",
   "execution_count": 3,
   "metadata": {},
   "outputs": [],
   "source": [
    "def myfun_u(t,y,dy):\n",
    "    ftw=-1.5*dy+5.0*y+math.exp(2*t)\n",
    "    return ftw\n"
   ]
  },
  {
   "cell_type": "code",
   "execution_count": 4,
   "metadata": {
    "scrolled": true
   },
   "outputs": [
    {
     "name": "stdout",
     "output_type": "stream",
     "text": [
      "Plot of numerical aproximation of the solution (y_i) and the derivative (z_i):\n"
     ]
    },
    {
     "data": {
      "image/png": "[encoded data removed]",
      "text/plain": [
       "<Figure size 864x288 with 1 Axes>"
      ]
     },
     "metadata": {
      "needs_background": "light"
     },
     "output_type": "display_data"
    }
   ],
   "source": [
    "z=np.zeros(N+1)\n",
    "k_z=np.zeros(N+1)\n",
    "k_y=np.zeros(N+1)\n",
    "z[0]=1\n",
    "y=np.zeros(N+1)\n",
    "y[0]=3\n",
    "table = ListTable()\n",
    "table.append(['i','time','k_y','k_z', 'y','z=dy/dt'])\n",
    "\n",
    "for i in range (0,N):\n",
    "    # Midpoint Method\n",
    "    k_y[i]=z[i]\n",
    "    k_z[i]=myfun_u(time[i],y[i],z[i])\n",
    " \n",
    "    z[i+1]=z[i]+h*myfun_u(time[i]+h/2,y[i]+h/2*k_y[i],z[i]+h/2*k_z[i])\n",
    "    y[i+1]=y[i]+h*(z[i]+h/2*k_z[i])\n",
    "    table.append([i,round(time[i],3), round(k_y[i],6), round(k_z[i],6), round(y[i],6), round(z[i],6)])\n",
    "\n",
    "\n",
    "i=i+1\n",
    "table.append([i,round(time[i],3), 'NA', 'NA', round(y[i],6), round(z[i],6)])\n",
    "    \n",
    "print('Plot of numerical aproximation of the solution (y_i) and the derivative (z_i):' )\n",
    "fig = plt.figure(figsize=(12,4))\n",
    "plt.plot(time, y, 'r:o', label='y')\n",
    "plt.plot(time, z, 'b:s', label='z')\n",
    "plt.legend()\n",
    "plt.xlabel('time')\n",
    "plt.tight_layout()"
   ]
  },
  {
   "cell_type": "code",
   "execution_count": 5,
   "metadata": {},
   "outputs": [
    {
     "name": "stdout",
     "output_type": "stream",
     "text": [
      "The table below shows the results of the Euler method applied to the 2nd order IVP:\n"
     ]
    },
    {
     "data": {
      "text/html": [
       "<table><tr><td>i</td><td>time</td><td>k_y</td><td>k_z</td><td>y</td><td>z=dy/dt</td></tr><tr><td>0</td><td>0.0</td><td>1.0</td><td>14.5</td><td>3.0</td><td>1.0</td></tr><tr><td>1</td><td>0.4</td><td>5.65673</td><td>16.540446</td><td>4.56</td><td>5.65673</td></tr><tr><td>2</td><td>0.8</td><td>12.988577</td><td>26.199805</td><td>8.145928</td><td>12.988577</td></tr><tr><td>3</td><td>1.2</td><td>26.494363</td><td>48.468347</td><td>15.437343</td><td>26.494363</td></tr><tr><td>4</td><td>1.6</td><td>52.831833</td><td>94.847559</td><td>29.912556</td><td>52.831833</td></tr><tr><td>5</td><td>2.0</td><td>NA</td><td>NA</td><td>58.633094</td><td>105.348165</td></tr></table>"
      ],
      "text/plain": [
       "[['i', 'time', 'k_y', 'k_z', 'y', 'z=dy/dt'],\n",
       " [0, 0.0, 1.0, 14.5, 3.0, 1.0],\n",
       " [1, 0.4, 5.65673, 16.540446, 4.56, 5.65673],\n",
       " [2, 0.8, 12.988577, 26.199805, 8.145928, 12.988577],\n",
       " [3, 1.2, 26.494363, 48.468347, 15.437343, 26.494363],\n",
       " [4, 1.6, 52.831833, 94.847559, 29.912556, 52.831833],\n",
       " [5, 2.0, 'NA', 'NA', 58.633094, 105.348165]]"
      ]
     },
     "execution_count": 5,
     "metadata": {},
     "output_type": "execute_result"
    }
   ],
   "source": [
    "print('The table below shows the results of the Euler method applied to the 2nd order IVP:')\n",
    "table\n",
    "\n"
   ]
  },
  {
   "cell_type": "code",
   "execution_count": null,
   "metadata": {},
   "outputs": [],
   "source": []
  },
  {
   "cell_type": "code",
   "execution_count": null,
   "metadata": {},
   "outputs": [],
   "source": []
  }
 ],
 "metadata": {
  "kernelspec": {
   "display_name": "Python 3",
   "language": "python",
   "name": "python3"
  },
  "language_info": {
   "codemirror_mode": {
    "name": "ipython",
    "version": 3
   },
   "file_extension": ".py",
   "mimetype": "text/x-python",
   "name": "python",
   "nbconvert_exporter": "python",
   "pygments_lexer": "ipython3",
   "version": "3.6.8"
  }
 },
 "nbformat": 4,
 "nbformat_minor": 1
}
