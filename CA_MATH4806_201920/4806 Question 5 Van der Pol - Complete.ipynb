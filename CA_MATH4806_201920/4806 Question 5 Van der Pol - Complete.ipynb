{
 "cells": [
  {
   "cell_type": "markdown",
   "metadata": {},
   "source": [
    "# Question 5 Van der Pol equation\n",
    "Consider the Van der Pol oscillator that describes a non-conservative oscillator with non-linear damping is described by the differential non-linear second order differential equation,\n",
    "\n",
    "$$u'' =−\\epsilon (u^2 −1)u' −u,$$\n",
    "with $\\epsilon$, and given the boundary conditions\n",
    "$$u(0) = 0.0,$$ and, $$u(1) = 0.$$\n",
    "Apply one iteration of the non-linear shooting method to approximate the solution from $0\\leq t \\leq 1$,using a stepsize of $h =0.2$.\n",
    "##  Shooting method for a non-linear equation\n",
    "To solve a non-linear Boundary Value Problem \n",
    "$$y''=f(t,y,y'), $$\n",
    "with initial conditions $y(a)=\\alpha$ and $y(b)=\\beta$,\n",
    "the equation is re-written as two Initial Value Problems\n",
    "$$ y''(t,\\lambda)=f(t,y(t,\\lambda),y^{'}(t,\\lambda))$$\n",
    "with the initial conditions\n",
    "$$y(a,\\lambda)=\\alpha \\ \\ y^{'}(a,\\lambda)=\\lambda $$\n",
    "differentiating the boundary value problem with respect to $\\lambda$ and let $z(t,\\lambda)$ denote $\\frac{\\partial y}{\\partial\\lambda}(t,\\lambda)$ we have\n",
    "$$\n",
    "\\frac{\\partial }{\\partial \\lambda}(y'') = \\frac{\\partial f}{\\partial \\lambda}=\n",
    "\\frac{\\partial f}{\\partial y^{'}}\n",
    "\\frac{\\partial y^{'}}{\\partial \\lambda}+\\frac{\\partial f}{\\partial y}\n",
    "\\frac{\\partial y}{\\partial \\lambda},\n",
    "$$\n",
    "which is \n",
    "$$ z^{''}(t,\\lambda)=\\frac{\\partial f}{\\partial y^{'}}z^{'}(t,\\lambda)+\\frac{\\partial f}{\\partial y}z(t,\\lambda) $$\n",
    "and the initial conditions\n",
    "$$z(a,\\lambda)=0, \\ \\ \\ z^{'}(a,\\lambda)=1.$$\n",
    "As we do not know $\\lambda$ we us a Newton Raphson iterative method \n",
    "$$\\lambda_k=\\lambda_{k-1}-\\frac{y(b,\\lambda_{k-1})-\\beta}{z(b,\\lambda_{k-1})}.$$\n",
    "\n",
    "\n"
   ]
  },
  {
   "cell_type": "code",
   "execution_count": 1,
   "metadata": {},
   "outputs": [],
   "source": [
    "import numpy as np\n",
    "import math \n",
    "\n",
    "%matplotlib inline\n",
    "import matplotlib.pyplot as plt # side-stepping mpl backend\n",
    "import matplotlib.gridspec as gridspec # subplots\n",
    "import warnings\n",
    "warnings.filterwarnings(\"ignore\")"
   ]
  },
  {
   "cell_type": "code",
   "execution_count": 2,
   "metadata": {},
   "outputs": [
    {
     "data": {
      "text/html": [
       "<script>\n",
       "code_show=true; \n",
       "function code_toggle() {\n",
       " if (code_show){\n",
       " $('div.input').hide();\n",
       " } else {\n",
       " $('div.input').show();\n",
       " }\n",
       " code_show = !code_show\n",
       "} \n",
       "$( document ).ready(code_toggle);\n",
       "</script>\n",
       "<form action=\"javascript:code_toggle()\"><input type=\"submit\" value=\"Click here to toggle on/off the raw code.\"></form>"
      ],
      "text/plain": [
       "<IPython.core.display.HTML object>"
      ]
     },
     "execution_count": 2,
     "metadata": {},
     "output_type": "execute_result"
    }
   ],
   "source": [
    "class ListTable(list):\n",
    "    \"\"\" Overridden list class which takes a 2-dimensional list of \n",
    "        the form [[1,2,3],[4,5,6]], and renders an HTML Table in \n",
    "        IPython Notebook. \"\"\"\n",
    "    \n",
    "    def _repr_html_(self):\n",
    "        html = [\"<table>\"]\n",
    "        for row in self:\n",
    "            html.append(\"<tr>\")\n",
    "            \n",
    "            for col in row:\n",
    "                html.append(\"<td>{0}</td>\".format(col))\n",
    "            \n",
    "            html.append(\"</tr>\")\n",
    "        html.append(\"</table>\")\n",
    "        return ''.join(html)\n",
    "from IPython.display import HTML\n",
    "\n",
    "HTML('''<script>\n",
    "code_show=true; \n",
    "function code_toggle() {\n",
    " if (code_show){\n",
    " $('div.input').hide();\n",
    " } else {\n",
    " $('div.input').show();\n",
    " }\n",
    " code_show = !code_show\n",
    "} \n",
    "$( document ).ready(code_toggle);\n",
    "</script>\n",
    "<form action=\"javascript:code_toggle()\"><input type=\"submit\" value=\"Click here to toggle on/off the raw code.\"></form>''')\n",
    "\n"
   ]
  },
  {
   "cell_type": "code",
   "execution_count": 3,
   "metadata": {},
   "outputs": [],
   "source": [
    "N=5\n",
    "t_end=1.0\n",
    "t_start=0.0\n",
    "h=((t_end-t_start)/N)\n",
    "\n",
    "time=np.arange(t_start,t_end+h/2,h)\n",
    "ep=3.5\n",
    "lamb=1"
   ]
  },
  {
   "cell_type": "markdown",
   "metadata": {},
   "source": [
    "##  Shooting method for the Van der Pol\n",
    "To Van der Pol equation\n",
    "$$u'' =−\\epsilon (u^2 −1)u' −u, $$\n",
    "with $\\epsilon= 3.5$, and given the initial conditions\n",
    "$$u(0) = 0.0,$$ and, $$u(1) = 0,$$ the equation is re-written as two Initial Value Problems\n",
    "$$ u''(t,\\lambda)=−\\epsilon (u^2 −1)u' −u$$\n",
    "with the initial conditions\n",
    "$$u(a,\\lambda)=0 \\ \\ u^{'}(a,\\lambda)=\\lambda $$\n",
    "and\n",
    "$$ z^{''}(t,\\lambda)=-\\epsilon( u^2 -1)z^{'}(t,\\lambda) +(-2\\epsilon u u' -1)z(t,\\lambda),$$\n",
    "and the initial conditions\n",
    "$$z(a,\\lambda)=0, \\ \\ \\ z^{'}(a,\\lambda)=1.$$\n",
    "As we do not know $\\lambda$ we us a Newton Raphson iterative method \n",
    "$$\\lambda_k=\\lambda_{k-1}-\\frac{y(b,\\lambda_{k-1})-\\beta}{z(b,\\lambda_{k-1})}.$$\n",
    "## Euler Approximation of the Van der Pol\n",
    "To approximate the solution we apply the Euler method which gives, the first equation is divided into two difference equations,\n",
    "$$ ud_{i+1}=ud_{i}+h[−\\epsilon (u_i^2 −1)ud_i −u_i], \\ \\ \\ ud_0=\\lambda,$$\n",
    "$$ u_{i+1}=u_{i}+h[ud_i], \\ \\ \\ u_0=0,$$\n",
    "and the second equation is also written as two difference equations\n",
    "$$ zd_{i+1}=zd_{i}+h[-\\epsilon( u_i^2 -1)zd_i +(-2\\epsilon u_i ud_i -1)z_i], \\ \\ \\ zd_0=1,$$\n",
    "$$ z_{i+1}=z_{i}+z[zd_i], \\ \\ \\ z_0=0,$$\n",
    "where $h$ is the stepsize.\n",
    "As we do not know $\\lambda$ we us a Newton Raphson iterative method \n",
    "$$\\lambda_k=\\lambda_{k-1}-\\frac{u_{5}-0}{z_{5}}.$$"
   ]
  },
  {
   "cell_type": "code",
   "execution_count": 4,
   "metadata": {},
   "outputs": [],
   "source": [
    "def myfun_u(t,u,ud):\n",
    "    ftw=ep*(1-u*u)*ud-u\n",
    "    return ftw\n",
    "\n",
    "def myfun_z(t,z,zd,u,ud):\n",
    "   # ftw=-ep*(u*u-1)*zd+(-ep*2*u*ud*ud-1)*z\n",
    "    ftw=-ep*(u*u-1)*zd+(-ep*2*u*ud-1)*z\n",
    "    return ftw"
   ]
  },
  {
   "cell_type": "code",
   "execution_count": 5,
   "metadata": {},
   "outputs": [
    {
     "data": {
      "image/png": "[encoded data removed]",
      "text/plain": [
       "<Figure size 864x288 with 1 Axes>"
      ]
     },
     "metadata": {
      "needs_background": "light"
     },
     "output_type": "display_data"
    }
   ],
   "source": [
    "\n",
    "u=np.zeros(N+1)\n",
    "ud=np.zeros(N+1)\n",
    "u[0]=0\n",
    "ud[0]=lamb\n",
    "z=np.zeros(N+1)\n",
    "zd=np.zeros(N+1)\n",
    "z[0]=0\n",
    "zd[0]=1\n",
    "for i in range (0,N):\n",
    "    # Euler Method\n",
    "    ud[i+1]=ud[i]+h*myfun_u(time[i],u[i],ud[i])\n",
    "    u[i+1]=u[i]+h*ud[i]\n",
    "    zd[i+1]=zd[i]+h*myfun_z(time[i],z[i],zd[i],u[i],ud[i])\n",
    "    z[i+1]=z[i]+h*zd[i]\n",
    "    \n",
    "    \n",
    "lamb_new = lamb-(u[N]-0)/z[N]\n",
    "\n",
    "fig = plt.figure(figsize=(12,4))\n",
    "plt.plot(time, u, 'rv:', label='u')\n",
    "plt.plot(time, ud, 'r^:', label='ud')\n",
    "plt.plot(time, z, 'bs:', label='z')\n",
    "plt.plot(time, zd, 'bo:', label='zd')\n",
    "plt.xlabel('time')\n",
    "plt.title('One iteration of shooting method for the Van der Pol with $\\lambda$= %f '% lamb)\n",
    "plt.legend()\n",
    "plt.tight_layout()\n",
    "plt.show()"
   ]
  },
  {
   "cell_type": "code",
   "execution_count": 6,
   "metadata": {},
   "outputs": [
    {
     "name": "stdout",
     "output_type": "stream",
     "text": [
      "The table below shows the output for one interation with lambda = 1\n"
     ]
    },
    {
     "data": {
      "text/html": [
       "<table><tr><td>i</td><td>time</td><td>dy</td><td>y</td><td>dz</td><td>z</td></tr><tr><td>0</td><td>0.0</td><td>1.0</td><td>0.0</td><td>1.0</td><td>0.0</td></tr><tr><td>1</td><td>0.2</td><td>1.7</td><td>0.2</td><td>1.7</td><td>0.2</td></tr><tr><td>2</td><td>0.4</td><td>2.8024</td><td>0.54</td><td>2.7072</td><td>0.54</td></tr><tr><td>3</td><td>0.6</td><td>4.0841</td><td>1.1005</td><td>2.7976</td><td>1.0814</td></tr><tr><td>4</td><td>0.8</td><td>3.2606</td><td>1.9173</td><td>-4.6366</td><td>1.641</td></tr><tr><td>5</td><td>1.0</td><td>-3.2306</td><td>2.5694</td><td>-10.6413</td><td>0.7136</td></tr></table>"
      ],
      "text/plain": [
       "[['i', 'time', 'dy', 'y', 'dz', 'z'],\n",
       " [0, 0.0, 1.0, 0.0, 1.0, 0.0],\n",
       " [1, 0.2, 1.7, 0.2, 1.7, 0.2],\n",
       " [2, 0.4, 2.8024, 0.54, 2.7072, 0.54],\n",
       " [3, 0.6, 4.0841, 1.1005, 2.7976, 1.0814],\n",
       " [4, 0.8, 3.2606, 1.9173, -4.6366, 1.641],\n",
       " [5, 1.0, -3.2306, 2.5694, -10.6413, 0.7136]]"
      ]
     },
     "execution_count": 6,
     "metadata": {},
     "output_type": "execute_result"
    }
   ],
   "source": [
    "print('The table below shows the output for one interation with lambda =',lamb)\n",
    "table = ListTable()\n",
    "table.append(['i','time','dy','y','dz','z'])\n",
    "for i in range (0,N+1):\n",
    "    table.append([i,round(time[i],4),round(ud[i],4),round(u[i],4),round(zd[i],4),round(z[i],4)])\n",
    "    \n",
    "table"
   ]
  },
  {
   "cell_type": "code",
   "execution_count": 7,
   "metadata": {},
   "outputs": [
    {
     "name": "stdout",
     "output_type": "stream",
     "text": [
      "The new lambda= -2.600462697478842\n"
     ]
    }
   ],
   "source": [
    "print('The new lambda=',lamb_new)\n"
   ]
  },
  {
   "cell_type": "code",
   "execution_count": null,
   "metadata": {},
   "outputs": [],
   "source": []
  }
 ],
 "metadata": {
  "kernelspec": {
   "display_name": "Python 3",
   "language": "python",
   "name": "python3"
  },
  "language_info": {
   "codemirror_mode": {
    "name": "ipython",
    "version": 3
   },
   "file_extension": ".py",
   "mimetype": "text/x-python",
   "name": "python",
   "nbconvert_exporter": "python",
   "pygments_lexer": "ipython3",
   "version": "3.6.8"
  }
 },
 "nbformat": 4,
 "nbformat_minor": 1
}
