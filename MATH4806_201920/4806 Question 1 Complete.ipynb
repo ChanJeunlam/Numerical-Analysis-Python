{
 "cells": [
  {
   "cell_type": "markdown",
   "metadata": {},
   "source": [
    "# Question 1\n",
    "\n",
    "Given the first order equation\n",
    "\\begin{equation} \n",
    "y^{'} = (1-2t)y^2,\n",
    "\\end{equation}\n",
    "with the initial condition\n",
    "\\begin{equation} \n",
    "y(1) = \\alpha.\n",
    "\\end{equation}\n",
    "Exact soultion\n",
    "\\begin{equation} \n",
    "y(t) = \\frac{1}{t^2-t+\\frac{1}{\\alpha}}.\n",
    "\\end{equation}\n",
    "\n",
    "\n",
    "Aproximate the solution of the inital value problem for the interval $1 \\leq t \\leq 2$ using $N=5$, with a stepsize $h=0.2$ and\n",
    "$$f(t,y)=(1-2t)y^2. $$\n",
    "Using the:\n",
    "\n",
    "### a. Euler method:\n",
    "The general Euler method is,\n",
    "$$ w_{i+1}=w_i+hf(t_i,w_i);$$\n",
    "with the local truncation error\n",
    "$$ \\tau=\\frac{hM_2}{2}, $$\n",
    "where $$M_2=\\max_{1\\leq t \\leq 2}|y''(t)|$$\n",
    "and the global error\n",
    "$$|w_i-y(t_i)|\\leq \\frac{hM_2}{2} \\frac{e^{L(1)}-1}{L}, $$\n",
    " and $L$ is the Lipschitz constant.\n",
    "\n",
    "### b. 2nd Order Taylor:\n",
    "The general 2nd order Taylor is,\n",
    "$$ w_{i+1}=w_i+h(f(t_i,w_i)+\\frac{h}{2}f'(t_i,w_i),$$\n",
    "with the local truncation error\n",
    "$$ \\tau=\\frac{h^2M_3}{6} $$\n",
    "where $$M_3=\\max_{1\\leq t \\leq 2}|y'''(t)|$$\n",
    "and the global error\n",
    "$$|w_i-y(t_i)|\\leq \\frac{h^2M_3}{6} \\frac{e^{L(1)}-1}{L}, $$\n",
    " and $L$ is the Lipschitz constant.\n",
    "\n",
    "\n",
    "### c. 4th Order Runge Kutta method:\n",
    "The general 4th order Runge Kutta is,\n",
    "$$ w_{i+1}=w_i+\\frac{h}{6}(k1+2k2+2k3+k4),$$\n",
    "where $$k1=f(t_i,w_i),$$\n",
    "$$k2=f(t_i+\\frac{h}{2},w_i+\\frac{h}{2}k1),$$\n",
    "$$k3=f(t_i+\\frac{h}{2},w_i+\\frac{h}{2}k2),$$\n",
    "$$k4=f(t_i+h,w_i+hk3);$$\n",
    "with the local truncation error\n",
    "$$ \\tau=\\frac{h^4M_5}{120} $$\n",
    "where $$M_5=\\max_{1\\leq t \\leq 2}|y^{(5)}(t)|$$\n",
    "and the global error\n",
    "$$|w_i-y(t_i)|\\leq \\frac{h^4M_5}{120} \\frac{e^{L(1)}-1}{L}, $$\n",
    "and $L$ is the Lipschitz constant.\n",
    "\n",
    "\n",
    "### d. 2 step Adams Bashforth:\n",
    "The general 2 step Adams Bashforth is,\n",
    "$$ w_{i+1}=w_i+\\frac{h}{2}[3f(t_i,w_i)-f(t_{i-1},w_{i-1})],$$\n",
    "with the local truncation error\n",
    "$$ \\tau=\\frac{5h^2M_3}{12} $$\n",
    "where $$M_3=\\max_{1\\leq t \\leq 2}|y'''(t)|$$\n",
    "and the global error\n",
    "$$|w_i-y(t_i)|\\leq \\frac{h^2M_3}{6} \\frac{e^{L(1)}-1}{L}, $$\n",
    " and $L$ is the Lipschitz constant.\n",
    "\n",
    "\n",
    "### e. Predictor Corrector:\n",
    "The predictor is the 2 step Adams Bashforth\n",
    "$$ w^0_{i+1}=w_i+\\frac{h}{2}[3f(t_i,w_i)-f(t_{i-1},w_{i-1})],$$\n",
    "and the corrector is the 2 step Adams Moulton\n",
    "$$ w_{i+1}=w_i+\\frac{h}{2}[5f(t_{i+1},w^0_{i+1})+8f(t_i,w_i)-f(t_{i-1},w_{i-1})].$$\n",
    "\n"
   ]
  },
  {
   "cell_type": "code",
   "execution_count": 1,
   "metadata": {},
   "outputs": [
    {
     "data": {
      "text/html": [
       "<script>\n",
       "code_show=true; \n",
       "function code_toggle() {\n",
       " if (code_show){\n",
       " $('div.input').hide();\n",
       " } else {\n",
       " $('div.input').show();\n",
       " }\n",
       " code_show = !code_show\n",
       "} \n",
       "$( document ).ready(code_toggle);\n",
       "</script>\n",
       "<form action=\"javascript:code_toggle()\"><input type=\"submit\" value=\"Click here to toggle on/off the raw code.\"></form>"
      ],
      "text/plain": [
       "<IPython.core.display.HTML object>"
      ]
     },
     "execution_count": 1,
     "metadata": {},
     "output_type": "execute_result"
    }
   ],
   "source": [
    "## Declaring libraries\n",
    "import numpy as np\n",
    "import math \n",
    "\n",
    "%matplotlib inline\n",
    "import matplotlib.pyplot as plt # side-stepping mpl backend\n",
    "import matplotlib.gridspec as gridspec # subplots\n",
    "import warnings\n",
    "warnings.filterwarnings(\"ignore\")\n",
    "warnings.filterwarnings(\"ignore\")\n",
    "from IPython.display import HTML\n",
    "\n",
    "HTML('''<script>\n",
    "code_show=true; \n",
    "function code_toggle() {\n",
    " if (code_show){\n",
    " $('div.input').hide();\n",
    " } else {\n",
    " $('div.input').show();\n",
    " }\n",
    " code_show = !code_show\n",
    "} \n",
    "$( document ).ready(code_toggle);\n",
    "</script>\n",
    "<form action=\"javascript:code_toggle()\"><input type=\"submit\" value=\"Click here to toggle on/off the raw code.\"></form>''')\n"
   ]
  },
  {
   "cell_type": "code",
   "execution_count": 2,
   "metadata": {},
   "outputs": [],
   "source": [
    "## To output results as a nice table\n",
    "class ListTable(list):\n",
    "    \"\"\" Overridden list class which takes a 2-dimensional list of \n",
    "        the form [[1,2,3],[4,5,6]], and renders an HTML Table in \n",
    "        IPython Notebook. \"\"\"\n",
    "    \n",
    "    def _repr_html_(self):\n",
    "        html = [\"<table>\"]\n",
    "        for row in self:\n",
    "            html.append(\"<tr>\")\n",
    "            \n",
    "            for col in row:\n",
    "                html.append(\"<td>{0}</td>\".format(col))\n",
    "            \n",
    "            html.append(\"</tr>\")\n",
    "        html.append(\"</table>\")\n",
    "        return ''.join(html)"
   ]
  },
  {
   "cell_type": "markdown",
   "metadata": {},
   "source": [
    "## Setting up the discrete time axis\n",
    "$$ h=\\frac{t_{end}-t_{start}}{N}, $$\n",
    "$$ h=\\frac{2-1}{4}=0.25, $$\n",
    "$$t_i=t_0+ih,$$\n",
    "$$t_i=0+0.25i,$$\n",
    "for $i=0,1,2,3,4.$"
   ]
  },
  {
   "cell_type": "code",
   "execution_count": 3,
   "metadata": {},
   "outputs": [],
   "source": [
    "N=4\n",
    "t_end=2.0\n",
    "t_start=1.0\n",
    "h=((t_end-t_start)/N)\n",
    "\n",
    "INITIALCONDITION=4\n",
    "time=np.arange(t_start,t_end+h/2,h)\n",
    "#time[0]=1"
   ]
  },
  {
   "cell_type": "markdown",
   "metadata": {},
   "source": [
    "## a. Euler method:\n",
    "The Euler method for the IVP is\n",
    "$$ w_{i+1}=w_i+0.25[(1-2t_i)w_i^2];$$\n",
    "with\n",
    "$w_0=IC.$"
   ]
  },
  {
   "cell_type": "code",
   "execution_count": 4,
   "metadata": {},
   "outputs": [],
   "source": [
    "# function of f\n",
    "def myfun(t,w):\n",
    "    ftw=(1-2*t)*w*w\n",
    "    return ftw"
   ]
  },
  {
   "cell_type": "code",
   "execution_count": 5,
   "metadata": {},
   "outputs": [
    {
     "name": "stdout",
     "output_type": "stream",
     "text": [
      "The table below shows the results of the Euler method:\n"
     ]
    },
    {
     "data": {
      "text/html": [
       "<table><tr><td>i</td><td>time</td><td>Euler</td></tr><tr><td>0</td><td>1.0</td><td>4.0</td></tr><tr><td>1</td><td>1.25</td><td>0.0</td></tr><tr><td>2</td><td>1.5</td><td>0.0</td></tr><tr><td>3</td><td>1.75</td><td>0.0</td></tr><tr><td>4</td><td>2.0</td><td>0.0</td></tr></table>"
      ],
      "text/plain": [
       "[['i', 'time', 'Euler'],\n",
       " [0, 1.0, 4.0],\n",
       " [1, 1.25, 0.0],\n",
       " [2, 1.5, 0.0],\n",
       " [3, 1.75, 0.0],\n",
       " [4, 2.0, 0.0]]"
      ]
     },
     "execution_count": 5,
     "metadata": {},
     "output_type": "execute_result"
    }
   ],
   "source": [
    "Euler=np.zeros(N+1)\n",
    "Euler[0]=INITIALCONDITION\n",
    "\n",
    "table = ListTable()\n",
    "table.append(['i','time', 'Euler'])\n",
    "\n",
    "\n",
    "for i in range (0,N):\n",
    "    # Euler Method\n",
    "    Euler[i+1]=Euler[i]+h*myfun(time[i],Euler[i])\n",
    "    table.append([i,round(time[i],3), round(Euler[i],6)])\n",
    "\n",
    "i=i+1\n",
    "table.append([i,round(time[i],3), round(Euler[i],3)])\n",
    "\n",
    "print('The table below shows the results of the Euler method:')\n",
    "table\n",
    "    "
   ]
  },
  {
   "cell_type": "markdown",
   "metadata": {},
   "source": [
    "## Euler Error\n",
    "### Local Truncation Error\n",
    "The local truncation error for the Euler method for the IVP is\n",
    "$$ \\tau=\\frac{0.2 M_2}{2}, $$\n",
    "where $$M_2=\\max_{1\\leq t \\leq 2}\\left|\\frac{2(2t-1)}{(t^2-t+\\frac{1}{IC})}-\\left(\\frac{2}{(t^2-t+\\frac{1}{IC})}\\right)^2\\right|$$\n"
   ]
  },
  {
   "cell_type": "code",
   "execution_count": 6,
   "metadata": {},
   "outputs": [],
   "source": [
    "## The second derivative of y\n",
    "def myfun_exactdd(t):\n",
    "    ftw=2*(2*t-1)**2/(t*t-t+1/INITIALCONDITION)**3-2/(t*t-t+1/INITIALCONDITION)**2\n",
    "\n",
    "    return ftw"
   ]
  },
  {
   "cell_type": "code",
   "execution_count": 7,
   "metadata": {},
   "outputs": [
    {
     "name": "stdout",
     "output_type": "stream",
     "text": [
      "Euler Local Truncation error: 12.0\n"
     ]
    }
   ],
   "source": [
    "Euler_LTE=max(abs(myfun_exactdd(time)))*h/2\n",
    "print('Euler Local Truncation error:',Euler_LTE)"
   ]
  },
  {
   "cell_type": "markdown",
   "metadata": {},
   "source": [
    "### Global Truncation Error\n",
    "The global error for the Euler is \n",
    "$$|w_i-y(t_i)|\\leq \\frac{hM_2}{2} \\frac{e^{L(1)}-1}{L}, $$\n",
    " and $L$ is the Lipschitz constant.\n",
    " For simplicity we will set $L=1$."
   ]
  },
  {
   "cell_type": "code",
   "execution_count": 8,
   "metadata": {},
   "outputs": [
    {
     "name": "stdout",
     "output_type": "stream",
     "text": [
      "Euler Global error: 20.619381941508543\n"
     ]
    }
   ],
   "source": [
    "Euler_Global=max(abs(myfun_exactdd(time)))*h/2*(np.exp(1)-1)\n",
    "print('Euler Global error:',Euler_Global)"
   ]
  },
  {
   "cell_type": "markdown",
   "metadata": {},
   "source": [
    "## b. 2nd Order Taylor:\n",
    "The 2nd Order Taylor for the IVP is\n",
    "$$ w_{i+1}=w_i+0.25\\left[[(1-2t_i)w_i^2]+\\frac{0.25}{2}[-2w_i^2+2w_i(1-2t_i)((1-2t_i)w_i^2)]\\right].$$\n"
   ]
  },
  {
   "cell_type": "code",
   "execution_count": 9,
   "metadata": {},
   "outputs": [],
   "source": [
    "## The first derivative of f with respect to t\n",
    "def myfund(t,w):\n",
    "    ftw=(-2)*w*w+(1-2*t)*2*w*myfun(t,w)\n",
    "    return ftw"
   ]
  },
  {
   "cell_type": "code",
   "execution_count": 10,
   "metadata": {},
   "outputs": [
    {
     "name": "stdout",
     "output_type": "stream",
     "text": [
      "The table below shows the results of the 2nd Order Taylor method:\n"
     ]
    },
    {
     "data": {
      "text/html": [
       "<table><tr><td>i</td><td>time</td><td>Taylor</td></tr><tr><td>0</td><td>1.0</td><td>4.0</td></tr><tr><td>1</td><td>1.25</td><td>3.0</td></tr><tr><td>2</td><td>1.5</td><td>2.859</td></tr><tr><td>3</td><td>1.75</td><td>4.105</td></tr><tr><td>4</td><td>2.0</td><td>19.54</td></tr></table>"
      ],
      "text/plain": [
       "[['i', 'time', 'Taylor'],\n",
       " [0, 1.0, 4.0],\n",
       " [1, 1.25, 3.0],\n",
       " [2, 1.5, 2.859],\n",
       " [3, 1.75, 4.105],\n",
       " [4, 2.0, 19.54]]"
      ]
     },
     "execution_count": 10,
     "metadata": {},
     "output_type": "execute_result"
    }
   ],
   "source": [
    "Taylor=np.zeros(N+1)\n",
    "Taylor[0]=INITIALCONDITION\n",
    "table = ListTable()\n",
    "table.append(['i','time', 'Taylor'])\n",
    "\n",
    "for i in range (0,N):\n",
    "    Taylor[i+1]=Taylor[i]+h*(myfun(time[i],Taylor[i])+h/2*myfund(time[i],Taylor[i]))\n",
    "    table.append([i,round(time[i],3), round(Taylor[i],3)])\n",
    "\n",
    "i=i+1\n",
    "table.append([i,round(time[i],3), round(Taylor[i],3)])\n",
    "print('The table below shows the results of the 2nd Order Taylor method:')\n",
    "table\n",
    "\n"
   ]
  },
  {
   "cell_type": "markdown",
   "metadata": {},
   "source": [
    "## 2nd Order Taylor Error\n",
    "The local truncation error for the 2nd order Taylor for the IVP is\n",
    "$$ \\tau=\\frac{h^2M_3}{6} $$\n",
    "where $$M_3=\\max_{1\\leq t \\leq 2}\\left|\\frac{-6(2t-1)^3}{(t^2-t+\\frac{1}{IC})^4}+12\\left(\\frac{2t-1}{(t^2-t+\\frac{1}{IC})^3}\\right)\\right|.$$\n"
   ]
  },
  {
   "cell_type": "code",
   "execution_count": 11,
   "metadata": {},
   "outputs": [],
   "source": [
    "## The third derivative of y\n",
    "def myfun_exactddd(t):\n",
    "    ftw=-6*(2*t-1)**3/(t*t-t+1/INITIALCONDITION)**4+12*(2*t-1)/(t*t-t+1/INITIALCONDITION)**3\n",
    "\n",
    "    return ftw"
   ]
  },
  {
   "cell_type": "code",
   "execution_count": 12,
   "metadata": {},
   "outputs": [
    {
     "name": "stdout",
     "output_type": "stream",
     "text": [
      "2nd order Taylor Local Truncation Error: 8.0\n"
     ]
    }
   ],
   "source": [
    "Taylor_LTE=max(abs(myfun_exactddd(time)))*h**2/6\n",
    "\n",
    "print('2nd order Taylor Local Truncation Error:',Taylor_LTE)"
   ]
  },
  {
   "cell_type": "markdown",
   "metadata": {},
   "source": [
    "### Global Truncation Error\n",
    "The global truncation error of the 2nd order Taylor for the IVP is,\n",
    "$$|w_i-y(t_i)|\\leq \\frac{h^2M_3}{6} \\frac{e^{L(1)}-1}{L}, $$\n",
    " and $L$ is the Lipschitz constant."
   ]
  },
  {
   "cell_type": "code",
   "execution_count": 13,
   "metadata": {},
   "outputs": [
    {
     "name": "stdout",
     "output_type": "stream",
     "text": [
      "2nd ordewr Taylor Global error: 13.74625462767236\n"
     ]
    }
   ],
   "source": [
    "Taylor_Global=Taylor_LTE*(np.exp(1)-1)\n",
    "print('2nd ordewr Taylor Global error:',Taylor_Global)"
   ]
  },
  {
   "cell_type": "markdown",
   "metadata": {},
   "source": [
    "## c. 4th order Runge Kutta \n",
    "The 4th order Runge Kutta for the IVP is\n",
    "$$ w_{i+1}=w_i+\\frac{0.25}{6}(k1+2k2+2k3+k4),$$\n",
    "where $$k1=(1-2t_i)w_i^2,$$\n",
    "$$k2=f(t_i+\\frac{h}{2},w_i+\\frac{h}{2}k1)=(1-2(t_i+\\frac{h}{2})(w_i+\\frac{h}{2}k_1)^2,$$\n",
    "$$k3=f(t_i+\\frac{h}{2},w_i+\\frac{h}{2}k2)=(1-2(t_i+\\frac{h}{2})(w_i+\\frac{h}{2}k_2)^2,$$\n",
    "$$k4=f(t_i+h,w_i+hk3)=(1-2(t_i+h)(w_i+hk_3)^2.$$\n"
   ]
  },
  {
   "cell_type": "code",
   "execution_count": 14,
   "metadata": {},
   "outputs": [
    {
     "name": "stdout",
     "output_type": "stream",
     "text": [
      "The table below shows the results of the 4th Runge Kutta method:\n"
     ]
    },
    {
     "data": {
      "text/html": [
       "<table><tr><td>i</td><td>time</td><td>K1</td><td>K2</td><td>K3</td><td>K4</td><td>RK</td></tr><tr><td>0</td><td>1.0</td><td>-16.0</td><td>-5.0</td><td>-14.238</td><td>-0.291</td><td>4.0</td></tr><tr><td>1</td><td>1.25</td><td>-4.427</td><td>-2.373</td><td>-3.535</td><td>-1.392</td><td>1.718</td></tr><tr><td>2</td><td>1.5</td><td>-1.933</td><td>-1.237</td><td>-1.544</td><td>-0.891</td><td>0.983</td></tr><tr><td>3</td><td>1.75</td><td>-1.004</td><td>-0.71</td><td>-0.817</td><td>-0.554</td><td>0.634</td></tr><tr><td>4</td><td>2.0</td><td>-1.004</td><td>-0.71</td><td>-0.817</td><td>-0.554</td><td>0.442</td></tr></table>"
      ],
      "text/plain": [
       "[['i', 'time', 'K1', 'K2', 'K3', 'K4', 'RK'],\n",
       " [0, 1.0, -16.0, -5.0, -14.238, -0.291, 4.0],\n",
       " [1, 1.25, -4.427, -2.373, -3.535, -1.392, 1.718],\n",
       " [2, 1.5, -1.933, -1.237, -1.544, -0.891, 0.983],\n",
       " [3, 1.75, -1.004, -0.71, -0.817, -0.554, 0.634],\n",
       " [4, 2.0, -1.004, -0.71, -0.817, -0.554, 0.442]]"
      ]
     },
     "execution_count": 14,
     "metadata": {},
     "output_type": "execute_result"
    }
   ],
   "source": [
    "RK4=np.zeros(N+1)\n",
    "RK4[0]=INITIALCONDITION\n",
    "table = ListTable()\n",
    "table.append(['i','time', 'K1','K2',  'K3','K4','RK'])\n",
    "    \n",
    "for i in range (0,N):\n",
    "    # 4th Order Runge Kutta\n",
    "    k1=myfun(time[i],RK4[i])\n",
    "    k2=myfun(time[i]+h/2,RK4[i]+h/2*k1)\n",
    "    k3=myfun(time[i]+h/2,RK4[i]+h/2*k2)\n",
    "    k4=myfun(time[i]+h,RK4[i]+h*k3)\n",
    "    RK4[i+1]=RK4[i]+h/6*(k1+2*k2+2*k3+k4)\n",
    "    table.append([i,round(time[i],3), round(k1,3), round(k2,3), round(k3,3),round(k4,3),round(RK4[i],3)])\n",
    "\n",
    "i=i+1\n",
    "table.append([i,round(time[i],3), round(k1,3), round(k2,3), round(k3,3),round(k4,3),round(RK4[i],3)])\n",
    "\n",
    "\n",
    "print('The table below shows the results of the 4th Runge Kutta method:')\n",
    "table\n"
   ]
  },
  {
   "cell_type": "markdown",
   "metadata": {},
   "source": [
    "## Error Runge Kutta\n",
    "### Local Truncation Error\n",
    "The local truncation error of the 4th order Runge Kutta for the IVP is,\n",
    "$$ \\tau=\\frac{h^4M_5}{120} $$\n",
    "where $$M_5=\\max_{1\\leq t \\leq 2}\\left|-120\\frac{-(2t-1)^5}{(t^2-t+\\frac{1}{IC})^6}+480\\frac{(2t-1)^3}{(t^2-t+\\frac{1}{IC})^5}-360\\left(\\frac{2t-1}{(t^2-t+\\frac{1}{IC})^4}\\right)\\right|.$$\n"
   ]
  },
  {
   "cell_type": "code",
   "execution_count": 15,
   "metadata": {},
   "outputs": [],
   "source": [
    "# The fifth derivative of y with respect to t\n",
    "def myfun_exactddddd(t):\n",
    "    ftw=-120*(2*t-1)**5/(t*t-t+1/INITIALCONDITION)**6+480*(2*t-1)**3/(t*t-t+1/INITIALCONDITION)**5-360*(2*t-1)/(t*t-t+1/INITIALCONDITION)**4\n",
    "\n",
    "    return ftw"
   ]
  },
  {
   "cell_type": "code",
   "execution_count": 16,
   "metadata": {},
   "outputs": [
    {
     "name": "stdout",
     "output_type": "stream",
     "text": [
      "4th order Runge Kutta Local Truncation error: 3.0\n"
     ]
    }
   ],
   "source": [
    "RK4_LTE=max(abs(myfun_exactddddd(time)))*h**4/120\n",
    "\n",
    "print('4th order Runge Kutta Local Truncation error:',RK4_LTE)"
   ]
  },
  {
   "cell_type": "markdown",
   "metadata": {},
   "source": [
    "### Global Truncation Error\n",
    "The global truncation error of the 4th order Runge Kutta for the IVP is,\n",
    "$$|w_i-y(t_i)|\\leq \\frac{h^4M_5}{120} \\frac{e^{L(1)}-1}{L}, $$\n",
    "and $L$ is the Lipschitz constant."
   ]
  },
  {
   "cell_type": "code",
   "execution_count": 17,
   "metadata": {},
   "outputs": [
    {
     "name": "stdout",
     "output_type": "stream",
     "text": [
      "4th order Runge Kutta Global error: 5.154845485377136\n"
     ]
    }
   ],
   "source": [
    "RK4_Global=RK4_LTE*(np.exp(1)-1)\n",
    "print('4th order Runge Kutta Global error:',RK4_Global)"
   ]
  },
  {
   "cell_type": "markdown",
   "metadata": {},
   "source": [
    "## d) Adams Bashforth\n",
    "The 2 step Adams Bashforth for the IVP is\n",
    "$$ w_{i+1}=w_i+\\frac{0.25}{2}[3((1-2t_i)w_i^2)-((1-2t_{i-1})w_{i-1}^2)],$$\n",
    "with the intial condition\n",
    "$$w_0=IC$$\n",
    "$$w_1=y(t_1)$$"
   ]
  },
  {
   "cell_type": "code",
   "execution_count": 18,
   "metadata": {},
   "outputs": [
    {
     "name": "stdout",
     "output_type": "stream",
     "text": [
      "The table below shows the results of the 2 step Adams Bashforth method:\n"
     ]
    },
    {
     "data": {
      "text/html": [
       "<table><tr><td>i</td><td>time</td><td>Adams Bashforth</td></tr><tr><td>0</td><td>1.0</td><td>4.0</td></tr><tr><td>1</td><td>1.25</td><td>1.718</td></tr><tr><td>2</td><td>1.5</td><td>2.058</td></tr><tr><td>3</td><td>1.75</td><td>-0.565</td></tr><tr><td>4</td><td>2.0</td><td>0.195</td></tr></table>"
      ],
      "text/plain": [
       "[['i', 'time', 'Adams Bashforth'],\n",
       " [0, 1.0, 4.0],\n",
       " [1, 1.25, 1.718],\n",
       " [2, 1.5, 2.058],\n",
       " [3, 1.75, -0.565],\n",
       " [4, 2.0, 0.195]]"
      ]
     },
     "execution_count": 18,
     "metadata": {},
     "output_type": "execute_result"
    }
   ],
   "source": [
    "table = ListTable()\n",
    "table.append(['i','time', 'Adams Bashforth'])\n",
    "AdamsBash=np.zeros(N+1)\n",
    "AdamsBash[0]=INITIALCONDITION\n",
    "AdamsBash[1]=RK4[1]\n",
    "i=0\n",
    "table.append([i,round(time[i],3), round(AdamsBash[i],3)])\n",
    "\n",
    "for i in range (1,N):\n",
    "    AdamsBash[i+1]=AdamsBash[i]+h/2*(3*myfun(time[i],AdamsBash[i])-1*myfun(time[i-1],AdamsBash[i-1]))\n",
    "    table.append([i,round(time[i],3), round(AdamsBash[i],3)])\n",
    "\n",
    "i=i+1\n",
    "table.append([i,round(time[i],3), round(AdamsBash[i],3)])\n",
    "print('The table below shows the results of the 2 step Adams Bashforth method:')\n",
    "table\n",
    "    "
   ]
  },
  {
   "cell_type": "markdown",
   "metadata": {},
   "source": [
    "## 2 Step Adams Bashforth Error"
   ]
  },
  {
   "cell_type": "markdown",
   "metadata": {},
   "source": [
    "### Local Truncation Error\n",
    "The local truncation error of the 2 step Adams Bashforth for the IVP is,\n",
    "$$ \\tau=\\frac{5h^2M_3}{12}, $$\n",
    "where \n",
    "$$M_3=\\max_{1\\leq t \\leq 2}\\left|\\frac{-6(2t-1)^3}{(t^2-t+\\frac{1}{IC})^4}+12\\left(\\frac{2t-1}{(t^2-t+\\frac{1}{IC})^3}\\right)\\right|.$$"
   ]
  },
  {
   "cell_type": "code",
   "execution_count": 19,
   "metadata": {},
   "outputs": [
    {
     "name": "stdout",
     "output_type": "stream",
     "text": [
      "2 step Adams Bashforth Local Truncation error: 20.0\n"
     ]
    }
   ],
   "source": [
    "AdamsBash_LTE=max(abs(myfun_exactddd(time)))*h**2*5/12\n",
    "\n",
    "print('2 step Adams Bashforth Local Truncation error:',AdamsBash_LTE)\n",
    "\n"
   ]
  },
  {
   "cell_type": "markdown",
   "metadata": {},
   "source": [
    "### Global Truncation Error\n",
    "The global truncation error of the 2 step Adams Bashforth for the IVP is,\n",
    "$$|w_i-y(t_i)|\\leq \\frac{h^2M_3}{6} \\frac{e^{L(1)}-1}{L}, $$\n",
    " and $L$ is the Lipschitz constant."
   ]
  },
  {
   "cell_type": "code",
   "execution_count": 20,
   "metadata": {},
   "outputs": [
    {
     "name": "stdout",
     "output_type": "stream",
     "text": [
      "2 step Adams Bashforth Global error: 34.3656365691809\n"
     ]
    }
   ],
   "source": [
    "AdamsBash_Global=AdamsBash_LTE*(np.exp(1)-1)\n",
    "print('2 step Adams Bashforth Global error:',AdamsBash_Global)"
   ]
  },
  {
   "cell_type": "markdown",
   "metadata": {},
   "source": [
    "## e. Predictor Corrector:\n",
    "The predictor is the 2 step Adams Bashforth\n",
    "$$ w^0_{i+1}=w_i+\\frac{0.25}{2}[3((1-2t_i)w_i^2)-((1-2t_{i-1})w_{i-1}^2)],$$\n",
    "and the corrector is the 2 step Adams Moulton\n",
    "$$ w_{i+1}=w_i++\\frac{0.25}{12}[5((1-2t_{i+1})(w^0_{i+1})^2)+8((1-2t_i)w_i^2)-((1-2t_{i-1})w_{i-1}^2)],$$\n",
    "\n"
   ]
  },
  {
   "cell_type": "code",
   "execution_count": 21,
   "metadata": {},
   "outputs": [
    {
     "name": "stdout",
     "output_type": "stream",
     "text": [
      "The table below shows the results of the Predictor Corrector method:\n"
     ]
    },
    {
     "data": {
      "text/html": [
       "<table><tr><td>i</td><td>time</td><td>Adams Bashforth(Pred)</td><td>Adams Moiulton (Corrector)</td></tr><tr><td>0</td><td>1.0</td><td>4.0</td><td>4.0</td></tr><tr><td>1</td><td>1.25</td><td>1.71802</td><td>1.71802</td></tr><tr><td>2</td><td>1.5</td><td>2.057749</td><td>0.431302</td></tr><tr><td>3</td><td>1.75</td><td>0.845209</td><td>0.275496</td></tr><tr><td>4</td><td>2.0</td><td>0.250847</td><td>0.231959</td></tr></table>"
      ],
      "text/plain": [
       "[['i', 'time', 'Adams Bashforth(Pred)', 'Adams Moiulton (Corrector)'],\n",
       " [0, 1.0, 4.0, 4.0],\n",
       " [1, 1.25, 1.71802, 1.71802],\n",
       " [2, 1.5, 2.057749, 0.431302],\n",
       " [3, 1.75, 0.845209, 0.275496],\n",
       " [4, 2.0, 0.250847, 0.231959]]"
      ]
     },
     "execution_count": 21,
     "metadata": {},
     "output_type": "execute_result"
    }
   ],
   "source": [
    "Adams=np.zeros(N+1)\n",
    "Pred=np.zeros(N+1)\n",
    "Adams[0]=INITIALCONDITION\n",
    "Adams[1]=RK4[1]\n",
    "Pred[0]=INITIALCONDITION\n",
    "Pred[1]=RK4[1]\n",
    "\n",
    "table = ListTable()\n",
    "table.append(['i','time', 'Adams Bashforth(Pred)','Adams Moiulton (Corrector)'])\n",
    "i=0\n",
    "table.append([i,round(time[i],3), round(Pred[i],3),round(Adams[i],3)])\n",
    "\n",
    "\n",
    "for i in range (1,N):\n",
    "    Pred[i+1]=Adams[i]+h/2*(3*myfun(time[i],Adams[i])-1*myfun(time[i-1],Adams[i-1]))\n",
    "    Adams[i+1]=Adams[i]+h/12*(5*myfun(time[i+1],Pred[i+1])+8*myfun(time[i],Adams[i])-myfun(time[i-1],Adams[i-1]))\n",
    "    table.append([i,round(time[i],3), round(Pred[i],6),round(Adams[i],6)])\n",
    "i=i+1\n",
    "table.append([i,round(time[i],3), round(Pred[i],6),round(Adams[i],6)])\n",
    "print('The table below shows the results of the Predictor Corrector method:')    \n",
    "table"
   ]
  },
  {
   "cell_type": "markdown",
   "metadata": {},
   "source": [
    "## f. Comparison of Solutions"
   ]
  },
  {
   "cell_type": "code",
   "execution_count": 22,
   "metadata": {},
   "outputs": [],
   "source": [
    "## The exact solution\n",
    "def myfun_exact(t):\n",
    "    exact=1/(t*t-t+1/INITIALCONDITION)\n",
    "    return exact\n",
    "Exact=myfun_exact(time)"
   ]
  },
  {
   "cell_type": "markdown",
   "metadata": {
    "collapsed": true
   },
   "source": [
    "### Table of Solutions"
   ]
  },
  {
   "cell_type": "code",
   "execution_count": 23,
   "metadata": {},
   "outputs": [
    {
     "name": "stdout",
     "output_type": "stream",
     "text": [
      "The table below shows all the approximations for each method and the exact solution\n"
     ]
    },
    {
     "data": {
      "text/html": [
       "<table><tr><td>time</td><td>Euler</td><td>Taylor</td><td>RK</td><td>Adams</td><td>Corrector</td><td>Exact</td></tr><tr><td>1.0</td><td>4.0</td><td>4.0</td><td>4.0</td><td>4.0</td><td>4.0</td><td>4.0</td></tr><tr><td>1.25</td><td>0.0</td><td>3.0</td><td>1.71802</td><td>1.71802</td><td>1.71802</td><td>1.777778</td></tr><tr><td>1.5</td><td>0.0</td><td>2.859375</td><td>0.983154</td><td>2.057749</td><td>0.431302</td><td>1.0</td></tr><tr><td>1.75</td><td>0.0</td><td>4.104941</td><td>0.633675</td><td>-0.564577</td><td>0.275496</td><td>0.64</td></tr><tr><td>2.0</td><td>0.0</td><td>19.539917</td><td>0.441556</td><td>0.195181</td><td>0.231959</td><td>0.444444</td></tr></table>"
      ],
      "text/plain": [
       "[['time', 'Euler', 'Taylor', 'RK', 'Adams', 'Corrector', 'Exact'],\n",
       " [1.0, 4.0, 4.0, 4.0, 4.0, 4.0, 4.0],\n",
       " [1.25, 0.0, 3.0, 1.71802, 1.71802, 1.71802, 1.777778],\n",
       " [1.5, 0.0, 2.859375, 0.983154, 2.057749, 0.431302, 1.0],\n",
       " [1.75, 0.0, 4.104941, 0.633675, -0.564577, 0.275496, 0.64],\n",
       " [2.0, 0.0, 19.539917, 0.441556, 0.195181, 0.231959, 0.444444]]"
      ]
     },
     "execution_count": 23,
     "metadata": {},
     "output_type": "execute_result"
    }
   ],
   "source": [
    "table = ListTable()\n",
    "table.append(['time', 'Euler','Taylor',  'RK','Adams','Corrector','Exact'])\n",
    "for i in range (0,N+1):\n",
    "    table.append([round(time[i],6), round(Euler[i],6), round(Taylor[i],6), round(RK4[i],6),round(AdamsBash[i],6),round(Adams[i],6),round(Exact[i],6)])\n",
    "\n",
    "print('The table below shows all the approximations for each method and the exact solution')\n",
    "table\n",
    "\n"
   ]
  },
  {
   "cell_type": "markdown",
   "metadata": {},
   "source": [
    "### Table of Errors"
   ]
  },
  {
   "cell_type": "code",
   "execution_count": 24,
   "metadata": {},
   "outputs": [
    {
     "name": "stdout",
     "output_type": "stream",
     "text": [
      "The table below shows the exact error |w-y| at each time point and the local and global truncation error:\n"
     ]
    },
    {
     "data": {
      "text/html": [
       "<table><tr><td>time</td><td>Euler</td><td>Taylor</td><td>RK</td><td>Adams</td><td>Corrector</td></tr><tr><td>1.0</td><td>0.0</td><td>0.0</td><td>0.0</td><td>0.0</td><td>0.0</td></tr><tr><td>1.25</td><td>-1.777778</td><td>1.222222</td><td>-0.059758</td><td>-0.059758</td><td>-0.059758</td></tr><tr><td>1.5</td><td>-1.0</td><td>1.859375</td><td>-0.016846</td><td>1.057749</td><td>-0.568698</td></tr><tr><td>1.75</td><td>-0.64</td><td>3.464941</td><td>-0.006325</td><td>-1.204577</td><td>-0.364504</td></tr><tr><td>2.0</td><td>-0.444444</td><td>19.095472</td><td>-0.002888</td><td>-0.249263</td><td>-0.212485</td></tr><tr><td>LTE</td><td>12.0</td><td>8.0</td><td>3.0</td><td>20.0</td><td>Not calculated</td></tr><tr><td>Global Error</td><td>20.619382</td><td>13.746255</td><td>5.154845</td><td>34.365637</td><td>Not calculated</td></tr></table>"
      ],
      "text/plain": [
       "[['time', 'Euler', 'Taylor', 'RK', 'Adams', 'Corrector'],\n",
       " [1.0, 0.0, 0.0, 0.0, 0.0, 0.0],\n",
       " [1.25, -1.777778, 1.222222, -0.059758, -0.059758, -0.059758],\n",
       " [1.5, -1.0, 1.859375, -0.016846, 1.057749, -0.568698],\n",
       " [1.75, -0.64, 3.464941, -0.006325, -1.204577, -0.364504],\n",
       " [2.0, -0.444444, 19.095472, -0.002888, -0.249263, -0.212485],\n",
       " ['LTE', 12.0, 8.0, 3.0, 20.0, 'Not calculated'],\n",
       " ['Global Error', 20.619382, 13.746255, 5.154845, 34.365637, 'Not calculated']]"
      ]
     },
     "execution_count": 24,
     "metadata": {},
     "output_type": "execute_result"
    }
   ],
   "source": [
    "print('The table below shows the exact error |w-y| at each time point and the local and global truncation error:')\n",
    "table2 = ListTable()\n",
    "table2.append(['time', 'Euler','Taylor',  'RK','Adams','Corrector'])\n",
    "for i in range (0,N+1):\n",
    "    table2.append([round(time[i],6), round(Euler[i]-Exact[i],6), round(Taylor[i]-Exact[i],6), round(RK4[i]-Exact[i],6),\n",
    "                   round(AdamsBash[i]-Exact[i],6),round(Adams[i]-Exact[i],6)])\n",
    "table2.append(['LTE', round(Euler_LTE,6), round(Taylor_LTE,6), round(RK4_LTE,6),\n",
    "                   round(AdamsBash_LTE,6),'Not calculated'])\n",
    "table2.append(['Global Error', round(Euler_Global,6), round(Taylor_Global,6), round(RK4_Global,6),\n",
    "                   round(AdamsBash_Global,6),'Not calculated'])\n",
    "    \n",
    "table2 "
   ]
  },
  {
   "cell_type": "markdown",
   "metadata": {},
   "source": [
    "### Plot of solutions and errors"
   ]
  },
  {
   "cell_type": "code",
   "execution_count": 25,
   "metadata": {},
   "outputs": [
    {
     "name": "stdout",
     "output_type": "stream",
     "text": [
      "The plots below show the approximate solutions and the exact solution on the left and the exact error w-y :\n"
     ]
    },
    {
     "data": {
      "image/png": "[encoded data removed]",
      "text/plain": [
       "<Figure size 1008x288 with 2 Axes>"
      ]
     },
     "metadata": {
      "needs_background": "light"
     },
     "output_type": "display_data"
    }
   ],
   "source": [
    "print('The plots below show the approximate solutions and the exact solution on the left and the exact error w-y :')\n",
    "fig = plt.figure(figsize=(14,4))\n",
    "plt.subplot(1, 2, 1)\n",
    "plt.plot(time,Euler,'o:',color='red',label='Euler')\n",
    "plt.plot(time,RK4,'o:',color='green',label='RK4')\n",
    "plt.plot(time,Taylor,'o:',color='purple',label='Taylor')\n",
    "plt.plot(time,AdamsBash,'o:',color='yellow',label='AdamsBash')\n",
    "plt.plot(time,Adams,'o:',color='black',label='Predictor Corrector')\n",
    "plt.plot(time,Exact,'k',label='Exact')\n",
    "plt.title('Solutions')\n",
    "plt.legend(loc='best')\n",
    "\n",
    "plt.subplot(1, 2, 2)\n",
    "plt.plot(time,Euler-Exact,'o:',color='red',label='Euler')\n",
    "plt.plot(time,RK4-Exact,'o:',color='green',label='RK4')\n",
    "plt.plot(time,Taylor-Exact,'o:',color='purple',label='Taylor')\n",
    "plt.plot(time,AdamsBash-Exact,'o:',color='yellow',label='AdamsBash')\n",
    "plt.plot(time,Adams-Exact,'o:',color='black',label='Predictor Corrector')\n",
    "plt.title('Exact Error')\n",
    "plt.legend(loc='best')\n",
    "plt.show()"
   ]
  },
  {
   "cell_type": "markdown",
   "metadata": {},
   "source": [
    "## Conclusion\n",
    "The most accurate method is the 4th order Runge Kutta."
   ]
  },
  {
   "cell_type": "code",
   "execution_count": 26,
   "metadata": {},
   "outputs": [],
   "source": [
    "# Supplementary functions\n",
    "\n",
    "# derivative of the exact with respect to t\n",
    "def myfun_exactd(t):\n",
    "    ftw=-(2*t-1)/(t*t-t+1/INITIALCONDITION)**1\n",
    "\n",
    "    return ftw\n",
    "\n",
    "# 4th derivative of the exact with respect to t\n",
    "\n",
    "\n",
    "def myfun_exactdddd(t):\n",
    "    ftw=24*(2*t-1)**4/(t*t-t+1/INITIALCONDITION)**5-72*(2*t-1)**2/(t*t-t+1/INITIALCONDITION)**3+24/(t*t-t+1/INITIALCONDITION)**2\n",
    "\n",
    "    return ftw\n",
    "\n",
    "\n"
   ]
  }
 ],
 "metadata": {
  "kernelspec": {
   "display_name": "Python 3",
   "language": "python",
   "name": "python3"
  },
  "language_info": {
   "codemirror_mode": {
    "name": "ipython",
    "version": 3
   },
   "file_extension": ".py",
   "mimetype": "text/x-python",
   "name": "python",
   "nbconvert_exporter": "python",
   "pygments_lexer": "ipython3",
   "version": "3.6.8"
  }
 },
 "nbformat": 4,
 "nbformat_minor": 1
}
