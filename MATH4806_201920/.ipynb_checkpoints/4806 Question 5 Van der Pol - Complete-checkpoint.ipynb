{
 "cells": [
  {
   "cell_type": "markdown",
   "metadata": {},
   "source": [
    "# Question 5 Van der Pol"
   ]
  },
  {
   "cell_type": "code",
   "execution_count": 1,
   "metadata": {},
   "outputs": [],
   "source": [
    "import numpy as np\n",
    "import math \n",
    "\n",
    "%matplotlib inline\n",
    "import matplotlib.pyplot as plt # side-stepping mpl backend\n",
    "import matplotlib.gridspec as gridspec # subplots\n",
    "import warnings\n",
    "warnings.filterwarnings(\"ignore\")"
   ]
  },
  {
   "cell_type": "code",
   "execution_count": 2,
   "metadata": {},
   "outputs": [],
   "source": [
    "class ListTable(list):\n",
    "    \"\"\" Overridden list class which takes a 2-dimensional list of \n",
    "        the form [[1,2,3],[4,5,6]], and renders an HTML Table in \n",
    "        IPython Notebook. \"\"\"\n",
    "    \n",
    "    def _repr_html_(self):\n",
    "        html = [\"<table>\"]\n",
    "        for row in self:\n",
    "            html.append(\"<tr>\")\n",
    "            \n",
    "            for col in row:\n",
    "                html.append(\"<td>{0}</td>\".format(col))\n",
    "            \n",
    "            html.append(\"</tr>\")\n",
    "        html.append(\"</table>\")\n",
    "        return ''.join(html)"
   ]
  },
  {
   "cell_type": "code",
   "execution_count": 33,
   "metadata": {},
   "outputs": [],
   "source": [
    "N=5\n",
    "t_end=1.0\n",
    "t_start=0.0\n",
    "h=((t_end-t_start)/N)\n",
    "\n",
    "time=np.arange(t_start,t_end+h/2,h)\n",
    "ep=3.5"
   ]
  },
  {
   "cell_type": "code",
   "execution_count": 34,
   "metadata": {},
   "outputs": [],
   "source": [
    "def myfun_u(t,u,ud):\n",
    "    ftw=-ep*(u*u-1)*ud-u\n",
    "    return ftw\n",
    "\n",
    "\n",
    "def myfun_z(t,z,zd,u,ud):\n",
    "   # ftw=-ep*(u*u-1)*zd+(-ep*2*u*ud*ud-1)*z\n",
    "    ftw=-ep*(u*u-1)*zd+(-ep*2*u*ud-1)*z\n",
    "    return ftw"
   ]
  },
  {
   "cell_type": "code",
   "execution_count": 37,
   "metadata": {},
   "outputs": [
    {
     "data": {
      "image/png": "[encoded data removed]",
      "text/plain": [
       "<Figure size 576x432 with 1 Axes>"
      ]
     },
     "metadata": {
      "needs_background": "light"
     },
     "output_type": "display_data"
    }
   ],
   "source": [
    "lamb=-1\n",
    "u=np.zeros(N+1)\n",
    "ud=np.zeros(N+1)\n",
    "u[0]=0.75\n",
    "ud[0]=lamb\n",
    "z=np.zeros(N+1)\n",
    "zd=np.zeros(N+1)\n",
    "z[0]=0\n",
    "zd[0]=1\n",
    "for i in range (0,N):\n",
    "    # Euler Method\n",
    "    ud[i+1]=ud[i]+h*myfun_u(time[i],u[i],ud[i])\n",
    "    u[i+1]=u[i]+h*ud[i]\n",
    "    zd[i+1]=zd[i]+h*myfun_z(time[i],z[i],zd[i],u[i],ud[i])\n",
    "    z[i+1]=z[i]+h*zd[i]\n",
    "    \n",
    "    \n",
    "lamb = lamb-(u[N]-0)/z[N]\n",
    "fig = plt.figure(figsize=(8,6))\n",
    "plt.plot(time, u, 'ro:', label='u')\n",
    "plt.plot(time, ud, 'rs:', label='ud')\n",
    "plt.plot(time, z, 'bo:', label='z')\n",
    "plt.plot(time, zd, 'bs:', label='zd')\n",
    "plt.tight_layout()"
   ]
  },
  {
   "cell_type": "code",
   "execution_count": 38,
   "metadata": {},
   "outputs": [
    {
     "data": {
      "text/html": [
       "<table><tr><td>i</td><td>time</td><td>dy</td><td>y</td><td>dz</td><td>z</td></tr><tr><td>0</td><td>0.0</td><td>-1.0</td><td>0.75</td><td>1.0</td><td>0.0</td></tr><tr><td>1</td><td>0.2</td><td>-1.4562</td><td>0.55</td><td>1.3062</td><td>0.2</td></tr><tr><td>2</td><td>0.4</td><td>-2.2773</td><td>0.2588</td><td>2.1283</td><td>0.4612</td></tr><tr><td>3</td><td>0.6</td><td>-3.8164</td><td>-0.1967</td><td>3.8066</td><td>0.8869</td></tr><tr><td>4</td><td>0.8</td><td>-6.3451</td><td>-0.96</td><td>5.2586</td><td>1.6482</td></tr><tr><td>5</td><td>1.0</td><td>-6.5015</td><td>-2.229</td><td>-8.8378</td><td>2.7</td></tr></table>"
      ],
      "text/plain": [
       "[['i', 'time', 'dy', 'y', 'dz', 'z'],\n",
       " [0, 0.0, -1.0, 0.75, 1.0, 0.0],\n",
       " [1, 0.2, -1.4562, 0.55, 1.3062, 0.2],\n",
       " [2, 0.4, -2.2773, 0.2588, 2.1283, 0.4612],\n",
       " [3, 0.6, -3.8164, -0.1967, 3.8066, 0.8869],\n",
       " [4, 0.8, -6.3451, -0.96, 5.2586, 1.6482],\n",
       " [5, 1.0, -6.5015, -2.229, -8.8378, 2.7]]"
      ]
     },
     "execution_count": 38,
     "metadata": {},
     "output_type": "execute_result"
    }
   ],
   "source": [
    "table = ListTable()\n",
    "table.append(['i','time','dy','y','dz','z'])\n",
    "for i in range (0,N+1):\n",
    "    table.append([i,round(time[i],4),round(ud[i],4),round(u[i],4),round(zd[i],4),round(z[i],4)])\n",
    "    \n",
    "table"
   ]
  },
  {
   "cell_type": "code",
   "execution_count": 39,
   "metadata": {},
   "outputs": [
    {
     "data": {
      "text/plain": [
       "-0.17442904609208365"
      ]
     },
     "execution_count": 39,
     "metadata": {},
     "output_type": "execute_result"
    }
   ],
   "source": [
    "lamb\n"
   ]
  },
  {
   "cell_type": "code",
   "execution_count": 40,
   "metadata": {},
   "outputs": [
    {
     "data": {
      "text/plain": [
       "1.1"
      ]
     },
     "execution_count": 40,
     "metadata": {},
     "output_type": "execute_result"
    }
   ],
   "source": [
    "1+0.2*(2*0.75-1)\n"
   ]
  },
  {
   "cell_type": "code",
   "execution_count": null,
   "metadata": {},
   "outputs": [],
   "source": []
  }
 ],
 "metadata": {
  "kernelspec": {
   "display_name": "Python 3",
   "language": "python",
   "name": "python3"
  },
  "language_info": {
   "codemirror_mode": {
    "name": "ipython",
    "version": 3
   },
   "file_extension": ".py",
   "mimetype": "text/x-python",
   "name": "python",
   "nbconvert_exporter": "python",
   "pygments_lexer": "ipython3",
   "version": "3.7.3"
  }
 },
 "nbformat": 4,
 "nbformat_minor": 1
}
