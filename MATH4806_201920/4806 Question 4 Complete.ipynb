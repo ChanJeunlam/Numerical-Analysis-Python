{
 "cells": [
  {
   "cell_type": "markdown",
   "metadata": {},
   "source": [
    "# Question 4 2nd Order Initial Value Problem"
   ]
  },
  {
   "cell_type": "code",
   "execution_count": 1,
   "metadata": {},
   "outputs": [
    {
     "data": {
      "text/html": [
       "<script>\n",
       "code_show=true; \n",
       "function code_toggle() {\n",
       " if (code_show){\n",
       " $('div.input').hide();\n",
       " } else {\n",
       " $('div.input').show();\n",
       " }\n",
       " code_show = !code_show\n",
       "} \n",
       "$( document ).ready(code_toggle);\n",
       "</script>\n",
       "<form action=\"javascript:code_toggle()\"><input type=\"submit\" value=\"Click here to toggle on/off the raw code.\"></form>"
      ],
      "text/plain": [
       "<IPython.core.display.HTML object>"
      ]
     },
     "execution_count": 1,
     "metadata": {},
     "output_type": "execute_result"
    }
   ],
   "source": [
    "import numpy as np\n",
    "import math \n",
    "\n",
    "%matplotlib inline\n",
    "import matplotlib.pyplot as plt # side-stepping mpl backend\n",
    "import matplotlib.gridspec as gridspec # subplots\n",
    "import warnings\n",
    "from IPython.display import HTML\n",
    "warnings.filterwarnings(\"ignore\")\n",
    "HTML('''<script>\n",
    "code_show=true; \n",
    "function code_toggle() {\n",
    " if (code_show){\n",
    " $('div.input').hide();\n",
    " } else {\n",
    " $('div.input').show();\n",
    " }\n",
    " code_show = !code_show\n",
    "} \n",
    "$( document ).ready(code_toggle);\n",
    "</script>\n",
    "<form action=\"javascript:code_toggle()\"><input type=\"submit\" value=\"Click here to toggle on/off the raw code.\"></form>''')\n"
   ]
  },
  {
   "cell_type": "markdown",
   "metadata": {},
   "source": [
    "Consider the 2nd order initial value problem,\n",
    "$$y''=-0.5y'+4y+e^{2t},$$\n",
    "with the initial conditions\n",
    "$$ y(0)=3, \\text{ and } y'(0)=1. $$\n",
    "The Euler midpoint method is\n",
    "$$w_{i+1}=w_i+hf(t_i+\\frac{h}{2},w_i+\\frac{h}{2}k_1),$$\n",
    "where $h$ is the stepsize and \n",
    "$$k_1=f(t_i,w_i).$$\n",
    "To discretise the IVP seperate into two initial value problems\n",
    "$$z'=-1.5z+4y+e^{2t},$$\n",
    "$$y'=z,$$\n",
    "and apply the midpoint method\n",
    "$$z_{i+1}=z_i+h[-0.5(z_i+\\frac{h}{2}k_z)+4(y_i+\\frac{h}{2}k_y)+e^{2t_i+\\frac{h}{2}}],$$\n",
    "$$y_{i+1}=y_i+h[z_i+\\frac{h}{2}k_z],$$\n",
    "where\n",
    "$$k_z=[-0.5z_i+4y_i+e^{2t_i}],$$\n",
    "$$k_y=[y_i],$$\n",
    "and $h$ is the stepsize.\n"
   ]
  },
  {
   "cell_type": "code",
   "execution_count": 2,
   "metadata": {},
   "outputs": [],
   "source": [
    "N=5\n",
    "t_end=2.0\n",
    "t_start=0.0\n",
    "h=((t_end-t_start)/N)\n",
    "\n",
    "time=np.arange(t_start,t_end+h/2,h)\n"
   ]
  },
  {
   "cell_type": "code",
   "execution_count": 9,
   "metadata": {},
   "outputs": [],
   "source": [
    "def myfun_u(t,y,dy):\n",
    "    ftw=-0.5*dy+4*y+math.exp(2*t)\n",
    "    return ftw\n"
   ]
  },
  {
   "cell_type": "code",
   "execution_count": 16,
   "metadata": {
    "scrolled": true
   },
   "outputs": [
    {
     "name": "stdout",
     "output_type": "stream",
     "text": [
      "Plot of numerical aproximation of the solution (y_i) and the derivative (z_i):\n"
     ]
    },
    {
     "data": {
      "image/png": "[encoded data removed]",
      "text/plain": [
       "<Figure size 576x432 with 1 Axes>"
      ]
     },
     "metadata": {
      "needs_background": "light"
     },
     "output_type": "display_data"
    }
   ],
   "source": [
    "z=np.zeros(N+1)\n",
    "k_z=np.zeros(N+1)\n",
    "k_y=np.zeros(N+1)\n",
    "z[0]=1\n",
    "y=np.zeros(N+1)\n",
    "y[0]=3\n",
    "\n",
    "for i in range (0,N):\n",
    "    # Midpoint Method\n",
    "    k_y[i]=y[i]\n",
    "    k_z[i]=myfun_u(time[i],y[i],z[i])\n",
    "    z[i+1]=z[i]+h*myfun_u(time[i]+h/2,y[i]+h/2*k_y[i],z[i]+h/2*k_z[i])\n",
    "    y[i+1]=y[i]+h*(z[i]+h/2*k_z[i])\n",
    "    \n",
    "    \n",
    "print('Plot of numerical aproximation of the solution (y_i) and the derivative (z_i):' )\n",
    "fig = plt.figure(figsize=(8,6))\n",
    "plt.plot(time, y, 'r:o', label='y')\n",
    "plt.plot(time, z, 'b:s', label='z')\n",
    "plt.legend()\n",
    "plt.xlabel('time')\n",
    "plt.tight_layout()"
   ]
  },
  {
   "cell_type": "code",
   "execution_count": 17,
   "metadata": {},
   "outputs": [
    {
     "name": "stdout",
     "output_type": "stream",
     "text": [
      "time: [0.  0.4 0.8 1.2 1.6 2. ]\n",
      "Approximation of the y_i and the half step k_y\n",
      "k_y: [ 3.          4.4         8.38246603 16.66005346 33.44009925  0.        ]\n",
      "y: [ 3.          4.4         8.38246603 16.66005346 33.44009925 67.53355784]\n",
      "Approximation of the derivative (z_i) and the half step k_z\n",
      "k_z: [ 12.5         16.49717599  31.26212473  62.98703666 128.5290044\n",
      "   0.        ]\n",
      "z: [  1.           6.65672988  14.44154363  29.35270714  59.5278456\n",
      " 121.32540064]\n"
     ]
    }
   ],
   "source": [
    "\n",
    "print('time:', time)\n",
    "print('Approximation of the y_i and the half step k_y')\n",
    "print('k_y:', k_y)\n",
    "print('y:', y)\n",
    "print('Approximation of the derivative (z_i) and the half step k_z')\n",
    "print('k_z:', k_z)\n",
    "print('z:', z)\n",
    "\n"
   ]
  },
  {
   "cell_type": "code",
   "execution_count": null,
   "metadata": {},
   "outputs": [],
   "source": []
  },
  {
   "cell_type": "code",
   "execution_count": null,
   "metadata": {},
   "outputs": [],
   "source": []
  }
 ],
 "metadata": {
  "kernelspec": {
   "display_name": "Python 3",
   "language": "python",
   "name": "python3"
  },
  "language_info": {
   "codemirror_mode": {
    "name": "ipython",
    "version": 3
   },
   "file_extension": ".py",
   "mimetype": "text/x-python",
   "name": "python",
   "nbconvert_exporter": "python",
   "pygments_lexer": "ipython3",
   "version": "3.7.3"
  }
 },
 "nbformat": 4,
 "nbformat_minor": 1
}
