{
 "cells": [
  {
   "cell_type": "markdown",
   "metadata": {},
   "source": [
    "# Example Runge Kutta\n",
    "\n",
    "The general form of the population growth differential equation\n",
    "$$ y^{'}=t-y, \\ \\ (0 \\leq t \\leq 4) $$\n",
    "with the initial condition\n",
    "$$y(0)=1,$$\n",
    "Has the exact soulation. $$ y= 2e^{-t}+t-1$$\n",
    "\n"
   ]
  },
  {
   "cell_type": "markdown",
   "metadata": {},
   "source": [
    "#### Setting up Libraries"
   ]
  },
  {
   "cell_type": "code",
   "execution_count": 1,
   "metadata": {
    "collapsed": true
   },
   "outputs": [],
   "source": [
    "import numpy as np\n",
    "import math \n",
    "\n",
    "%matplotlib inline\n",
    "import matplotlib.pyplot as plt # side-stepping mpl backend\n",
    "import matplotlib.gridspec as gridspec # subplots\n",
    "import warnings\n",
    "\n",
    "warnings.filterwarnings(\"ignore\")\n"
   ]
  },
  {
   "cell_type": "markdown",
   "metadata": {},
   "source": [
    "## Defining the function\n",
    "$$f(t,y)=t-y$$ "
   ]
  },
  {
   "cell_type": "code",
   "execution_count": 2,
   "metadata": {
    "collapsed": true
   },
   "outputs": [],
   "source": [
    "def myfun_ty(t,y):\n",
    "    return y*t-2*t*t"
   ]
  },
  {
   "cell_type": "markdown",
   "metadata": {},
   "source": [
    "## Initial Setup\n",
    "Defining the step size $h$ from the interval range $a\\leq t \\leq b$ and number of steps $N$\n",
    "$$h=\\frac{b-a}{h}.$$\n",
    "This gives the discrete time steps,\n",
    "$$t_{i}=t_0+ih,$$\n",
    "where $t_0=a$."
   ]
  },
  {
   "cell_type": "code",
   "execution_count": 3,
   "metadata": {
    "collapsed": false
   },
   "outputs": [],
   "source": [
    "# Start and end of interval\n",
    "b=2\n",
    "a=1\n",
    "# Step size\n",
    "N=4\n",
    "h=(b-a)/(N)\n",
    "t=np.arange(a,b+h,h)"
   ]
  },
  {
   "cell_type": "markdown",
   "metadata": {},
   "source": [
    "## Setting up the initial conditions of the equation\n",
    "$$w_0=IC$$\n"
   ]
  },
  {
   "cell_type": "code",
   "execution_count": 4,
   "metadata": {
    "collapsed": true
   },
   "outputs": [],
   "source": [
    "# Initial Condition\n",
    "IC=2\n",
    "w=np.zeros(N+1)\n",
    "k1=np.zeros(N+1)\n",
    "k2=np.zeros(N+1)\n",
    "y=(IC+1)*np.exp(-t)+t-1#np.zeros(N+1)\n",
    "w[0]=IC"
   ]
  },
  {
   "cell_type": "markdown",
   "metadata": {},
   "source": [
    "## 2nd Order Runge Kutta (Mid-method)\n",
    "$$k_1=f(t,y),$$\n",
    "$$k_2=f(t+\\frac{h}{2},y+\\frac{h}{2}k_2),$$\n",
    "$$w_{i+1}=w_{i}+h(k_2).$$"
   ]
  },
  {
   "cell_type": "code",
   "execution_count": 5,
   "metadata": {
    "collapsed": true
   },
   "outputs": [],
   "source": [
    "for k in range (0,N):\n",
    "    k1[k]=myfun_ty(t[k],w[k])\n",
    "    k2[k]=myfun_ty(t[k]+h/2,w[k]+h/2*k1[k])\n",
    "    w[k+1]=w[k]+h*(k2[k])"
   ]
  },
  {
   "cell_type": "markdown",
   "metadata": {},
   "source": [
    "## Plotting Results"
   ]
  },
  {
   "cell_type": "code",
   "execution_count": 6,
   "metadata": {
    "collapsed": false
   },
   "outputs": [
    {
     "data": {
      "image/png": "[encoded data removed]",
      "text/plain": [
       "<matplotlib.figure.Figure at 0x7f782e6920f0>"
      ]
     },
     "metadata": {},
     "output_type": "display_data"
    }
   ],
   "source": [
    "fig = plt.figure(figsize=(10,4))\n",
    "# --- left hand plot\n",
    "ax = fig.add_subplot(1,3,1)\n",
    "plt.plot(t,w, '--',color='blue')\n",
    "#ax.legend(loc='best')\n",
    "plt.title('Numerical Solution h=%s'%(h))\n",
    "\n",
    "ax = fig.add_subplot(1,3,2)\n",
    "plt.plot(t,y,color='black')\n",
    "plt.title('Exact Solution ')\n",
    "\n",
    "ax = fig.add_subplot(1,3,3)\n",
    "plt.plot(t,y-w, 'o',color='red')\n",
    "plt.title('Error')\n",
    "# --- title, explanatory text and save\n",
    "fig.suptitle(r\"$y'=yt-2t^2,   \\ \\ y(%s)=%s.$\"%(t[0],IC), fontsize=20)\n",
    "plt.tight_layout()\n",
    "plt.subplots_adjust(top=0.85)    "
   ]
  },
  {
   "cell_type": "code",
   "execution_count": 7,
   "metadata": {
    "collapsed": false
   },
   "outputs": [
    {
     "name": "stdout",
     "output_type": "stream",
     "text": [
      "[ 0.         -0.71289062 -2.07439041 -4.64037639  0.        ]\n"
     ]
    }
   ],
   "source": [
    "print(k1)"
   ]
  },
  {
   "cell_type": "code",
   "execution_count": 9,
   "metadata": {
    "collapsed": false
   },
   "outputs": [
    {
     "name": "stdout",
     "output_type": "stream",
     "text": [
      "[-0.28125    -1.25045776 -3.07486683 -6.52817006  0.        ]\n",
      "[ 2.          1.9296875   1.61707306  0.84835635 -0.78368616]\n"
     ]
    }
   ],
   "source": [
    "print(k2)\n",
    "print(w)"
   ]
  },
  {
   "cell_type": "code",
   "execution_count": 10,
   "metadata": {
    "collapsed": false
   },
   "outputs": [
    {
     "name": "stdout",
     "output_type": "stream",
     "text": [
      "0.25\n"
     ]
    }
   ],
   "source": [
    "print(h)"
   ]
  },
  {
   "cell_type": "code",
   "execution_count": null,
   "metadata": {
    "collapsed": true
   },
   "outputs": [],
   "source": []
  }
 ],
 "metadata": {
  "kernelspec": {
   "display_name": "Python 3",
   "language": "python",
   "name": "python3"
  },
  "language_info": {
   "codemirror_mode": {
    "name": "ipython",
    "version": 3
   },
   "file_extension": ".py",
   "mimetype": "text/x-python",
   "name": "python",
   "nbconvert_exporter": "python",
   "pygments_lexer": "ipython3",
   "version": "3.4.1"
  }
 },
 "nbformat": 4,
 "nbformat_minor": 0
}
