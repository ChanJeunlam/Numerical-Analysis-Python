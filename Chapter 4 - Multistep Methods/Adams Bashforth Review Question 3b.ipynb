{
 "cells": [
  {
   "cell_type": "markdown",
   "metadata": {},
   "source": [
    "## Problem Sheet Question 3b\n",
    "\n",
    "The general form of the population growth differential equation\n",
    "$$ y^{'}=t-y, \\ \\ (0 \\leq t \\leq 2) $$\n",
    "with the initial condition\n",
    "$$y(0)=1$$\n",
    "$$y_1=y(0.25)=0.6872$$\n",
    "For N=4\n",
    "\n",
    "\n",
    "### 2-step Adams Bashforth\n",
    "\n",
    "The 3-step Adams Bashforth difference equation is\n",
    "$$w_{i+1} = w_{i} + \\frac{h}{2}(3f(t_i,w_i)-f(t_{i-1},w_{i-1})) $$\n",
    "where\n",
    "$$w_{i+1} = w_{i} + \\frac{h}{2}(3(t_iw_i-w_i)-(t_{i-1}w_{i-1}-w_{i-1})) $$\n"
   ]
  },
  {
   "cell_type": "code",
   "execution_count": 1,
   "metadata": {
    "collapsed": true
   },
   "outputs": [],
   "source": [
    "import numpy as np\n",
    "import math \n",
    "\n",
    "%matplotlib inline\n",
    "import matplotlib.pyplot as plt # side-stepping mpl backend\n",
    "import matplotlib.gridspec as gridspec # subplots\n",
    "import warnings\n",
    "\n",
    "warnings.filterwarnings(\"ignore\")\n"
   ]
  },
  {
   "cell_type": "code",
   "execution_count": 7,
   "metadata": {
    "collapsed": true
   },
   "outputs": [],
   "source": [
    "def myfun_ty(t,y):\n",
    "    return t*y-y\n",
    "\n",
    "def Adams_Bashforth_2step(N,IC):\n",
    "\n",
    "    x_end=2\n",
    "    x_start=0\n",
    "    INTITIAL_CONDITION=IC\n",
    "    h=x_end/(N)\n",
    "    N=N+2;\n",
    "    t=np.zeros(N)\n",
    "    w=np.zeros(N)\n",
    "    k=0\n",
    "    t[0]=x_start\n",
    "    t[1]=x_start+1*h\n",
    "    w[0]=INTITIAL_CONDITION\n",
    "    w[1]=0.6872\n",
    "\n",
    "    for k in range (1,N-1):\n",
    "        w[k+1]=w[k]+h/2.0*(3*myfun_ty(t[k],w[k])-myfun_ty(t[k-1],w[k-1]))\n",
    "        t[k+1]=t[k]+h\n",
    "\n",
    "    fig = plt.figure(figsize=(10,4))\n",
    "    plt.plot(t,w,color='red')\n",
    "    plt.title('Numerical Solution h=%s'%(h))\n",
    "    fig.suptitle(r\"$y'=ty-y$\", fontsize=20)\n",
    "    plt.tight_layout()\n",
    "    plt.subplots_adjust(top=0.85)    \n",
    "    print('time')\n",
    "    print(t)\n",
    "    print('Numerical Solution')\n",
    "    print(w)"
   ]
  },
  {
   "cell_type": "code",
   "execution_count": 8,
   "metadata": {
    "collapsed": false
   },
   "outputs": [
    {
     "name": "stdout",
     "output_type": "stream",
     "text": [
      "time\n",
      "[ 0.   0.5  1.   1.5  2.   2.5]\n",
      "Numerical Solution\n",
      "[ 1.          0.6872      0.6795      0.7654      1.052425    1.74606875]\n"
     ]
    },
    {
     "data": {
      "image/png": "[encoded data removed]",
      "text/plain": [
       "<matplotlib.figure.Figure at 0x7fa4b5b6aeb8>"
      ]
     },
     "metadata": {},
     "output_type": "display_data"
    }
   ],
   "source": [
    "Adams_Bashforth_2step(4,1)"
   ]
  },
  {
   "cell_type": "code",
   "execution_count": null,
   "metadata": {
    "collapsed": true
   },
   "outputs": [],
   "source": []
  }
 ],
 "metadata": {
  "kernelspec": {
   "display_name": "Python 3",
   "language": "python",
   "name": "python3"
  },
  "language_info": {
   "codemirror_mode": {
    "name": "ipython",
    "version": 3
   },
   "file_extension": ".py",
   "mimetype": "text/x-python",
   "name": "python",
   "nbconvert_exporter": "python",
   "pygments_lexer": "ipython3",
   "version": "3.4.1"
  }
 },
 "nbformat": 4,
 "nbformat_minor": 0
}
