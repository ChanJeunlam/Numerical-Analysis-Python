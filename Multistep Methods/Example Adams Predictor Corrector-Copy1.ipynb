{
 "cells": [
  {
   "cell_type": "markdown",
   "metadata": {},
   "source": [
    "# Adams Predictor Corrector\n",
    "The Adams Predictor corrector method is used to side step the issue of the Adams-Moulton method being implicit. It can also be used to estimate error when the solution is unknown.\n",
    "## Intial Value Problem\n",
    "\n",
    "The differential equation\n",
    "$$ y^{'}=t-y, \\ \\ (0 \\leq t \\leq 2) $$\n",
    "with the initial condition\n",
    "$$y(0)=1$$\n",
    "will be used to illustrate the method."
   ]
  },
  {
   "cell_type": "markdown",
   "metadata": {},
   "source": [
    "## Python Libraries"
   ]
  },
  {
   "cell_type": "code",
   "execution_count": 1,
   "metadata": {
    "collapsed": true
   },
   "outputs": [],
   "source": [
    "import numpy as np\n",
    "import math \n",
    "\n",
    "%matplotlib inline\n",
    "import matplotlib.pyplot as plt # side-stepping mpl backend\n",
    "import matplotlib.gridspec as gridspec # subplots\n",
    "import warnings\n",
    "\n",
    "warnings.filterwarnings(\"ignore\")\n",
    "class ListTable(list):\n",
    "    \"\"\" Overridden list class which takes a 2-dimensional list of \n",
    "        the form [[1,2,3],[4,5,6]], and renders an HTML Table in \n",
    "        IPython Notebook. \"\"\"\n",
    "    \n",
    "    def _repr_html_(self):\n",
    "        html = [\"<table>\"]\n",
    "        for row in self:\n",
    "            html.append(\"<tr>\")\n",
    "            \n",
    "            for col in row:\n",
    "                html.append(\"<td>{0}</td>\".format(col))\n",
    "            \n",
    "            html.append(\"</tr>\")\n",
    "        html.append(\"</table>\")\n",
    "        return ''.join(html)"
   ]
  },
  {
   "cell_type": "markdown",
   "metadata": {},
   "source": [
    "### Defining the function\n",
    "$$ f(t,y)=t-y.$$"
   ]
  },
  {
   "cell_type": "code",
   "execution_count": 2,
   "metadata": {
    "collapsed": true
   },
   "outputs": [],
   "source": [
    "def myfun_ty(t,y):\n",
    "    return -y+t*t"
   ]
  },
  {
   "cell_type": "markdown",
   "metadata": {},
   "source": [
    "## Discrete Interval\n",
    "Defining the step size  $h$  from the interval range  $a≤t≤b$  and number of steps  $N$ \n",
    "$$h=b−ah.$$\n",
    " \n",
    "This gives the discrete time steps,\n",
    "$$t_i=t_0+ih,$$\n",
    "where  $t0=a.$\n",
    "\n",
    "Here the interval is  $0≤t≤2$  and number of step  4 \n",
    "$$h=\\frac{2−0}{4}=0.5.$$\n",
    " \n",
    "This gives the discrete time steps,\n",
    "$$t_i=0+i0.5,$$\n",
    "for  $i=0,1,⋯,4.$"
   ]
  },
  {
   "cell_type": "code",
   "execution_count": 3,
   "metadata": {
    "collapsed": false
   },
   "outputs": [
    {
     "data": {
      "text/plain": [
       "<matplotlib.text.Text at 0x7febb8b7a2b0>"
      ]
     },
     "execution_count": 3,
     "metadata": {},
     "output_type": "execute_result"
    },
    {
     "data": {
      "image/png": "[encoded data removed]",
      "text/plain": [
       "<matplotlib.figure.Figure at 0x7febb9bceb70>"
      ]
     },
     "metadata": {},
     "output_type": "display_data"
    }
   ],
   "source": [
    "# Start and end of interval\n",
    "b=1\n",
    "a=0\n",
    "# Step size\n",
    "N=4\n",
    "h=(b-a)/(N)\n",
    "t=np.arange(a,b+h,h)\n",
    "fig = plt.figure(figsize=(10,4))\n",
    "plt.plot(t,0*t,'o:',color='red')\n",
    "plt.xlim((0,2))\n",
    "plt.title('Illustration of discrete time points for h=%s'%(h))"
   ]
  },
  {
   "cell_type": "markdown",
   "metadata": {},
   "source": [
    "## Exact Solution\n",
    "THe initial value problem has the exact solution\n",
    "$$y(t)=2e^{-t}+t-1.$$\n",
    "The figure below plots the exact solution."
   ]
  },
  {
   "cell_type": "code",
   "execution_count": 4,
   "metadata": {
    "collapsed": false
   },
   "outputs": [
    {
     "data": {
      "text/plain": [
       "<matplotlib.text.Text at 0x7febb8e48358>"
      ]
     },
     "execution_count": 4,
     "metadata": {},
     "output_type": "execute_result"
    },
    {
     "data": {
      "image/png": "[encoded data removed]",
      "text/plain": [
       "<matplotlib.figure.Figure at 0x7febd80fa2e8>"
      ]
     },
     "metadata": {},
     "output_type": "display_data"
    }
   ],
   "source": [
    "IC=1 # Intial condtion\n",
    "y=(IC+1)*np.exp(-t)+t-1\n",
    "fig = plt.figure(figsize=(6,4))\n",
    "plt.plot(t,y,'o-',color='black')\n",
    "plt.title('Exact Solution ')\n",
    "plt.xlabel('time')"
   ]
  },
  {
   "cell_type": "code",
   "execution_count": 5,
   "metadata": {
    "collapsed": true
   },
   "outputs": [],
   "source": [
    "# Initial Condition\n",
    "w=np.zeros(N+1)\n",
    "#np.zeros(N+1)\n",
    "w[0]=1"
   ]
  },
  {
   "cell_type": "markdown",
   "metadata": {},
   "source": [
    "\n",
    "\n",
    "## 2-step Adams Bashforth (Predictor)\n",
    "\n",
    "The 2-step Adams Bashforth difference equation is\n",
    "$$w^{0}_{i+1} = w_{i} + \\frac{h}{2}(3f(t_i,w_i)-f(t_{i-1},w_{i-1})) $$\n",
    "$$w^{0}_{i+1} = w_{i} + \\frac{h}{2}(3(t_i-w_i)-(t_{i-1}-w_{i-1})) $$\n",
    "## 1-step Adams Moulton (Corrector)\n",
    "$$w^{1}_{i+1} = w_{i} + \\frac{h}{2}(f(t_{i+1},w^{0}_{i+1})+f(t_{i},w_{i})) $$\n",
    "\n",
    "$$ w^{1}_{i+1} = w_{i} + \\frac{h}{2}((t_{i+1}-w^0_{i+1})+(t_{i}-w_{i})) $$\n",
    "\n",
    "\n",
    "For $i=0$ the system of difference equation is:\n",
    "$$w^{0}_{1} = w_{0} + \\frac{h}{2}(3(t_0-w_0)-(t_{-1}-w_{-1})) $$\n",
    "$$w_{1} = w_{0} + \\frac{h}{2}((t_{1}-w^{0}_{1})+(t_{0}-w_{0})). $$\n",
    "this is not solvable as <font color='red'> $w_{-1}$ </font> is unknown.\n",
    "\n",
    "For $i=1$ the difference equation is:\n",
    "$$w^{0}_{2} = w_{1} + \\frac{h}{2}(3(t_1-w_1)-(t_{0}-w_{0})) $$\n",
    "$$w_{2} = w_{1} + \\frac{h}{2}((t_{2}-w^{0}_{2})+(t_{1}-w_{1})). $$\n",
    "this is not solvable as <font color='red'> $w_{1}$  </font> is unknown. $w_1$ can be  approximated using a one step method. Here, as the exact solution is known,\n",
    "$$w_1=2e^{-t_1}+t_1-1.$$\n"
   ]
  },
  {
   "cell_type": "code",
   "execution_count": 6,
   "metadata": {
    "collapsed": false
   },
   "outputs": [],
   "source": [
    "### Initial conditions\n",
    "w=np.zeros(len(t))\n",
    "w0=np.zeros(len(t))\n",
    "w[0]=IC\n",
    "w[1]=0.65\n",
    "w0[0]=IC\n",
    "w0[1]=0.65"
   ]
  },
  {
   "cell_type": "markdown",
   "metadata": {},
   "source": [
    "### Loop"
   ]
  },
  {
   "cell_type": "code",
   "execution_count": 7,
   "metadata": {
    "collapsed": true
   },
   "outputs": [],
   "source": [
    "for k in range (1,N):\n",
    "    w0[k+1]=(w[k]+h/2.0*(3*myfun_ty(t[k],w[k])-myfun_ty(t[k-1],w[k-1])))   \n",
    "    w[k+1]=(w[k]+h/2.0*(myfun_ty(t[k+1],w0[k+1])+myfun_ty(t[k],w[k])))   "
   ]
  },
  {
   "cell_type": "markdown",
   "metadata": {},
   "source": [
    "### Plotting solution"
   ]
  },
  {
   "cell_type": "code",
   "execution_count": 8,
   "metadata": {
    "collapsed": false
   },
   "outputs": [],
   "source": [
    "def plotting(t,w,w0,y):\n",
    "    fig = plt.figure(figsize=(10,4))\n",
    "    plt.plot(t,y, 'o-',color='black',label='Exact')\n",
    "    plt.plot(t,w0,'v:',color='blue',label='Adams-Bashforth Predictor')\n",
    "    plt.plot(t,w,'^:',color='red',label='Adams-Moulton Corrector')\n",
    "    plt.xlabel('time')\n",
    "    plt.legend()\n",
    "    plt.show "
   ]
  },
  {
   "cell_type": "markdown",
   "metadata": {},
   "source": [
    "The plot below shows the exact solution (black) and the Adams Predictor Corrector approximation (red) of the intial value problem"
   ]
  },
  {
   "cell_type": "code",
   "execution_count": 9,
   "metadata": {
    "collapsed": false
   },
   "outputs": [
    {
     "data": {
      "image/png": "[encoded data removed]",
      "text/plain": [
       "<matplotlib.figure.Figure at 0x7febb8b335f8>"
      ]
     },
     "metadata": {},
     "output_type": "display_data"
    }
   ],
   "source": [
    "plotting(t,w,w0,y)"
   ]
  },
  {
   "cell_type": "markdown",
   "metadata": {},
   "source": [
    "## Local Error \n",
    "The error for the 1 step Adams Moulton is:\n",
    "$$\\frac{y_{n+1}-y_{n}}{h}=\\frac{1}{2}[f(t_{n+1},w_{n+1})+f(t_{n-1},w_{n-1})] +\\frac{-h^2}{12}y^{(3)}(\\eta),$$\n",
    "where $\\eta \\in [t_{n-1},t_{n+1}]$.\n",
    "The error for the 2 step Adams Bashforth is:\n",
    "$$\\frac{y_{n+1}-y_{n}}{h}=\\frac{1}{2}[3f(t_{n},w_{n})-f(t_{n},w_{n})] +\\frac{5h^2}{12}y^{(3)}(\\xi),$$\n",
    "where $\\xi \\in [t_{n-1},t_{n+1}]$.\n",
    "\n",
    "Rearranging the equations gives \n",
    "$$\\frac{w_{n+1}-w_{n+1}^0}{h}= h^2[\\frac{y^{(3)}(\\eta)}{12}+\\frac{5y^{(3)}(\\xi)}{12}]\\approx h^2[\\frac{6}{12}y^{(3)}(\\xi)].$$\n",
    "Making the assumption that \n",
    "$$y^{(3)}(\\xi)\\approx \\frac{12}{6h^2}\\frac{w_{n+1}-w_{n+1}^0}{h}$$\n",
    "$$y^{(3)}(\\xi)\\approx \\frac{12}{6h^2}\\frac{w_{n+1}-w_{n+1}^0}{h}$$\n",
    "w_{n+1}^0}{h}\\right)=   \\left(\\frac{1}{6}\\frac{w_{n+1}-w_{n+1}^0}{h}\\right)$$"
   ]
  },
  {
   "cell_type": "code",
   "execution_count": 11,
   "metadata": {
    "collapsed": false
   },
   "outputs": [
    {
     "data": {
      "text/html": [
       "<table><tr><td>time</td><td>Adams Predictor</td><td>Adams Corrector</td><td>Exact (y)</td><td>|w-y|</td><td>|w0-w|</td><td>estimate LTE</td></tr><tr><td>0.0</td><td>1.0</td><td>1.0</td><td>1.0</td><td>0.0</td><td>0.0</td><td>0.0</td></tr><tr><td>0.25</td><td>0.65</td><td>0.65</td><td>0.808</td><td>0.1576</td><td>0.0</td><td>0.0</td></tr><tr><td>0.5</td><td>0.555</td><td>0.538</td><td>0.713</td><td>0.17458</td><td>0.01621</td><td>0.01081</td></tr><tr><td>0.75</td><td>0.504</td><td>0.51</td><td>0.695</td><td>0.18497</td><td>0.00603</td><td>0.00402</td></tr><tr><td>1.0</td><td>0.566</td><td>0.571</td><td>0.736</td><td>0.1651</td><td>0.00506</td><td>0.00337</td></tr></table>"
      ],
      "text/plain": [
       "[['time',\n",
       "  'Adams Predictor',\n",
       "  'Adams Corrector',\n",
       "  'Exact (y)',\n",
       "  '|w-y|',\n",
       "  '|w0-w|',\n",
       "  'estimate LTE'],\n",
       " [0.0, 1.0, 1.0, 1.0, 0.0, 0.0, 0.0],\n",
       " [0.25,\n",
       "  0.65000000000000002,\n",
       "  0.65000000000000002,\n",
       "  0.80800000000000005,\n",
       "  0.15759999999999999,\n",
       "  0.0,\n",
       "  0.0],\n",
       " [0.5,\n",
       "  0.55500000000000005,\n",
       "  0.53800000000000003,\n",
       "  0.71299999999999997,\n",
       "  0.17458000000000001,\n",
       "  0.016209999999999999,\n",
       "  0.01081],\n",
       " [0.75,\n",
       "  0.504,\n",
       "  0.51000000000000001,\n",
       "  0.69499999999999995,\n",
       "  0.18497,\n",
       "  0.0060299999999999998,\n",
       "  0.0040200000000000001],\n",
       " [1.0,\n",
       "  0.56599999999999995,\n",
       "  0.57099999999999995,\n",
       "  0.73599999999999999,\n",
       "  0.1651,\n",
       "  0.0050600000000000003,\n",
       "  0.0033700000000000002]]"
      ]
     },
     "execution_count": 11,
     "metadata": {},
     "output_type": "execute_result"
    }
   ],
   "source": [
    "table = ListTable()\n",
    "table.append(['time', 'Adams Predictor', 'Adams Corrector','Exact (y)','|w-y|','|w0-w|','estimate LTE'])\n",
    "for i in range (0,len(t)):\n",
    "    table.append([round(t[i],3), round(w0[i],3), round(w[i],3), round(y[i],3),round(abs(y[i]-w[i]),5),\n",
    "                  round(abs(w0[i]-w[i]),5),round(1/(6*h)*abs(w0[i]-w[i]),5)])\n",
    "table"
   ]
  },
  {
   "cell_type": "code",
   "execution_count": null,
   "metadata": {
    "collapsed": true
   },
   "outputs": [],
   "source": []
  }
 ],
 "metadata": {
  "kernelspec": {
   "display_name": "Python 3",
   "language": "python",
   "name": "python3"
  },
  "language_info": {
   "codemirror_mode": {
    "name": "ipython",
    "version": 3
   },
   "file_extension": ".py",
   "mimetype": "text/x-python",
   "name": "python",
   "nbconvert_exporter": "python",
   "pygments_lexer": "ipython3",
   "version": "3.4.1"
  }
 },
 "nbformat": 4,
 "nbformat_minor": 0
}
