{
 "cells": [
  {
   "cell_type": "code",
   "execution_count": 2,
   "metadata": {
    "collapsed": true
   },
   "outputs": [],
   "source": [
    "import numpy as np\n",
    "import math \n",
    "\n",
    "%matplotlib inline\n",
    "import matplotlib.pyplot as plt # side-stepping mpl backend\n",
    "import matplotlib.gridspec as gridspec # subplots\n",
    "import warnings\n",
    "warnings.filterwarnings(\"ignore\")\n",
    "\n"
   ]
  },
  {
   "cell_type": "code",
   "execution_count": 36,
   "metadata": {
    "collapsed": false
   },
   "outputs": [
    {
     "data": {
      "image/png": "[encoded data removed]",
      "text/plain": [
       "<matplotlib.figure.Figure at 0x7f68ff1729e8>"
      ]
     },
     "metadata": {},
     "output_type": "display_data"
    }
   ],
   "source": [
    "\n",
    "\n",
    "tau=1\n",
    "N=5000\n",
    "h=1/N\n",
    "\n",
    "time=np.linspace(0,1,N)\n",
    "\n",
    "Numerical_Solution=np.zeros(N)\n",
    "Numerical_Solution1=np.zeros(N)\n",
    "Numerical_Solution2=np.zeros(N)\n",
    "\n",
    "x=np.zeros(N)\n",
    "# Initial Conditions\n",
    "Numerical_Solution[0]=1\n",
    "Numerical_Solution1[0]=1\n",
    "Numerical_Solution2[0]=1\n",
    "\n",
    "x[0]=0\n",
    "# INTIAL SOLUTIONS ONE STEP METHOD\n",
    "for i in range (1,3):\n",
    "    Numerical_Solution[i]=Numerical_Solution[i-1]+h*tau*(Numerical_Solution[i-1]*Numerical_Solution[i-1])\n",
    "    Numerical_Solution1[i]=Numerical_Solution[i]#+h*tau*(-Numerical_Solution[i-1]*Numerical_Solution[i-1])\n",
    "    Numerical_Solution2[i]=Numerical_Solution[i]#+h*tau*(-Numerical_Solution[i-1]*Numerical_Solution[i-1])\n",
    "    \n",
    "\n",
    "# MULTISTEP METHODS\n",
    "for i in range (2,N):\n",
    "    Numerical_Solution[i]=Numerical_Solution[i]+h/2*tau*(3*Numerical_Solution[i-1]*Numerical_Solution[i-1]\n",
    "                                                         -Numerical_Solution[i-2]*Numerical_Solution[i-2])\n",
    "    \n",
    "    Numerical_Solution1[i]=0.9*Numerical_Solution1[i-1]+0.1*Numerical_Solution1[i-2]+h/2*tau*(3*Numerical_Solution1[i-1]*Numerical_Solution1[i-1]\n",
    "                                                         -Numerical_Solution1[i-2]*Numerical_Solution1[i-2])\n",
    "    \n",
    "    Numerical_Solution2[i]=1.1*Numerical_Solution2[i-1]-0.1*Numerical_Solution2[i-2]+h/2*tau*(3*Numerical_Solution2[i-1]*Numerical_Solution2[i-1]\n",
    "                                                         -Numerical_Solution2[i-2]*Numerical_Solution2[i-2])\n",
    "\n",
    "fig = plt.figure(figsize=(8,4))\n",
    "ax = fig.add_subplot(1,3,1)\n",
    "plt.plot(time,Numerical_Solution,color='red')\n",
    "#ax.legend(loc='best')\n",
    "plt.title('Numerical Solution')\n",
    "# --- right hand plot\n",
    "ax = fig.add_subplot(1,3,2)\n",
    "plt.plot(time,Numerical_Solution1,color='blue')\n",
    "plt.title('Analytic Solution')\n",
    "\n",
    "#ax.legend(loc='best')\n",
    "ax = fig.add_subplot(1,3,3)\n",
    "plt.plot(time,Numerical_Solution2,color='blue')\n",
    "plt.title('Butler Adams')\n",
    "\n",
    "# --- title, explanatory text and save\n",
    "fig.suptitle('Sine Solution', fontsize=20)\n",
    "plt.tight_layout()\n",
    "plt.subplots_adjust(top=0.85)\n",
    "\n",
    "\n"
   ]
  },
  {
   "cell_type": "code",
   "execution_count": null,
   "metadata": {
    "collapsed": true
   },
   "outputs": [],
   "source": []
  },
  {
   "cell_type": "code",
   "execution_count": null,
   "metadata": {
    "collapsed": true
   },
   "outputs": [],
   "source": []
  }
 ],
 "metadata": {
  "kernelspec": {
   "display_name": "Python 3",
   "language": "python",
   "name": "python3"
  },
  "language_info": {
   "codemirror_mode": {
    "name": "ipython",
    "version": 3
   },
   "file_extension": ".py",
   "mimetype": "text/x-python",
   "name": "python",
   "nbconvert_exporter": "python",
   "pygments_lexer": "ipython3",
   "version": "3.4.1"
  }
 },
 "nbformat": 4,
 "nbformat_minor": 0
}
