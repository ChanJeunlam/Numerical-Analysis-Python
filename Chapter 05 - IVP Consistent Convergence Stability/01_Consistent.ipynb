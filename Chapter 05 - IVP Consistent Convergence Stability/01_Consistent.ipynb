{
 "cells": [
  {
   "cell_type": "markdown",
   "metadata": {},
   "source": [
    "# Consistency\n",
    "\n",
    "A one-step method with local truncation error $\\tau_{i}(h)$ at the $i$th step is said\n",
    "to be __consistent__ with the differential equation it approximates if \n",
    "$$\\lim_{h \\rightarrow 0} (\\max_{1 \\leq i \\leq N}|\\tau_{i}(h)|)=0 $$\n",
    "where\n",
    "$$\\tau_{i}(h)=\\frac{y_{i+1}-y_{i}}{h}-F(t_i,y_i,h,f) $$\n",
    "As $h \\rightarrow 0$ does $F(t_i,y_i,h,f) \\rightarrow f(t,y)$. \n",
    "\n",
    "All the Runge Kutta, and Adams methods are consistent in this course. This notebook will illustrate a non-consistent method which with great hubris I will call the Abysmal-Butler methods.\n",
    "\n",
    "## Intial Value Problem\n",
    "The differential equation\n",
    "$$ y^{'}=t-y, \\ \\ (0 \\leq t \\leq 2) $$\n",
    "with the initial condition\n",
    "$$y(0)=1,$$\n",
    "will be the used to illustrate this."
   ]
  },
  {
   "cell_type": "markdown",
   "metadata": {},
   "source": [
    "## Python Libraries"
   ]
  },
  {
   "cell_type": "code",
   "execution_count": 1,
   "metadata": {
    "collapsed": true
   },
   "outputs": [],
   "source": [
    "import numpy as np\n",
    "import math \n",
    "\n",
    "%matplotlib inline\n",
    "import matplotlib.pyplot as plt # side-stepping mpl backend\n",
    "import matplotlib.gridspec as gridspec # subplots\n",
    "import warnings\n",
    "\n",
    "warnings.filterwarnings(\"ignore\")\n",
    "class ListTable(list):\n",
    "    \"\"\" Overridden list class which takes a 2-dimensional list of \n",
    "        the form [[1,2,3],[4,5,6]], and renders an HTML Table in \n",
    "        IPython Notebook. \"\"\"\n",
    "    \n",
    "    def _repr_html_(self):\n",
    "        html = [\"<table>\"]\n",
    "        for row in self:\n",
    "            html.append(\"<tr>\")\n",
    "            \n",
    "            for col in row:\n",
    "                html.append(\"<td>{0}</td>\".format(col))\n",
    "            \n",
    "            html.append(\"</tr>\")\n",
    "        html.append(\"</table>\")\n",
    "        return ''.join(html)"
   ]
  },
  {
   "cell_type": "markdown",
   "metadata": {},
   "source": [
    "### Defining the function\n",
    "$$ f(t,y)=t-y.$$"
   ]
  },
  {
   "cell_type": "code",
   "execution_count": 2,
   "metadata": {
    "collapsed": true
   },
   "outputs": [],
   "source": [
    "def myfun_ty(t,y):\n",
    "    return t-y"
   ]
  },
  {
   "cell_type": "markdown",
   "metadata": {},
   "source": [
    "## Discrete Interval\n",
    "Defining the step size  $h$  from the interval range  $a≤t≤b$  and number of steps  $N$ \n",
    "$$h=b−ah.$$\n",
    " \n",
    "This gives the discrete time steps,\n",
    "$$t_i=t_0+ih,$$\n",
    "where  $t_0=a.$\n",
    "\n",
    "Here the interval is  $0≤t≤2$  and number of step  4 \n",
    "$$h=\\frac{2−0}{40}=0.05.$$\n",
    " \n",
    "This gives the discrete time steps,\n",
    "$$t_i=0+i0.5,$$\n",
    "for  $i=0,1,⋯,40.$"
   ]
  },
  {
   "cell_type": "code",
   "execution_count": 18,
   "metadata": {
    "collapsed": false
   },
   "outputs": [
    {
     "data": {
      "text/plain": [
       "<matplotlib.text.Text at 0x7f89a69e7240>"
      ]
     },
     "execution_count": 18,
     "metadata": {},
     "output_type": "execute_result"
    },
    {
     "data": {
      "image/png": "[encoded data removed]",
      "text/plain": [
       "<matplotlib.figure.Figure at 0x7f89a6af02b0>"
      ]
     },
     "metadata": {},
     "output_type": "display_data"
    }
   ],
   "source": [
    "# Start and end of interval\n",
    "b=2\n",
    "a=0\n",
    "# Step size\n",
    "N=40\n",
    "h=(b-a)/(N)\n",
    "t=np.arange(a,b+h,h)\n",
    "fig = plt.figure(figsize=(10,4))\n",
    "plt.plot(t,0*t,'o:',color='red')\n",
    "plt.xlim((0,2))\n",
    "plt.title('Illustration of discrete time points for h=%s'%(h))"
   ]
  },
  {
   "cell_type": "markdown",
   "metadata": {},
   "source": [
    "## Exact Solution\n",
    "THe initial value problem has the exact solution\n",
    "$$y(t)=2e^{-t}+t-1.$$\n",
    "The figure below plots the exact solution."
   ]
  },
  {
   "cell_type": "code",
   "execution_count": 19,
   "metadata": {
    "collapsed": false
   },
   "outputs": [
    {
     "data": {
      "text/plain": [
       "<matplotlib.text.Text at 0x7f89a6a6e828>"
      ]
     },
     "execution_count": 19,
     "metadata": {},
     "output_type": "execute_result"
    },
    {
     "data": {
      "image/png": "[encoded data removed]",
      "text/plain": [
       "<matplotlib.figure.Figure at 0x7f89a69897b8>"
      ]
     },
     "metadata": {},
     "output_type": "display_data"
    }
   ],
   "source": [
    "IC=1 # Intial condtion\n",
    "y=(IC+1)*np.exp(-t)+t-1\n",
    "fig = plt.figure(figsize=(6,4))\n",
    "plt.plot(t,y,'o-',color='black')\n",
    "plt.title('Exact Solution ')\n",
    "plt.xlabel('time')"
   ]
  },
  {
   "cell_type": "code",
   "execution_count": 20,
   "metadata": {
    "collapsed": true
   },
   "outputs": [],
   "source": [
    "# Initial Condition\n",
    "w=np.zeros(N+1)\n",
    "#np.zeros(N+1)\n",
    "w[0]=IC"
   ]
  },
  {
   "cell_type": "markdown",
   "metadata": {},
   "source": [
    "\n",
    "\n",
    "## 2-step Abysmal Butler Method \n",
    "\n",
    "The 2-step Abysmal Butler difference equation is\n",
    "$$w_{i+1} = w_{i} + \\frac{h}{2}(4f(t_i,w_i)-3f(t_{i-1},w_{i-1})) $$\n",
    "\n",
    "For $i=0$ the system of difference equation is:\n",
    "$$w_{1} = w_{0} + \\frac{h}{2}(4(t_0-w_0)-3(t_{-1}-w_{-1})) $$\n",
    "this is not solvable as <font color='red'> $w_{-1}$ </font> is unknown.\n",
    "\n",
    "For $i=1$ the difference equation is:\n",
    "$$w_{2} = w_{1} + \\frac{h}{2}(4(t_1-w_1)-3(t_{0}-w_{0})) $$\n",
    "this is not solvable as <font color='red'> $w_{1}$  </font> is unknown. $w_1$ can be  approximated using a one step method. Here, as the exact solution is known,\n",
    "$$w_1=2e^{-t_1}+t_1-1.$$\n"
   ]
  },
  {
   "cell_type": "code",
   "execution_count": 21,
   "metadata": {
    "collapsed": false
   },
   "outputs": [],
   "source": [
    "### Initial conditions\n",
    "w=np.zeros(len(t))\n",
    "w0=np.zeros(len(t))\n",
    "w[0]=IC\n",
    "w[1]=y[1]"
   ]
  },
  {
   "cell_type": "markdown",
   "metadata": {},
   "source": [
    "### Loop"
   ]
  },
  {
   "cell_type": "code",
   "execution_count": 22,
   "metadata": {
    "collapsed": true
   },
   "outputs": [],
   "source": [
    "for k in range (1,N):\n",
    "    w[k+1]=(w[k]+h/2.0*(4*myfun_ty(t[k],w[k])-3*myfun_ty(t[k-1],w[k-1])))   \n"
   ]
  },
  {
   "cell_type": "markdown",
   "metadata": {},
   "source": [
    "### Plotting solution"
   ]
  },
  {
   "cell_type": "code",
   "execution_count": 23,
   "metadata": {
    "collapsed": false
   },
   "outputs": [],
   "source": [
    "def plotting(t,w,y):\n",
    "    fig = plt.figure(figsize=(10,4))\n",
    "    plt.plot(t,y, 'o-',color='black',label='Exact')\n",
    "    plt.plot(t,w,'^:',color='red',label='Abysmal-Butler')\n",
    "    plt.xlabel('time')\n",
    "    plt.legend()\n",
    "    plt.show "
   ]
  },
  {
   "cell_type": "markdown",
   "metadata": {},
   "source": [
    "The plot below shows the exact solution (black) and the Abysmal-Butler approximation (red) of the intial value problem"
   ]
  },
  {
   "cell_type": "code",
   "execution_count": 24,
   "metadata": {
    "collapsed": false
   },
   "outputs": [
    {
     "data": {
      "image/png": "[encoded data removed]",
      "text/plain": [
       "<matplotlib.figure.Figure at 0x7f89a6a28d68>"
      ]
     },
     "metadata": {},
     "output_type": "display_data"
    }
   ],
   "source": [
    "plotting(t,w,y)"
   ]
  },
  {
   "cell_type": "markdown",
   "metadata": {},
   "source": [
    "## Consistency \n",
    "The Abysmal-Butler method does not satisfy the consistency condition\n",
    "$$\\tau_{i}(h)=\\frac{y_{i+1}-y_{i}}{h}-\\frac{1}{2}[4(f(t_i,y_i)-3f(t_{i-1},y_{i-1})] $$\n",
    "As $h \\rightarrow 0$  $$\\frac{1}{2}[4(f(t_i,y_i)-3f(t_{i-1},y_{i-1})] \\rightarrow \\frac{f(t_i,y_i)}{2}.$$\n",
    "While as $h \\rightarrow 0$  $$\\frac{y_{i+1}-y_{i}}{h} \\rightarrow y^{'}=f(t_i,y_i).$$\n",
    "Hence as $h \\rightarrow 0$ $$\\frac{y_{i+1}-y_{i}}{h}-\\frac{1}{2}[4(f(t_i,y_i)-3f(t_{i-1},y_{i-1})]\\rightarrow f(t_i,y_i)-\\frac{f(t_i,y_i)}{2}=\\frac{f(t_i,y_i)}{2},$$\n",
    "which violates the consistency condition.\n"
   ]
  },
  {
   "cell_type": "code",
   "execution_count": 26,
   "metadata": {
    "collapsed": false
   },
   "outputs": [
    {
     "data": {
      "text/html": [
       "<table><tr><td>time</td><td>Abysmal Butler</td><td>Exact (y)</td><td>|w-y|</td></tr><tr><td>0.0</td><td>1.0</td><td>1.0</td><td>0.0</td></tr><tr><td>0.25</td><td>0.894</td><td>0.808</td><td>0.0864</td></tr><tr><td>0.5</td><td>0.851</td><td>0.713</td><td>0.13793</td></tr><tr><td>0.75</td><td>0.84</td><td>0.695</td><td>0.14572</td></tr><tr><td>1.0</td><td>0.859</td><td>0.736</td><td>0.12303</td></tr><tr><td>1.25</td><td>0.903</td><td>0.823</td><td>0.07979</td></tr><tr><td>1.5</td><td>0.97</td><td>0.946</td><td>0.02338</td></tr><tr><td>1.75</td><td>1.057</td><td>1.098</td><td>0.04077</td></tr><tr><td>2.0</td><td>1.162</td><td>1.271</td><td>0.10871</td></tr></table>"
      ],
      "text/plain": [
       "[['time', 'Abysmal Butler', 'Exact (y)', '|w-y|'],\n",
       " [0.0, 1.0, 1.0, 0.0],\n",
       " [0.25, 0.89400000000000002, 0.80800000000000005, 0.086400000000000005],\n",
       " [0.5, 0.85099999999999998, 0.71299999999999997, 0.13793],\n",
       " [0.75, 0.83999999999999997, 0.69499999999999995, 0.14571999999999999],\n",
       " [1.0, 0.85899999999999999, 0.73599999999999999, 0.12303],\n",
       " [1.25, 0.90300000000000002, 0.82299999999999995, 0.07979],\n",
       " [1.5, 0.96999999999999997, 0.94599999999999995, 0.023380000000000001],\n",
       " [1.75, 1.0569999999999999, 1.0980000000000001, 0.040770000000000001],\n",
       " [2.0, 1.1619999999999999, 1.2709999999999999, 0.10871]]"
      ]
     },
     "execution_count": 26,
     "metadata": {},
     "output_type": "execute_result"
    }
   ],
   "source": [
    "table = ListTable()\n",
    "table.append(['time', 'Abysmal Butler','Exact (y)','|w-y|'])\n",
    "for i in range (0,len(t),5):\n",
    "    table.append([round(t[i],3), round(w[i],3), round(y[i],3),round(abs(y[i]-w[i]),5)])\n",
    "table"
   ]
  },
  {
   "cell_type": "code",
   "execution_count": null,
   "metadata": {
    "collapsed": true
   },
   "outputs": [],
   "source": []
  }
 ],
 "metadata": {
  "kernelspec": {
   "display_name": "Python 3",
   "language": "python",
   "name": "python3"
  },
  "language_info": {
   "codemirror_mode": {
    "name": "ipython",
    "version": 3
   },
   "file_extension": ".py",
   "mimetype": "text/x-python",
   "name": "python",
   "nbconvert_exporter": "python",
   "pygments_lexer": "ipython3",
   "version": "3.4.1"
  }
 },
 "nbformat": 4,
 "nbformat_minor": 0
}
