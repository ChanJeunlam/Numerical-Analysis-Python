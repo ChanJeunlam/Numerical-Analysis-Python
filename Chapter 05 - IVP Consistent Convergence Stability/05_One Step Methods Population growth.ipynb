{
 "cells": [
  {
   "cell_type": "markdown",
   "metadata": {},
   "source": [
    "# One Step Methods\n",
    "Given the first order equation\n",
    "\\begin{equation} \n",
    "y^{'} = 2y-0.1y^2,\n",
    "\\end{equation}\n",
    "with the initial condition\n",
    "\\begin{equation} \n",
    "y(0) = 1.\n",
    "\\end{equation}\n",
    "\n",
    "Aproximate the solution of the inital value problem for the interval $0 \\leq t \\leq 4$ using $N=8$.\n",
    "Using the:\n",
    "1. Euler method:\n",
    "$$ w_{i+1}=w_i+hf(t_i,w_i);$$\n",
    "\n",
    "2. Midpoint method:\n",
    "$$ w_{i+1}=w_i+hf(t_i+\\frac{h}{2},w_i+\\frac{h}{2}k1),$$\n",
    "where $k1=f(t_i,w_i)$;\n",
    "\n",
    "3. 4th Order Runge Kutta method:\n",
    "$$ w_{i+1}=w_i+\\frac{h}{6}(k1+2k2+2k3+k4),$$\n",
    "where $$k1=f(t_i,w_i),$$\n",
    "$$k2=f(t_i+\\frac{h}{2},w_i+\\frac{h}{2}k1),$$\n",
    "$$k3=f(t_i+\\frac{h}{2},w_i+\\frac{h}{2}k2),$$\n",
    "$$k4=f(t_i+h,w_i+hk3);$$\n",
    "\n",
    "4. Imposter-Butler method:\n",
    "$$ w_{i+1}=w_i+\\frac{h}{4}(k1+2k2),$$\n",
    "where $$k1=f(t_i,w_i),$$\n",
    "$$k2=f(t_i+h,w_i+hk1).$$\n",
    "\n",
    "5. Leap-Frog method:\n",
    "$$ w_{i+1}=w_{i-1}+2h(k1),$$\n",
    "where $$k1=f(t_i,w_i).$$\n",
    "What is the concern with the leap frog method. "
   ]
  },
  {
   "cell_type": "markdown",
   "metadata": {},
   "source": [
    "### DECLARING LIBRARIES"
   ]
  },
  {
   "cell_type": "code",
   "execution_count": 14,
   "metadata": {},
   "outputs": [],
   "source": [
    "import numpy as np\n",
    "import math \n",
    "\n",
    "%matplotlib inline\n",
    "import matplotlib.pyplot as plt # side-stepping mpl backend\n",
    "import matplotlib.gridspec as gridspec # subplots\n",
    "import warnings\n",
    "warnings.filterwarnings(\"ignore\")"
   ]
  },
  {
   "cell_type": "markdown",
   "metadata": {},
   "source": [
    "### Outputting Table"
   ]
  },
  {
   "cell_type": "code",
   "execution_count": 15,
   "metadata": {},
   "outputs": [],
   "source": [
    "class ListTable(list):\n",
    "    \"\"\" Overridden list class which takes a 2-dimensional list of \n",
    "        the form [[1,2,3],[4,5,6]], and renders an HTML Table in \n",
    "        IPython Notebook. \"\"\"\n",
    "    \n",
    "    def _repr_html_(self):\n",
    "        html = [\"<table>\"]\n",
    "        for row in self:\n",
    "            html.append(\"<tr>\")\n",
    "            \n",
    "            for col in row:\n",
    "                html.append(\"<td>{0}</td>\".format(col))\n",
    "            \n",
    "            html.append(\"</tr>\")\n",
    "        html.append(\"</table>\")\n",
    "        return ''.join(html)"
   ]
  },
  {
   "cell_type": "markdown",
   "metadata": {},
   "source": [
    "## Setting up the discrete time axis\n",
    "$$ h=\\frac{4-0}{N}=0.5 $$\n",
    "$$t_i=t_0+ih$$\n",
    "$$t_i=0+0.5i$$\n",
    "for $i=0,1,2,...,8.$"
   ]
  },
  {
   "cell_type": "code",
   "execution_count": 16,
   "metadata": {},
   "outputs": [],
   "source": [
    "N=8\n",
    "x_end=4.0\n",
    "h=((x_end-0)/N)\n",
    "\n",
    "INITIALCONDITION=1\n",
    "time=np.zeros(N+1)\n",
    "\n",
    "table = ListTable()\n",
    "table.append(['time', 'Euler', 'Mid', 'RK','Imposter','Leap Frog'])\n"
   ]
  },
  {
   "cell_type": "markdown",
   "metadata": {},
   "source": [
    "### Defining the function\n",
    "From the initial value problem the function\n",
    "$$ f(t,y)= 2y-0.1y^2. $$"
   ]
  },
  {
   "cell_type": "code",
   "execution_count": 17,
   "metadata": {},
   "outputs": [],
   "source": [
    "def myfun(w):\n",
    "    return 2*w-0.1*w*w"
   ]
  },
  {
   "cell_type": "markdown",
   "metadata": {},
   "source": [
    "## NUMERICAL SOLUTION"
   ]
  },
  {
   "cell_type": "code",
   "execution_count": 18,
   "metadata": {},
   "outputs": [],
   "source": [
    "time[0]=0"
   ]
  },
  {
   "cell_type": "markdown",
   "metadata": {},
   "source": [
    "## Euler Method\n",
    "$$w_0=1$$\n",
    "$$ w_{i+1}=w_i+h(2w_i-0.1w_i^2)$$\n",
    "$$N=0,1,2,...7$$"
   ]
  },
  {
   "cell_type": "code",
   "execution_count": 19,
   "metadata": {},
   "outputs": [],
   "source": [
    "Euler=np.zeros(N+1)\n",
    "Euler[0]=INITIALCONDITION\n",
    "\n",
    "for i in range (0,N):\n",
    "    # Euler Method\n",
    "    Euler[i+1]=Euler[i]+h*myfun(Euler[i])"
   ]
  },
  {
   "cell_type": "markdown",
   "metadata": {},
   "source": [
    "## Midpoint Method\n",
    "$$w_0=1$$\n",
    "$$k=2w_i-0.1w_i^2$$\n",
    "$$ w_{i+1}=w_i+h(2(w_i+\\frac{h}{2}k)-0.1(w_i+\\frac{h}{2}k)^2)$$\n",
    "$$N=0,1,2,...7$$"
   ]
  },
  {
   "cell_type": "code",
   "execution_count": 20,
   "metadata": {},
   "outputs": [],
   "source": [
    "Midpoint=np.zeros(N+1)\n",
    "Midpoint[0]=INITIALCONDITION\n",
    "\n",
    "for i in range (0,N):\n",
    "    # Mid-point method\n",
    "    Midpoint[i+1]=Midpoint[i]+h*myfun(Midpoint[i]+h/2*myfun(Midpoint[i]))"
   ]
  },
  {
   "cell_type": "markdown",
   "metadata": {},
   "source": [
    "## 4th Order Runge Kutta Method\n",
    "$$w_0=1$$\n",
    "$$k1=2w_i-0.1w_i^2$$\n",
    "$$k2=2(w_i+\\frac{h}{2}k1)-0.1(w_i+\\frac{h}{2}k1)^2$$\n",
    "$$k3=2(w_i+\\frac{h}{2}k2)-0.1(w_i+\\frac{h}{2}k2)^2$$\n",
    "$$k4=2(w_i+hk)-0.1(w_i+hk)^2$$\n",
    "$$ w_{i+1}=w_i+\\frac{h}{6}(k1+2k2+2k3+k4)$$\n",
    "$$N=0,1,2,...7$$"
   ]
  },
  {
   "cell_type": "code",
   "execution_count": 21,
   "metadata": {},
   "outputs": [],
   "source": [
    "RK4=np.zeros(N+1)\n",
    "RK4[0]=INITIALCONDITION\n",
    "\n",
    "for i in range (0,N):\n",
    "    # 4th Order Runge Kutta\n",
    "    k1=myfun(RK4[i])\n",
    "    k2=myfun(RK4[i]+h/2*k1)\n",
    "    k3=myfun(RK4[i]+h/2*k2)\n",
    "    k4=myfun(RK4[i]+h*k3)\n",
    "    RK4[i+1]=RK4[i]+h/6*(k1+2*k2+2*k3+k4)\n",
    "    "
   ]
  },
  {
   "cell_type": "markdown",
   "metadata": {},
   "source": [
    "## Imposter Butler Method\n",
    "$$w_0=1$$\n",
    "$$k1=2w_i-0.1w_i^2$$\n",
    "$$k2=2(w_i+hk1)-0.1(w_i+hk1)^2$$\n",
    "$$ w_{i+1}=w_i+\\frac{h}{4}(k1+2k2)$$\n",
    "$$N=0,1,2,...7$$"
   ]
  },
  {
   "cell_type": "code",
   "execution_count": 22,
   "metadata": {},
   "outputs": [],
   "source": [
    "Imposter=np.zeros(N+1)\n",
    "Imposter[0]=INITIALCONDITION\n",
    "i=0\n",
    "table.append([time[i], Euler[i], Midpoint[i], RK4[i],Imposter[i]])\n",
    "for i in range (0,N):\n",
    "    #Imposter method\n",
    "    k1=myfun(Imposter[i])\n",
    "    k2=myfun(Imposter[i]+h*k3)\n",
    "    Imposter[i+1]=Imposter[i]+2*h/4*(2*k1+2*k2)\n",
    "    time[i+1]=time[i]+h\n",
    "   "
   ]
  },
  {
   "cell_type": "markdown",
   "metadata": {},
   "source": [
    "## Leap-Frog method\n",
    "$$ w_{i+1}=w_{i-1}+2h(k1),$$\n",
    "where $$k1=2w_i-0.1w_i^2.$$"
   ]
  },
  {
   "cell_type": "code",
   "execution_count": 32,
   "metadata": {},
   "outputs": [],
   "source": [
    "LeapFrog=np.zeros(N+1)\n",
    "LeapFrog[0]=INITIALCONDITION\n",
    "LeapFrog[1]=Euler[2]\n",
    "\n",
    "i=0\n",
    "table.append([time[i], Euler[i], Midpoint[i], RK4[i],Imposter[i],LeapFrog[i]])\n",
    "for i in range (1,N):\n",
    "    #Imposter method\n",
    "    k1=myfun(LeapFrog[i])\n",
    "    LeapFrog[i+1]=LeapFrog[i-1]+2*h*(k1)\n",
    "    time[i+1]=time[i]+h\n",
    "    table.append([time[i+1], Euler[i+1], Midpoint[i+1], RK4[i+1],Imposter[i+1],LeapFrog[i+1]])"
   ]
  },
  {
   "cell_type": "markdown",
   "metadata": {},
   "source": [
    "## Plotting"
   ]
  },
  {
   "cell_type": "code",
   "execution_count": 33,
   "metadata": {},
   "outputs": [
    {
     "data": {
      "image/png": "[encoded data removed]",
      "text/plain": [
       "<Figure size 576x288 with 1 Axes>"
      ]
     },
     "metadata": {
      "needs_background": "light"
     },
     "output_type": "display_data"
    }
   ],
   "source": [
    "fig = plt.figure(figsize=(8,4))\n",
    "plt.plot(time,Euler,'o:',color='red',label='Euler')\n",
    "plt.plot(time,Midpoint,'o:',color='blue',label='Midpoint')\n",
    "plt.plot(time,RK4,'o:',color='green',label='RK4')\n",
    "plt.plot(time,Imposter,'o:',color='yellow',label='Imposter')\n",
    "plt.plot(time,LeapFrog,'o:',color='magenta',label='Leap Frog')\n",
    "\n",
    "plt.legend(loc=4)\n",
    "plt.title('Numerical Solutions of initial value problem.')\n",
    "plt.show()"
   ]
  },
  {
   "cell_type": "code",
   "execution_count": 12,
   "metadata": {},
   "outputs": [
    {
     "data": {
      "text/html": [
       "<table><tr><td>time</td><td>Euler</td><td>Mid</td><td>RK</td><td>Imposter</td><td>Leap Frog</td></tr><tr><td>0.0</td><td>1.0</td><td>1.0</td><td>1.0</td><td>1.0</td></tr><tr><td>0.0</td><td>1.0</td><td>1.0</td><td>1.0</td><td>1.0</td><td>1.0</td></tr><tr><td>0.5</td><td>1.95</td><td>2.36621875</td><td>2.4973140745034703</td><td>1.828354103622306</td><td>1.9</td></tr><tr><td>1.0</td><td>3.7098750000000003</td><td>5.19438758389418</td><td>5.581882795387722</td><td>3.1792956569283346</td><td>4.439</td></tr><tr><td>1.5</td><td>6.73159137421875</td><td>9.77881461292582</td><td>10.250670627504523</td><td>5.27210794647557</td><td>8.8075279</td></tr><tr><td>2.0</td><td>11.197466626964687</td><td>14.519443452104497</td><td>14.812884418161534</td><td>8.243922547632055</td><td>14.296801029072158</td></tr><tr><td>2.5</td><td>16.125770310829978</td><td>17.40121357626255</td><td>17.70715620549379</td><td>11.899511859117052</td><td>16.96127799165644</td></tr><tr><td>3.0</td><td>19.24951721577768</td><td>18.761663288245703</td><td>19.080300940495654</td><td>15.487688268593597</td><td>19.45086190136012</td></tr><tr><td>3.5</td><td>19.971838779529293</td><td>19.397552928361538</td><td>19.6459932243498</td><td>18.03499834285824</td><td>18.029398923798414</td></tr><tr><td>4.0</td><td>19.99996034728308</td><td>19.703035811592716</td><td>19.865924950313506</td><td>19.25729194968363</td><td>23.003737193610604</td></tr></table>"
      ],
      "text/plain": [
       "[['time', 'Euler', 'Mid', 'RK', 'Imposter', 'Leap Frog'],\n",
       " [0.0, 1.0, 1.0, 1.0, 1.0],\n",
       " [0.0, 1.0, 1.0, 1.0, 1.0, 1.0],\n",
       " [0.5, 1.95, 2.36621875, 2.4973140745034703, 1.828354103622306, 1.9],\n",
       " [1.0,\n",
       "  3.7098750000000003,\n",
       "  5.19438758389418,\n",
       "  5.581882795387722,\n",
       "  3.1792956569283346,\n",
       "  4.439],\n",
       " [1.5,\n",
       "  6.73159137421875,\n",
       "  9.77881461292582,\n",
       "  10.250670627504523,\n",
       "  5.27210794647557,\n",
       "  8.8075279],\n",
       " [2.0,\n",
       "  11.197466626964687,\n",
       "  14.519443452104497,\n",
       "  14.812884418161534,\n",
       "  8.243922547632055,\n",
       "  14.296801029072158],\n",
       " [2.5,\n",
       "  16.125770310829978,\n",
       "  17.40121357626255,\n",
       "  17.70715620549379,\n",
       "  11.899511859117052,\n",
       "  16.96127799165644],\n",
       " [3.0,\n",
       "  19.24951721577768,\n",
       "  18.761663288245703,\n",
       "  19.080300940495654,\n",
       "  15.487688268593597,\n",
       "  19.45086190136012],\n",
       " [3.5,\n",
       "  19.971838779529293,\n",
       "  19.397552928361538,\n",
       "  19.6459932243498,\n",
       "  18.03499834285824,\n",
       "  18.029398923798414],\n",
       " [4.0,\n",
       "  19.99996034728308,\n",
       "  19.703035811592716,\n",
       "  19.865924950313506,\n",
       "  19.25729194968363,\n",
       "  23.003737193610604]]"
      ]
     },
     "execution_count": 12,
     "metadata": {},
     "output_type": "execute_result"
    }
   ],
   "source": [
    "table"
   ]
  },
  {
   "cell_type": "code",
   "execution_count": 31,
   "metadata": {},
   "outputs": [
    {
     "data": {
      "image/png": "[encoded data removed]",
      "text/plain": [
       "<Figure size 576x288 with 1 Axes>"
      ]
     },
     "metadata": {
      "needs_background": "light"
     },
     "output_type": "display_data"
    }
   ],
   "source": [
    "LeapFrog=np.zeros(N+1)\n",
    "LeapFrog[0]=1\n",
    "Exact=np.exp(0.5*time)\n",
    "LeapFrog[1]=Exact[1]\n",
    "\n",
    "i=0\n",
    "for i in range (1,N):\n",
    "    #Imposter method\n",
    "    k1=myfun(LeapFrog[i])\n",
    "    LeapFrog[i+1]=LeapFrog[i-1]+2*h*(0.5)*LeapFrog[i]\n",
    "    time[i+1]=time[i]+h\n",
    "\n",
    "fig = plt.figure(figsize=(8,4))\n",
    "plt.plot(time,LeapFrog,'o:',color='magenta',label='Leap Frog')\n",
    "plt.plot(time,Exact,'o:',color='black',label='Exact')\n",
    "\n",
    "\n",
    "plt.legend(loc=4)\n",
    "plt.title('Numerical Solutions of initial value problem.')\n",
    "plt.show()"
   ]
  },
  {
   "cell_type": "code",
   "execution_count": null,
   "metadata": {},
   "outputs": [],
   "source": []
  }
 ],
 "metadata": {
  "kernelspec": {
   "display_name": "Python 3",
   "language": "python",
   "name": "python3"
  },
  "language_info": {
   "codemirror_mode": {
    "name": "ipython",
    "version": 3
   },
   "file_extension": ".py",
   "mimetype": "text/x-python",
   "name": "python",
   "nbconvert_exporter": "python",
   "pygments_lexer": "ipython3",
   "version": "3.7.3"
  }
 },
 "nbformat": 4,
 "nbformat_minor": 1
}
