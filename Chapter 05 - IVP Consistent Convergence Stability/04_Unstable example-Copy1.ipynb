{
 "cells": [
  {
   "cell_type": "markdown",
   "metadata": {},
   "source": [
    "Solving the Initial Value Problem \n",
    "$$ y^{'}=0.5y \\ \\ y(0)=3 \\ \\ \\  0\\leq t \\leq 10 $$\n",
    "\n",
    "Using a weakly stable method\n",
    "$$ w_{i+1}=w_{i}+\\frac{h}{2}[3(0.5w_{i})-(0.5w_{i-1})] $$\n",
    "Using an two different unstable method\n",
    "$$ w_{i+1}=1.0001w_{i}+\\frac{h}{2}[3(0.5w_{i})-(0.5w_{i-1})] $$\n",
    "$$ w_{i+1}=1.5w_{i}+\\frac{h}{2}[3(0.5w_{i})-(0.5w_{i-1})] $$\n"
   ]
  },
  {
   "cell_type": "code",
   "execution_count": 1,
   "metadata": {},
   "outputs": [],
   "source": [
    "import numpy as np\n",
    "import math \n",
    "\n",
    "%matplotlib inline\n",
    "import matplotlib.pyplot as plt # side-stepping mpl backend\n",
    "import matplotlib.gridspec as gridspec # subplots\n",
    "import warnings\n",
    "\n",
    "warnings.filterwarnings(\"ignore\")"
   ]
  },
  {
   "cell_type": "code",
   "execution_count": 56,
   "metadata": {},
   "outputs": [],
   "source": [
    "tau=0.5\n",
    "N=1000\n",
    "\n",
    "time=np.linspace(0,1,N)\n",
    "\n",
    "W=np.zeros(N)\n",
    "W1=np.zeros(N)\n",
    "W2=np.zeros(N)\n",
    "y=3*np.exp(0.5*time/10)\n",
    "\n",
    "\n",
    "x=np.zeros(N)\n",
    "# Initial Conditions\n",
    "W[0]=3\n",
    "W1[0]=3\n",
    "W2[0]=3\n",
    "W[1]=y[1]\n",
    "W1[1]=y[1]\n",
    "W2[1]=y[1]\n",
    "N1=1000.0\n",
    "h=1/N1\n",
    "\n"
   ]
  },
  {
   "cell_type": "code",
   "execution_count": 57,
   "metadata": {},
   "outputs": [],
   "source": [
    "\n",
    "# MULTISTEP METHODS\n",
    "for i in range (1,N-1):\n",
    "  \n",
    "    W[i+1]=1*W[i]+h/2*(3*0.5*W[i]*W[i]-0.5*W[i-1]*W[i-1])\n",
    "    W1[i+1]=1.001*W1[i]+h/2*(3*0.5*W1[i]*W1[i]-0.5*W1[i-1]*W1[i-1])\n",
    "    W2[i+1]=0.5*W2[i]+h/2*(3*0.5*W2[i]*W2[i]-0.5*W2[i-1]*W2[i-1])"
   ]
  },
  {
   "cell_type": "code",
   "execution_count": 58,
   "metadata": {
    "scrolled": false
   },
   "outputs": [
    {
     "data": {
      "image/png": "[encoded data removed]",
      "text/plain": [
       "<Figure size 720x288 with 3 Axes>"
      ]
     },
     "metadata": {
      "needs_background": "light"
     },
     "output_type": "display_data"
    }
   ],
   "source": [
    "fig = plt.figure(figsize=(10,4))\n",
    "# --- left hand plot\n",
    "ax = fig.add_subplot(1,3,1)\n",
    "plt.plot(time,W,'or')\n",
    "plt.plot(time,y,color='black')\n",
    "\n",
    "#ax.legend(loc='best')\n",
    "plt.title(' Stable')\n",
    "ax = fig.add_subplot(1,3,2)\n",
    "plt.plot(time,W1)\n",
    "plt.plot(time,y,color='black')\n",
    "\n",
    "plt.title('Not Stable')\n",
    "ax = fig.add_subplot(1,3,3)\n",
    "plt.plot(time,W2)\n",
    "plt.title('Not Stable')\n",
    "fig.suptitle(r\"Stability $y'=0.5y^2, \\ \\  y(0)=1$\", fontsize=20)\n",
    "plt.tight_layout()\n",
    "plt.subplots_adjust(top=0.85)"
   ]
  },
  {
   "cell_type": "code",
   "execution_count": null,
   "metadata": {
    "collapsed": true
   },
   "outputs": [],
   "source": []
  }
 ],
 "metadata": {
  "kernelspec": {
   "display_name": "Python 3",
   "language": "python",
   "name": "python3"
  },
  "language_info": {
   "codemirror_mode": {
    "name": "ipython",
    "version": 3
   },
   "file_extension": ".py",
   "mimetype": "text/x-python",
   "name": "python",
   "nbconvert_exporter": "python",
   "pygments_lexer": "ipython3",
   "version": "3.7.3"
  }
 },
 "nbformat": 4,
 "nbformat_minor": 1
}
