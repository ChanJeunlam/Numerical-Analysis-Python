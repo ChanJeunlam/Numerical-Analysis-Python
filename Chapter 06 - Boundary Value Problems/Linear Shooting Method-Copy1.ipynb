{
 "cells": [
  {
   "cell_type": "markdown",
   "metadata": {},
   "source": [
    "# Linear Shooting Method"
   ]
  },
  {
   "cell_type": "markdown",
   "metadata": {},
   "source": [
    "To numerically approximate the Boundary Value Problem\n",
    "$$\n",
    "y^{''}=p(x)y^{'}+q(x)y+g(x) \\ \\ \\ a < x < b $$\n",
    "$$y(a)=\\alpha$$\n",
    "$$y(b) =\\beta$$\n",
    "\n",
    "The Boundary Value Problem is divided into two\n",
    "Initial Value Problems:\n",
    "1. The first 2nd order Intial Value Problem is the same as the original Boundary Value Problem with an extra initial condtion $y_1^{'}(a)=0$. \n",
    "\\begin{equation}\n",
    " y^{''}_1=p(x)y^{'}_1+q(x)y_1+r(x), \\ \\    y_1(a)=\\alpha, \\ \\ \\color{green}{y^{'}_1(a)=0},\\\\\n",
    "\\end{equation}\n",
    "2. The second 2nd order Intial Value Problem is the homogenous form of the original Boundary Value Problem with the initial condtions $y_2(a)=0$ and $y_2^{'}(a)=1$.\n",
    "\n",
    "\\begin{equation}\n",
    "y^{''}_2=p(x)y^{'}_2+q(x)y_2, \\ \\ \\color{green}{y_2(a)=0, \\ \\ y^{'}_2(a)=1}.\n",
    "\\end{equation}\n",
    "\n",
    "combining these results together to get the unique solution \n",
    "\\begin{equation}\n",
    "y(x)=y_1(x)+\\frac{\\beta-y_1(b)}{y_2(b)}y_2(x)\n",
    "\\end{equation}\n",
    "provided that $y_2(b)\\not=0$.\n",
    "\n",
    "The truncation error for the shooting method  is  \n",
    "$$ |y_i - y(x_i)| \\leq K h^n\\left|1+\\frac{w_{1 i}}{u_{1 i}}\\right| $$\n",
    "$O(h^n)$ is the order of the numerical method used to approximate the solution of the Initial Value Problems.\n"
   ]
  },
  {
   "cell_type": "code",
   "execution_count": 1,
   "metadata": {},
   "outputs": [
    {
     "data": {
      "text/html": [
       "<script>\n",
       "code_show=true; \n",
       "function code_toggle() {\n",
       " if (code_show){\n",
       " $('div.input').hide();\n",
       " } else {\n",
       " $('div.input').show();\n",
       " }\n",
       " code_show = !code_show\n",
       "} \n",
       "$( document ).ready(code_toggle);\n",
       "</script>\n",
       "<form action=\"javascript:code_toggle()\"><input type=\"submit\" value=\"Click here to toggle on/off the raw code.\"></form>"
      ],
      "text/plain": [
       "<IPython.core.display.HTML object>"
      ]
     },
     "execution_count": 1,
     "metadata": {},
     "output_type": "execute_result"
    }
   ],
   "source": [
    "import numpy as np\n",
    "import math\n",
    "import matplotlib.pyplot as plt\n",
    "import warnings\n",
    "warnings.filterwarnings(\"ignore\")\n",
    "class ListTable(list):\n",
    "    \"\"\" Overridden list class which takes a 2-dimensional list of \n",
    "        the form [[1,2,3],[4,5,6]], and renders an HTML Table in \n",
    "        IPython Notebook. \"\"\"\n",
    "    \n",
    "    def _repr_html_(self):\n",
    "        html = [\"<table>\"]\n",
    "        for row in self:\n",
    "            html.append(\"<tr>\")\n",
    "            \n",
    "            for col in row:\n",
    "                html.append(\"<td>{0}</td>\".format(col))\n",
    "            \n",
    "            html.append(\"</tr>\")\n",
    "        html.append(\"</table>\")\n",
    "        return ''.join(html)\n",
    "from IPython.display import HTML\n",
    "\n",
    "HTML('''<script>\n",
    "code_show=true; \n",
    "function code_toggle() {\n",
    " if (code_show){\n",
    " $('div.input').hide();\n",
    " } else {\n",
    " $('div.input').show();\n",
    " }\n",
    " code_show = !code_show\n",
    "} \n",
    "$( document ).ready(code_toggle);\n",
    "</script>\n",
    "<form action=\"javascript:code_toggle()\"><input type=\"submit\" value=\"Click here to toggle on/off the raw code.\"></form>''')"
   ]
  },
  {
   "cell_type": "markdown",
   "metadata": {},
   "source": [
    "## Example Boundary Value Problem\n",
    "To illustrate the shooting method we shall apply it to the Boundary Value Problem:\n",
    "$$ y^{''}=2y^{'}+3y-6, $$\n",
    "with boundary conditions\n",
    "$$y(0) = 3, $$\n",
    "$$y(1) = e^3+2, $$\n",
    "with the exact solution is \n",
    "$$y=e^{3x}+2. $$\n",
    "The __boundary value problem__ is broken into two second order __Initial Value Problems:__\n",
    "1. The first 2nd order Intial Value Problem is the same as the original Boundary Value Problem with an extra initial condtion $u^{'}(0)=0$.\n",
    "\\begin{equation}\n",
    "u^{''} =2u'+3u-6, \\ \\ \\ \\ u(0)=3, \\ \\ \\ \\color{green}{u^{'}(0)=0}\n",
    "\\end{equation}\n",
    "2. The second 2nd order Intial Value Problem is the homogenous form of the original Boundary Value Problem with the initial condtions $w^{'}(0)=0$ and $w^{'}(0)=1$.\n",
    "\\begin{equation}\n",
    "w^{''} =2w^{'}+3w, \\ \\ \\ \\ \\color{green}{w(1)=0}, \\ \\ \\ \\color{green}{w^{'}(1)=1}\n",
    "\\end{equation}\n",
    "\n",
    "combining these results of these two intial value problems as a linear sum \n",
    "\\begin{equation}\n",
    "y(x)=u(x)+\\frac{e^{3x}+2-u(1)}{w(1)}w(x)\n",
    "\\end{equation}\n",
    "gives the solution of the Boundary Value Problem."
   ]
  },
  {
   "cell_type": "markdown",
   "metadata": {},
   "source": [
    "## Discrete Axis\n",
    "The stepsize is defined as\n",
    "$$h=\\frac{b-a}{N}$$\n",
    "here it is \n",
    "$$h=\\frac{1-0}{10}$$\n",
    "giving \n",
    "$$x_i=0+0.1 i$$\n",
    "for $i=0,1,...10.$\n",
    "\n"
   ]
  },
  {
   "cell_type": "code",
   "execution_count": 10,
   "metadata": {},
   "outputs": [
    {
     "data": {
      "image/png": "[encoded data removed]",
      "text/plain": [
       "<Figure size 720x288 with 1 Axes>"
      ]
     },
     "metadata": {
      "needs_background": "light"
     },
     "output_type": "display_data"
    }
   ],
   "source": [
    "## BVP\n",
    "N=4\n",
    "h=1/N\n",
    "x=np.linspace(0,1,N+1)\n",
    "fig = plt.figure(figsize=(10,4))\n",
    "plt.plot(x,0*x,'o:',color='red')\n",
    "plt.xlim((0,1))\n",
    "plt.title('Illustration of discrete time points for h=%s'%(h))\n",
    "\n",
    "plt.show()"
   ]
  },
  {
   "cell_type": "markdown",
   "metadata": {},
   "source": [
    "## Initial conditions\n",
    "The initial conditions for the discrete equations are:\n",
    "$$ u_1[0]=3$$\n",
    "$$ \\color{green}{u_2[0]=0}$$\n",
    "$$ \\color{green}{w_1[0]=0}$$\n",
    "$$ \\color{green}{w_2[0]=1}$$"
   ]
  },
  {
   "cell_type": "code",
   "execution_count": 11,
   "metadata": {},
   "outputs": [],
   "source": [
    "U1=np.zeros(N+1)\n",
    "U2=np.zeros(N+1)\n",
    "W1=np.zeros(N+1)\n",
    "W2=np.zeros(N+1)\n",
    "\n",
    "U1[0]=2\n",
    "U2[0]=0\n",
    "\n",
    "W1[0]=0\n",
    "W2[0]=1"
   ]
  },
  {
   "cell_type": "markdown",
   "metadata": {},
   "source": [
    "## Numerical method\n",
    "The Euler method is applied to numerically approximate the solution of the system of the two second order initial value problems they are converted in to two pairs of two first order initial value problems:\n",
    "\n",
    "### 1. Inhomogenous Approximation\n",
    "The plot below shows the numerical approximation for the two first order Intial Value Problems \n",
    "\\begin{equation}\n",
    "u_1^{'} =u_2, \\ \\ \\ \\ u_1(0)=3,\n",
    "\\end{equation}\n",
    "\\begin{equation}\n",
    "u_2^{'} =2u_2+3u_1-6, \\ \\ \\ \\color{green}{u_2(0)=0},\n",
    "\\end{equation}\n",
    "\n",
    "that Euler approximate of the inhomogeneous two Initial Value Problems is :\n",
    "$$u_{1}[i+1]=u_{1}[i] + h u_{2}[i]$$\n",
    "$$u_{2}[i+1]=u_{2}[i] + h (2u_{2}[i]+3u_{1}[i] -6)$$\n",
    "with $u_1[0]=3$ and $\\color{green}{u_2[0]=0}$."
   ]
  },
  {
   "cell_type": "code",
   "execution_count": 12,
   "metadata": {},
   "outputs": [],
   "source": [
    "for i in range (0,N):\n",
    "    U1[i+1]=U1[i]+h*(U2[i])\n",
    "    U2[i+1]=U2[i]+h*(2*U2[i]+3*x[i]*U1[i]+4*x[i]*x[i])\n"
   ]
  },
  {
   "cell_type": "markdown",
   "metadata": {},
   "source": [
    "### Plots\n",
    "The plot below shows the Euler approximation of the two intial value problems $u_1$ on the left and $u2$ on the right."
   ]
  },
  {
   "cell_type": "code",
   "execution_count": 13,
   "metadata": {},
   "outputs": [
    {
     "data": {
      "image/png": "[encoded data removed]",
      "text/plain": [
       "<Figure size 864x288 with 2 Axes>"
      ]
     },
     "metadata": {
      "needs_background": "light"
     },
     "output_type": "display_data"
    }
   ],
   "source": [
    "fig = plt.figure(figsize=(12,4))\n",
    "ax = fig.add_subplot(1,2,1)\n",
    "plt.rc('text', usetex=True)\n",
    "plt.rc('font', family='serif')\n",
    "plt.plot(x,U1,'^')\n",
    "plt.title(r\"$u_1'=u_2, \\ \\  u_1(0)=3$\",fontsize=16)\n",
    "plt.grid(True)\n",
    "\n",
    "ax = fig.add_subplot(1,2,2)\n",
    "plt.rc('text', usetex=True)\n",
    "plt.rc('font', family='serif')\n",
    "plt.plot(x,U2,'v')\n",
    "plt.title(r\"$u_2'=2u_2+3u_1-6, \\ \\  u_2(0)=0$\", fontsize=16)\n",
    "\n",
    "plt.grid(True)\n",
    "plt.show()"
   ]
  },
  {
   "cell_type": "markdown",
   "metadata": {},
   "source": [
    "### 2. Homogenous Approximation\n",
    "The homogeneous Bounday Value Problem is divided into two first order Intial Value Problems\n",
    "\\begin{equation}\n",
    "w_1^{'} =w_2, \\ \\ \\ \\ \\color{green}{w_1(1)=0}\n",
    "\\end{equation}\n",
    "\\begin{equation}\n",
    "w_2^{'} =2w_2+3w_1,  \\ \\ \\ \\color{green}{w_2(1)=1}\n",
    "\\end{equation}\n",
    "\n",
    "The Euler approximation of the homogeneous of the two Initial Value Problem is \n",
    "$$w_{1}[i+1]=w_{1}[i] + h w_{2}[i]$$\n",
    "$$w_{2}[i+1]=w_{2}[i] + h (2w_{2}[i]+3w_{1}[i])$$\n",
    "with $\\color{green}{w_1[0]=0}$ and $\\color{green}{w_2[1]=1}$."
   ]
  },
  {
   "cell_type": "code",
   "execution_count": 14,
   "metadata": {},
   "outputs": [],
   "source": [
    "for i in range (0,N):\n",
    "    W1[i+1]=W1[i]+h*(W2[i])\n",
    "    W2[i+1]=W2[i]+h*(W2[i]+3*x[i]*W1[i])"
   ]
  },
  {
   "cell_type": "markdown",
   "metadata": {},
   "source": [
    "### Homogenous Approximation\n",
    "\n",
    "### Plots\n",
    "The plot below shows the Euler approximation of the two intial value problems $u_1$ on the left and $u2$ on the right."
   ]
  },
  {
   "cell_type": "code",
   "execution_count": 15,
   "metadata": {},
   "outputs": [
    {
     "data": {
      "image/png": "[encoded data removed]",
      "text/plain": [
       "<Figure size 864x288 with 2 Axes>"
      ]
     },
     "metadata": {
      "needs_background": "light"
     },
     "output_type": "display_data"
    }
   ],
   "source": [
    "fig = plt.figure(figsize=(12,4))\n",
    "ax = fig.add_subplot(1,2,1)\n",
    "plt.rc('text', usetex=True)\n",
    "plt.rc('font', family='serif')\n",
    "plt.plot(x,W1,'^')\n",
    "plt.grid(True)\n",
    "plt.title(r\"$w_1'=w_2, \\ \\  w_1(0)=0$\",fontsize=16)\n",
    "\n",
    "ax = fig.add_subplot(1,2,2)\n",
    "plt.rc('text', usetex=True)\n",
    "plt.rc('font', family='serif')\n",
    "plt.plot(x,W2,'v')\n",
    "plt.grid(True)\n",
    "plt.title(r\"$w_2'=2w_2+3w_1, \\ \\  w_2(0)=1$\",fontsize=16)\n",
    "plt.tight_layout()\n",
    "plt.subplots_adjust(top=0.85)\n",
    "\n",
    "plt.show()\n",
    "beta=-1\n",
    "y=U1+(beta-U1[N])/W1[N]*W1"
   ]
  },
  {
   "cell_type": "markdown",
   "metadata": {},
   "source": [
    "## Approximate Solution\n",
    "Combining together the numerical approximation of $u_1$ and $u_2$ as a weighted sum  \n",
    "$$y(x[i])\\approx u_{1}[i] + \\frac{e^3+2-u_{1}[N]}{w_1[N]}w_{1}[i]$$\n",
    "gives the approximate solution of the Boundary Value Problem.\n",
    "\n",
    "\n",
    "The truncation error for the shooting method using the Euler method is  \n",
    "$$ |y_i - y(x[i])| \\leq K h\\left|1+\\frac{w_{1}[i]}{u_{1}[i]}\\right| $$\n",
    "$O(h)$ is the order of the method.\n",
    "\n",
    "The plot below shows the approximate solution of the Boundary Value Problem (left), the exact solution (middle) and the error (right) "
   ]
  },
  {
   "cell_type": "code",
   "execution_count": 16,
   "metadata": {},
   "outputs": [
    {
     "data": {
      "image/png": "[encoded data removed]",
      "text/plain": [
       "<Figure size 864x288 with 3 Axes>"
      ]
     },
     "metadata": {
      "needs_background": "light"
     },
     "output_type": "display_data"
    }
   ],
   "source": [
    "Exact=np.exp(3*x)+2\n",
    "fig = plt.figure(figsize=(12,4))\n",
    "ax = fig.add_subplot(2,3,1)\n",
    "plt.rc('text', usetex=True)\n",
    "plt.rc('font', family='serif')\n",
    "plt.plot(x,y,'o')\n",
    "\n",
    "plt.grid(True)\n",
    "plt.title(r\"Numerical: $u_1+\\frac{e^3+2-u_1(N)}{w_1(N)}w_1$\",\n",
    "          fontsize=16)\n",
    "\n",
    "ax = fig.add_subplot(2,3,2)\n",
    "plt.rc('text', usetex=True)\n",
    "plt.rc('font', family='serif')\n",
    "plt.plot(x,Exact,'ks-')\n",
    "\n",
    "plt.grid(True)\n",
    "plt.title(r\"Exact: $y=e^{3x}+2$\",\n",
    "          fontsize=16)\n",
    "\n",
    "ax = fig.add_subplot(2,3,3)\n",
    "plt.rc('text', usetex=True)\n",
    "plt.rc('font', family='serif')\n",
    "plt.plot(x,abs(y-Exact),'ro')\n",
    "plt.grid(True)\n",
    "plt.title(r\"Error \",fontsize=16)\n",
    "          \n",
    "plt.tight_layout()\n",
    "plt.subplots_adjust(top=0.85)\n",
    "plt.show()"
   ]
  },
  {
   "cell_type": "markdown",
   "metadata": {},
   "source": [
    "### Data\n",
    "The Table below shows that output for $x$, the Euler numerical approximations $U1$, $U2$, $W1$ and $W2$ of the system of four Intial Value Problems, the shooting methods approximate solution $y_i=u_{1 i} + \\frac{e^3+2-u_{1}(x_N)}{w_1(x_N)}w_{1 i}$ and the exact solution of the Boundary Value Problem."
   ]
  },
  {
   "cell_type": "code",
   "execution_count": 9,
   "metadata": {},
   "outputs": [
    {
     "data": {
      "text/html": [
       "<table><tr><td>x</td><td>U1</td><td>U2</td><td>W1</td><td>W2</td><td>Approx</td><td>Exact</td></tr><tr><td>0.0</td><td>2.0</td><td>0.0</td><td>0.0</td><td>1.0</td><td>2.0</td><td>3.0</td></tr><tr><td>0.1</td><td>2.0</td><td>0.0</td><td>0.1</td><td>1.1</td><td>1.76075</td><td>3.34986</td></tr><tr><td>0.2</td><td>2.0</td><td>0.064</td><td>0.21</td><td>1.213</td><td>1.49757</td><td>3.82212</td></tr><tr><td>0.3</td><td>2.006</td><td>0.213</td><td>0.3313</td><td>1.347</td><td>1.21375</td><td>4.4596</td></tr><tr><td>0.4</td><td>2.028</td><td>0.472</td><td>0.46599</td><td>1.511</td><td>0.91278</td><td>5.32012</td></tr><tr><td>0.5</td><td>2.075</td><td>0.874</td><td>0.61713</td><td>1.718</td><td>0.59836</td><td>6.48169</td></tr><tr><td>0.6</td><td>2.162</td><td>1.46</td><td>0.78898</td><td>1.983</td><td>0.27458</td><td>8.04965</td></tr><tr><td>0.7</td><td>2.308</td><td>2.285</td><td>0.98727</td><td>2.323</td><td>-0.05388</td><td>10.16617</td></tr><tr><td>0.8</td><td>2.537</td><td>3.422</td><td>1.21958</td><td>2.763</td><td>-0.38124</td><td>13.02318</td></tr><tr><td>0.9</td><td>2.879</td><td>4.972</td><td>1.49587</td><td>3.332</td><td>-0.70002</td><td>16.87973</td></tr><tr><td>1.0</td><td>3.376</td><td>7.067</td><td>1.82905</td><td>4.069</td><td>-1.0</td><td>22.08554</td></tr></table>"
      ],
      "text/plain": [
       "[['x', 'U1', 'U2', 'W1', 'W2', 'Approx', 'Exact'],\n",
       " [0.0, 2.0, 0.0, 0.0, 1.0, 2.0, 3.0],\n",
       " [0.1, 2.0, 0.0, 0.1, 1.1, 1.76075, 3.34986],\n",
       " [0.2, 2.0, 0.064, 0.21, 1.213, 1.49757, 3.82212],\n",
       " [0.3, 2.006, 0.213, 0.3313, 1.347, 1.21375, 4.4596],\n",
       " [0.4, 2.028, 0.472, 0.46599, 1.511, 0.91278, 5.32012],\n",
       " [0.5, 2.075, 0.874, 0.61713, 1.718, 0.59836, 6.48169],\n",
       " [0.6, 2.162, 1.46, 0.78898, 1.983, 0.27458, 8.04965],\n",
       " [0.7, 2.308, 2.285, 0.98727, 2.323, -0.05388, 10.16617],\n",
       " [0.8, 2.537, 3.422, 1.21958, 2.763, -0.38124, 13.02318],\n",
       " [0.9, 2.879, 4.972, 1.49587, 3.332, -0.70002, 16.87973],\n",
       " [1.0, 3.376, 7.067, 1.82905, 4.069, -1.0, 22.08554]]"
      ]
     },
     "execution_count": 9,
     "metadata": {},
     "output_type": "execute_result"
    }
   ],
   "source": [
    "table = ListTable()\n",
    "table.append(['x', 'U1','U2','W1','W2','Approx','Exact'])\n",
    "for i in range (0,len(x)):\n",
    "    table.append([round(x[i],3), round(U1[i],3), round(U2[i],3),\n",
    "                  round(W1[i],5),round(W2[i],3),\n",
    "                  round(y[i],5),\n",
    "                 round(Exact[i],5)])\n",
    "table"
   ]
  },
  {
   "cell_type": "code",
   "execution_count": null,
   "metadata": {},
   "outputs": [],
   "source": []
  }
 ],
 "metadata": {
  "kernelspec": {
   "display_name": "Python 3",
   "language": "python",
   "name": "python3"
  },
  "language_info": {
   "codemirror_mode": {
    "name": "ipython",
    "version": 3
   },
   "file_extension": ".py",
   "mimetype": "text/x-python",
   "name": "python",
   "nbconvert_exporter": "python",
   "pygments_lexer": "ipython3",
   "version": "3.6.8"
  }
 },
 "nbformat": 4,
 "nbformat_minor": 2
}
