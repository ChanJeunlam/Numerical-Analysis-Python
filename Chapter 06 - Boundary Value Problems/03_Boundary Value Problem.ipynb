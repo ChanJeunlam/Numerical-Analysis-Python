{
 "cells": [
  {
   "cell_type": "markdown",
   "metadata": {},
   "source": [
    "# Finite Difference Method\n",
    "#### John S Butler john.s.butler@tudublin.ie   [Course Notes](https://johnsbutler.netlify.com/files/Teaching/Numerical_Analysis_for_Differential_Equations.pdf)    [Github](https://github.com/john-s-butler-dit/Numerical-Analysis-Python)\n",
    "\n",
    "## Overview\n",
    "This notebook illustrates the finite different method for a linear Boundary Value Problem.\n",
    "## Introduction\n",
    "To numerically approximate a linear Boundary Value Problem\n",
    "$$\n",
    "y^{''}=f(x,y,y^{'}), \\ \\ \\ a < x < b, $$\n",
    "with the boundary conditions$$y(a)=\\alpha,$$ and\n",
    "$$y(b) =\\beta,$$\n",
    "is dicretised to a system of difference equations.\n",
    "the first derivative can be approximated by the difference operators:\n",
    "$$ D^{+}U_{i}=\\frac{U_{i+1}-U_{i}}{h_{i+1}} \\ \\ \\ \\mbox{ Forward,} $$\n",
    "$$ D^{-}U_{i}=\\frac{U_{i}-U_{i-1}}{h_i} \\ \\ \\ \\mbox{ Backward,} $$\n",
    "or\n",
    "$$D^{0}U_{i}=\\frac{U_{i+1}-U_{i-1}}{x_{i+1}-x_{i-1}} \\ \\ \\ \\mbox{ Centered.} $$\n",
    "The second derivative can be approximated by:\n",
    "$$\\delta_x^{2}U_{i}=\\frac{2}{x_{i+1}-x_{i-1}}\\left(\\frac{U_{i+1}-U_{i}}{x_{i+1}-x_{i}}-\\frac{U_{i}-U_{i-1}}{x_{i}-x_{i-1}}\\right)=\\frac{U_{i+1}-2U_{2}+U_{i-1}}{h^2} \\ \\ \\ \\mbox{ Centered in $x$ direction}. $$\n",
    "\n",
    "### Example Boundary Value Problem\n",
    "To illustrate the method we will apply the finite difference method to the this boundary value problem\n",
    "$$  \\frac{d^2 y}{dx^2} = 4y,$$\n",
    "with the boundary conditions\n",
    "$$ y(0)=1.1752,  y(1)=10.0179. $$\n"
   ]
  },
  {
   "cell_type": "code",
   "execution_count": 1,
   "metadata": {},
   "outputs": [
    {
     "data": {
      "text/html": [
       "<script>\n",
       "code_show=true; \n",
       "function code_toggle() {\n",
       " if (code_show){\n",
       " $('div.input').hide();\n",
       " } else {\n",
       " $('div.input').show();\n",
       " }\n",
       " code_show = !code_show\n",
       "} \n",
       "$( document ).ready(code_toggle);\n",
       "</script>\n",
       "<form action=\"javascript:code_toggle()\"><input type=\"submit\" value=\"Click here to toggle on/off the raw code.\"></form>"
      ],
      "text/plain": [
       "<IPython.core.display.HTML object>"
      ]
     },
     "execution_count": 1,
     "metadata": {},
     "output_type": "execute_result"
    }
   ],
   "source": [
    "import numpy as np\n",
    "import math\n",
    "import matplotlib.pyplot as plt\n",
    "import warnings\n",
    "warnings.filterwarnings(\"ignore\")\n",
    "class ListTable(list):\n",
    "    \"\"\" Overridden list class which takes a 2-dimensional list of \n",
    "        the form [[1,2,3],[4,5,6]], and renders an HTML Table in \n",
    "        IPython Notebook. \"\"\"\n",
    "from IPython.core.display import HTML\n",
    "\n",
    "def _repr_html_(self):\n",
    "    html = [\"<table>\"]\n",
    "    for row in self:\n",
    "        html.append(\"<tr>\")\n",
    "\n",
    "        for col in row:\n",
    "            html.append(\"<td>{0}</td>\".format(col))\n",
    "\n",
    "        html.append(\"</tr>\")\n",
    "    html.append(\"</table>\")\n",
    "    return ''.join(html)\n",
    "from IPython.display import HTML    \n",
    "HTML('''<script>\n",
    "code_show=true; \n",
    "function code_toggle() {\n",
    " if (code_show){\n",
    " $('div.input').hide();\n",
    " } else {\n",
    " $('div.input').show();\n",
    " }\n",
    " code_show = !code_show\n",
    "} \n",
    "$( document ).ready(code_toggle);\n",
    "</script>\n",
    "<form action=\"javascript:code_toggle()\"><input type=\"submit\" value=\"Click here to toggle on/off the raw code.\"></form>''')"
   ]
  },
  {
   "cell_type": "markdown",
   "metadata": {},
   "source": [
    "## Discrete Axis\n",
    "The stepsize is defined as\n",
    "$$h=\\frac{b-a}{N}$$\n",
    "here it is \n",
    "$$h=\\frac{1-0}{10}$$\n",
    "giving \n",
    "$$x_i=0+0.1 i$$\n",
    "for $i=0,1,...10.$"
   ]
  },
  {
   "cell_type": "code",
   "execution_count": 2,
   "metadata": {},
   "outputs": [
    {
     "data": {
      "image/png": "[encoded data removed]",
      "text/plain": [
       "<Figure size 720x288 with 1 Axes>"
      ]
     },
     "metadata": {
      "needs_background": "light"
     },
     "output_type": "display_data"
    }
   ],
   "source": [
    "## BVP\n",
    "N=10\n",
    "h=1/N\n",
    "x=np.linspace(0,1,N+1)\n",
    "fig = plt.figure(figsize=(10,4))\n",
    "plt.plot(x,0*x,'o:',color='red')\n",
    "plt.xlim((0,1))\n",
    "plt.xlabel('x',fontsize=16)\n",
    "plt.title('Illustration of discrete time points for h=%s'%(h),fontsize=32)\n",
    "plt.show()"
   ]
  },
  {
   "cell_type": "markdown",
   "metadata": {},
   "source": [
    "## The Difference Equation\n",
    "To convert the boundary problem into a difference equation we use 1st and 2nd order difference operators.\n",
    "The general difference equation is\n",
    "$$ \\frac{1}{h^2}\\left(y_{i-1}-2y_i+y_{i+1}\\right)=4y_i \\ \\ \\ i=1,..,N-1. $$\n",
    "\n",
    "Rearranging the equation we have the system of N-1 equations\n",
    "$$i=1: \\frac{1}{0.1^2}\\color{green}{y_{0}} -\\left(\\frac{2}{0.1^2}+4\\right)y_1 +\\frac{1}{0.1^2} y_{2}=0$$\n",
    "$$i=2: \\frac{1}{0.1^2}y_{1} -\\left(\\frac{2}{0.1^2}+4\\right)y_2 +\\frac{1}{0.1^2} y_{3}=0$$\n",
    "$$ ...$$\n",
    "$$i=8: \\frac{1}{0.1^2}y_{7} -\\left(\\frac{2}{0.1^2}+4\\right)y_8 +\\frac{1}{0.1^2} y_{9}=0$$\n",
    "$$i=9: \\frac{1}{0.1^2}y_{8} -\\left(\\frac{2}{0.1^2}+4\\right)y_9 +\\frac{1}{0.1^2} \\color{green}{y_{10}}=0$$\n",
    "where the green terms are the known boundary conditions.\n",
    "\n",
    "Rearranging the equation we have the system of 9 equations\n",
    "$$i=1:  -\\left(\\frac{2}{0.1^2}+4\\right)y_1 +\\frac{1}{0.1^2} y_{2}=-\\frac{1}{0.1^2}\\color{green}{y_{0}}$$\n",
    "$$i=2: \\frac{1}{0.1^2}y_{1} -\\left(\\frac{2}{0.1^2}+4\\right)y_2 +\\frac{1}{0.1^2} y_{3}=0$$\n",
    "$$ ...$$\n",
    "$$i=8: \\frac{1}{0.1^2}y_{7} -\\left(\\frac{2}{0.1^2}+4\\right)y_8 +\\frac{1}{0.1^2} y_{9}=0$$\n",
    "$$i=9: \\frac{1}{0.1^2}y_{8} -\\left(\\frac{2}{0.1^2}+4\\right)y_9 =-\\frac{1}{0.1^2} \\color{green}{y_{10}}$$\n",
    "where the green terms are the known boundary conditions.\n",
    "This is system can be put into matrix form \n",
    "$$  A\\color{red}{\\mathbf{y}}=\\mathbf{b} $$\n",
    "Where A is a $9\\times 9 $ matrix of the form\n",
    "$$\n",
    "A=\\left(\\begin{array}{ccc ccc ccc} \n",
    "-204&100&0& 0&0&0& 0&0&0\\\\\n",
    "100&-204&100 &0&0&0& 0&0&0\\\\\n",
    "0&100&-204& 100&0&0& 0&0&0\\\\\n",
    ".&.&.& .&.&.& .&.&.\\\\\n",
    ".&.&.& .&.&.& .&.&.\\\\\n",
    "0&0&0& 0&0&0& 100&-204&100\\\\\n",
    "0&0&0& 0&0&0& 0&100&-204\n",
    "\\end{array}\\right)\n",
    "$$\n",
    "which can be represented graphically as:"
   ]
  },
  {
   "cell_type": "code",
   "execution_count": 3,
   "metadata": {},
   "outputs": [
    {
     "data": {
      "image/png": "[encoded data removed]",
      "text/plain": [
       "<Figure size 432x288 with 2 Axes>"
      ]
     },
     "metadata": {
      "needs_background": "light"
     },
     "output_type": "display_data"
    }
   ],
   "source": [
    "A=np.zeros((N-1,N-1))\n",
    "# Diagonal\n",
    "for i in range (0,N-1):\n",
    "    A[i,i]=-(2/(h*h)+4)\n",
    "\n",
    "for i in range (0,N-2):           \n",
    "    A[i+1,i]=1/(h*h)\n",
    "    A[i,i+1]=1/(h*h)\n",
    "    \n",
    "plt.imshow(A)\n",
    "plt.xlabel('i',fontsize=16)\n",
    "plt.ylabel('j',fontsize=16)\n",
    "plt.yticks(np.arange(N-1), np.arange(1,N-0.9,1))\n",
    "plt.xticks(np.arange(N-1), np.arange(1,N-0.9,1))\n",
    "clb=plt.colorbar()\n",
    "clb.set_label('Matrix value')\n",
    "plt.title('Matrix A',fontsize=32)\n",
    "plt.tight_layout()\n",
    "plt.subplots_adjust()\n",
    "plt.show()"
   ]
  },
  {
   "cell_type": "markdown",
   "metadata": {},
   "source": [
    "$\\mathbf{y}$ is the unknown vector which is contains the numerical approximations of the $y$. \n",
    "$$\n",
    "\\color{red}{\\mathbf{y}}=\\color{red}{\n",
    "\\left(\\begin{array}{c} y_1\\\\\n",
    "y_2\\\\\n",
    "y_3\\\\\n",
    ".\\\\\n",
    ".\\\\\n",
    "y_8\\\\\n",
    "y_9\n",
    "\\end{array}\\right).}\n",
    "$$"
   ]
  },
  {
   "cell_type": "code",
   "execution_count": 4,
   "metadata": {},
   "outputs": [],
   "source": [
    "y=np.zeros((N+1))\n",
    "# Boundary Condition\n",
    "y[0]=1.1752\n",
    "y[N]=10.0179"
   ]
  },
  {
   "cell_type": "markdown",
   "metadata": {},
   "source": [
    "and the known right hand side is a known $9\\times 1$ vector with the boundary conditions\n",
    "$$\n",
    "\\mathbf{b}=\\left(\\begin{array}{c}-117.52\\\\\n",
    "0\\\\\n",
    "0\\\\\n",
    ".\\\\\n",
    ".\\\\\n",
    "0\\\\\n",
    "-1001.79 \\end{array}\\right)\n",
    "$$\n"
   ]
  },
  {
   "cell_type": "code",
   "execution_count": 5,
   "metadata": {},
   "outputs": [],
   "source": [
    "b=np.zeros(N-1)\n",
    "\n",
    "# Boundary Condition\n",
    "b[0]=-y[0]/(h*h)\n",
    "b[N-2]=-y[N]/(h*h)\n"
   ]
  },
  {
   "cell_type": "code",
   "execution_count": null,
   "metadata": {},
   "outputs": [],
   "source": []
  },
  {
   "cell_type": "markdown",
   "metadata": {},
   "source": [
    "## Solving the system\n",
    "To solve invert the matrix $A$ such that \n",
    "$$A^{-1}Ay=A^{-1}b$$\n",
    "$$y=A^{-1}b$$\n",
    "The plot below shows the graphical representation of $A^{-1}$."
   ]
  },
  {
   "cell_type": "code",
   "execution_count": 6,
   "metadata": {},
   "outputs": [
    {
     "data": {
      "image/png": "[encoded data removed]",
      "text/plain": [
       "<Figure size 432x288 with 2 Axes>"
      ]
     },
     "metadata": {
      "needs_background": "light"
     },
     "output_type": "display_data"
    }
   ],
   "source": [
    "invA=np.linalg.inv(A)\n",
    "\n",
    "plt.imshow(invA)\n",
    "plt.xlabel('i',fontsize=16)\n",
    "plt.ylabel('j',fontsize=16)\n",
    "plt.yticks(np.arange(N-1), np.arange(1,N-0.9,1))\n",
    "plt.xticks(np.arange(N-1), np.arange(1,N-0.9,1))\n",
    "clb=plt.colorbar()\n",
    "clb.set_label('Matrix value')\n",
    "plt.title(r'Matrix $A^{-1}$',fontsize=32)\n",
    "plt.tight_layout()\n",
    "plt.subplots_adjust()\n",
    "plt.show()\n",
    "\n",
    "\n",
    "y[1:N]=np.dot(invA,b)"
   ]
  },
  {
   "cell_type": "markdown",
   "metadata": {},
   "source": [
    "## Result \n",
    "The plot below shows the approximate solution of the Boundary Value Problem (blue v) and the exact solution (black dashed line)."
   ]
  },
  {
   "cell_type": "code",
   "execution_count": 7,
   "metadata": {},
   "outputs": [
    {
     "data": {
      "image/png": "[encoded data removed]",
      "text/plain": [
       "<Figure size 576x288 with 1 Axes>"
      ]
     },
     "metadata": {
      "needs_background": "light"
     },
     "output_type": "display_data"
    }
   ],
   "source": [
    "fig = plt.figure(figsize=(8,4))\n",
    "\n",
    "plt.plot(x,y,'v',label='Finite Difference')\n",
    "plt.plot(x,np.sinh(2*x+1),'k:',label='exact')\n",
    "plt.xlabel('x')\n",
    "plt.ylabel('y')\n",
    "plt.legend(loc='best')\n",
    "plt.show()"
   ]
  },
  {
   "cell_type": "code",
   "execution_count": null,
   "metadata": {},
   "outputs": [],
   "source": []
  },
  {
   "cell_type": "code",
   "execution_count": null,
   "metadata": {},
   "outputs": [],
   "source": []
  },
  {
   "cell_type": "code",
   "execution_count": null,
   "metadata": {},
   "outputs": [],
   "source": []
  }
 ],
 "metadata": {
  "kernelspec": {
   "display_name": "Python 3",
   "language": "python",
   "name": "python3"
  },
  "language_info": {
   "codemirror_mode": {
    "name": "ipython",
    "version": 3
   },
   "file_extension": ".py",
   "mimetype": "text/x-python",
   "name": "python",
   "nbconvert_exporter": "python",
   "pygments_lexer": "ipython3",
   "version": "3.7.3"
  }
 },
 "nbformat": 4,
 "nbformat_minor": 1
}
